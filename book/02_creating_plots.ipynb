{
 "cells": [
  {
   "cell_type": "markdown",
   "id": "4ad28bda-8fba-41f4-9866-3835525f50e2",
   "metadata": {},
   "source": [
    "# 02: Creating Plots"
   ]
  },
  {
   "cell_type": "code",
   "execution_count": 1,
   "id": "6b37b10f-0b93-4115-b451-086827e74374",
   "metadata": {},
   "outputs": [
    {
     "data": {
      "text/html": [
       "<iframe width=\"560\" height=\"315\" src=\"https://www.youtube.com/embed/MXr3tp6Q1aA\" frameborder=\"0\" allowfullscreen></iframe>"
      ]
     },
     "metadata": {},
     "output_type": "display_data"
    }
   ],
   "source": [
    "library(IRdisplay)\n",
    "display_html('<iframe width=\"560\" height=\"315\" src=\"https://www.youtube.com/embed/MXr3tp6Q1aA\" frameborder=\"0\" allowfullscreen></iframe>')"
   ]
  },
  {
   "cell_type": "markdown",
   "id": "450e7225-5ea5-4772-9976-11130038970e",
   "metadata": {},
   "source": [
    "In this chapter we will look at how to plot data from a NetCDF file. We will look at a 1D data variable as well as some 2D data that we will plot on a map. Let's load in some libraries that we will use."
   ]
  },
  {
   "cell_type": "code",
   "execution_count": 2,
   "id": "04d25e0c-e8e6-47c2-bbb6-c23d4a5b8cb4",
   "metadata": {},
   "outputs": [
    {
     "ename": "ERROR",
     "evalue": "Error in library(ggplot2): there is no package called ‘ggplot2’\n",
     "output_type": "error",
     "traceback": [
      "Error in library(ggplot2): there is no package called ‘ggplot2’\nTraceback:\n",
      "1. library(ggplot2)"
     ]
    }
   ],
   "source": [
    "#install.packages(\"RNetCDF\")\n",
    "#install.packages(\"ggplot2\")\n",
    "library(RNetCDF)\n",
    "library(ggplot2)"
   ]
  },
  {
   "cell_type": "markdown",
   "id": "cf318410-d7c9-4b2f-8f7f-c803e090c17a",
   "metadata": {},
   "source": [
    "## 1D data\n",
    "\n",
    "We will start by looking at a depth profile of Chlorophyll A data. If you use these data in a publication, please cite them in your list of references with the following citation:\n",
    "\n",
    "Anna Vader, Lucie Goraguer, Luke Marsden (2022) Chlorophyll A and phaeopigments Nansen Legacy cruise 2021708 station P4 (NLEG11) 2021-07-18T08:50:42 https://doi.org/10.21335/NMDC-1248407516-P4(NLEG11)"
   ]
  },
  {
   "cell_type": "code",
   "execution_count": null,
   "id": "ab53b4e7-5f33-4c8a-9b78-3eca211e8e3c",
   "metadata": {},
   "outputs": [],
   "source": [
    "url <- 'https://opendap1.nodc.no/opendap/chemistry/point/cruise/nansen_legacy/2021708/Chlorophyll_A_and_phaeopigments_Nansen_Legacy_cruise_2021708_station_P4_NLEG11_20210718T085042.nc'\n",
    "data <- open.nc(url)\n",
    "\n",
    "depth <- var.get.nc(data, 'DEPTH')\n",
    "chla_total <- var.get.nc(data, 'CHLOROPHYLL_A_TOTAL')"
   ]
  },
  {
   "cell_type": "markdown",
   "id": "41e22c63-2874-4b40-83c9-a2efe078abd4",
   "metadata": {},
   "source": [
    "Let's create a quick line plot."
   ]
  },
  {
   "cell_type": "code",
   "execution_count": null,
   "id": "afd128ec-ff8a-41cf-b4bb-2b3bff016aeb",
   "metadata": {},
   "outputs": [],
   "source": [
    "plot(\n",
    "  chla_total,\n",
    "  depth,\n",
    "  type = \"l\",\n",
    "  xlab = \"Chlorophyll A\",\n",
    "  ylab = \"Depth\",\n",
    "  main = \"Line Plot of Depth vs Chla_total\",\n",
    ")"
   ]
  },
  {
   "cell_type": "markdown",
   "id": "7077c977-e986-43fd-adf3-f2c7bae030e7",
   "metadata": {},
   "source": [
    "Let's turn that around so depth is increasing going downwards."
   ]
  },
  {
   "cell_type": "code",
   "execution_count": null,
   "id": "797362e9-b22c-4d77-a054-7ce3641ca75e",
   "metadata": {
    "scrolled": true
   },
   "outputs": [],
   "source": [
    "plot(\n",
    "  chla_total,\n",
    "  depth,\n",
    "  type = \"l\",\n",
    "  xlab = \"Chlorophyll A\",\n",
    "  ylab = \"Depth\",\n",
    "  main = \"Line Plot of Depth vs Chla_total\",\n",
    "  ylim = c(max(depth), min(depth))\n",
    ")"
   ]
  },
  {
   "cell_type": "markdown",
   "id": "012fc850-d7c0-4588-abe4-5e347ee8b889",
   "metadata": {},
   "source": [
    "We can alternatively make a scatter plot."
   ]
  },
  {
   "cell_type": "code",
   "execution_count": null,
   "id": "aaa85b21-1ea6-4e2b-9fed-e8fe39666909",
   "metadata": {},
   "outputs": [],
   "source": [
    "plot(\n",
    "  chla_total,\n",
    "  depth,\n",
    "  type = \"p\",  # Change from \"l\" to \"p\" for scatter plot\n",
    "  xlab = \"Chlorophyll A\",\n",
    "  ylab = \"Depth\",\n",
    "  main = \"Scatter Plot of Depth vs Chla_total\",\n",
    "  ylim = c(max(depth), min(depth))\n",
    ")"
   ]
  },
  {
   "cell_type": "code",
   "execution_count": null,
   "id": "82684438-d47e-4a7c-8b25-a62b3ef91845",
   "metadata": {},
   "outputs": [],
   "source": [
    "# Enhanced Scatter Plot\n",
    "plot(\n",
    "  chla_total,\n",
    "  depth,\n",
    "  type = \"p\",  # Scatter plot\n",
    "  pch = 19,    # Solid circle points\n",
    "  col = \"blue\",# Point color\n",
    "  cex = 1.5,   # Point size\n",
    "  xlab = \"\",\n",
    "  ylab = \"\",\n",
    "  ylim = c(350, 0),\n",
    "  xlim = c(0, 7),\n",
    "  las = 1,     # Horizontal y-axis labels\n",
    ")\n",
    "\n",
    "# Add a grid for better readability\n",
    "grid(col = \"lightgray\", lty = \"dotted\", lwd = 1)\n",
    "\n",
    "# Customize axis labels and main title\n",
    "title(\n",
    "  main = \"Scatter Plot of Depth vs Chlorophyll A\",\n",
    "  col.main = \"darkblue\",\n",
    "  font.main = 4,  # Bold and italic main title\n",
    "  cex.main = 1.2  # Main title size\n",
    ")\n",
    "title(\n",
    "  xlab = \"Chlorophyll A (µg/L)\",\n",
    "  ylab = \"Depth (m)\",\n",
    "  col.lab = \"darkred\",\n",
    "  font.lab = 2,   # Bold axis labels\n",
    "  cex.lab = 1.2   # Axis labels size\n",
    ")\n",
    "\n"
   ]
  },
  {
   "cell_type": "code",
   "execution_count": null,
   "id": "4903d9f5-c1a2-4af4-b3ad-d8d0c5c159f4",
   "metadata": {},
   "outputs": [],
   "source": [
    "# Enhanced Line Plot\n",
    "plot(\n",
    "  chla_total,\n",
    "  depth,\n",
    "  type = \"l\",  # Line plot\n",
    "  lwd = 2,     # Line width\n",
    "  col = \"blue\",# Line color\n",
    "  xlab = \"\",\n",
    "  ylab = \"\",\n",
    "  ylim = c(350, 0),\n",
    "  xlim = c(0, 7),\n",
    "  las = 1     # Horizontal y-axis labels\n",
    ")\n",
    "\n",
    "# Add a grid for better readability\n",
    "grid(col = \"lightgray\", lty = \"dotted\", lwd = 1)\n",
    "\n",
    "# Customize axis labels and main title\n",
    "title(\n",
    "  main = \"Line Plot of Depth vs Chlorophyll A\",\n",
    "  col.main = \"darkblue\",\n",
    "  font.main = 4,  # Bold and italic main title\n",
    "  cex.main = 1.2  # Main title size\n",
    ")\n",
    "title(\n",
    "  xlab = \"Chlorophyll A (µg/L)\",\n",
    "  ylab = \"Depth (m)\",\n",
    "  col.lab = \"darkred\",\n",
    "  font.lab = 2,   # Bold axis labels\n",
    "  cex.lab = 1.2   # Axis labels size\n",
    ")\n",
    "\n",
    "# Add points on the line plot\n",
    "points(\n",
    "  chla_total, \n",
    "  depth, \n",
    "  pch = 19, \n",
    "  col = \"red\", \n",
    "  cex = 1.5\n",
    ")"
   ]
  },
  {
   "cell_type": "markdown",
   "id": "b159dc48-29c8-4837-bef2-10ff93e62980",
   "metadata": {},
   "source": [
    "## Plotting 2D data on a map\n",
    "\n",
    "We will load in some multidimensional data now. This is a dataset of global surface temperature anomalies from the NOAA Global Surface Temperature Dataset (NOAAGlobalTemp), Version 5.0. We introduced these data in [tutorial #01](01_opening_and_understanding.ipynb).\n",
    "\n",
    "https://www.ncei.noaa.gov/access/metadata/landing-page/bin/iso?id=gov.noaa.ncdc:C01585\n",
    "\n",
    "H.-M. Zhang, B. Huang, J. H. Lawrimore, M. J. Menne, and T. M. Smith (2019): NOAA Global Surface Temperature Dataset (NOAAGlobalTemp), Version 5.0. NOAA National Centers for Environmental Information. doi:10.25921/9qth-2p70 Accessed 2024-04-09."
   ]
  },
  {
   "cell_type": "code",
   "execution_count": null,
   "id": "b2852b2e-6971-4751-a7ef-aa5302912066",
   "metadata": {},
   "outputs": [],
   "source": [
    "url <- 'https://www.ncei.noaa.gov/thredds/dodsC/noaa-global-temp-v5/NOAAGlobalTemp_v5.0.0_gridded_s188001_e202212_c20230108T133308.nc'\n",
    "data <- open.nc(url)"
   ]
  },
  {
   "cell_type": "markdown",
   "id": "b8a10d7f-819b-4f16-86b4-61001bf4721b",
   "metadata": {},
   "source": [
    "We want to access the *anom* variable and extract data only for a data of our choice. Let's repeat the steps we took in [tutorial #01](01_opening_and_understanding.ipynb) to do this."
   ]
  },
  {
   "cell_type": "code",
   "execution_count": null,
   "id": "d3d8a0b5-87d1-4a52-bd39-3f777c377ecd",
   "metadata": {},
   "outputs": [],
   "source": [
    "latitude <- var.get.nc(data, 'lat')\n",
    "longitude <- var.get.nc(data, 'lon')\n",
    "\n",
    "desired_date <- as.Date('2020-01-01')\n",
    "days_since_1800 <- as.numeric(difftime(desired_date, as.Date('1800-01-01'), units = 'days'))\n",
    "\n",
    "time <- var.get.nc(data, \"time\") \n",
    "# Finding index of the value\n",
    "time_index <- which(time == days_since_1800)\n",
    "\n",
    "anom <- var.get.nc(data, 'anom', start=c(NA, NA, 1, time_index), count=c(NA,NA,1,1))"
   ]
  },
  {
   "cell_type": "markdown",
   "id": "ca6ee6d6-82da-4543-b07b-630fa05a672b",
   "metadata": {},
   "source": [
    "Now let's make a very basic plot of the data."
   ]
  },
  {
   "cell_type": "code",
   "execution_count": null,
   "id": "e126108e-04aa-4580-a5d5-28ba380bfc11",
   "metadata": {},
   "outputs": [],
   "source": [
    "image(longitude, latitude, anom)"
   ]
  },
  {
   "cell_type": "markdown",
   "id": "525f828f-4232-4e5c-92d9-5710bea3cac3",
   "metadata": {},
   "source": [
    "That is very basic! Let's use ggplot.\n",
    "\n",
    "The longitudes need to be adjusted to between -180° and 180° to align with the coastlines in the map.\n",
    "\n",
    "Let's also switch to a white-centred colour palette."
   ]
  },
  {
   "cell_type": "code",
   "execution_count": null,
   "id": "9d791798-e078-4e65-a561-2bdbe7e2314c",
   "metadata": {},
   "outputs": [],
   "source": [
    "# Convert data to data frame\n",
    "df <- expand.grid(lon = longitude, lat = latitude)\n",
    "df$anom <- as.vector(anom)\n",
    "\n",
    "# Create the plot using ggplot2\n",
    "ggplot(df, aes(x = lon, y = lat, fill = anom)) +\n",
    "  geom_tile() +\n",
    "  scale_fill_gradient2(low = \"blue\", mid = \"white\", high = \"red\", midpoint = 0, limits = c(min(df$anom), max(df$anom)))"
   ]
  },
  {
   "cell_type": "markdown",
   "id": "ab91dfcd-ec20-4d40-8ee6-e548b4f5512b",
   "metadata": {},
   "source": [
    "Let's add the coastlines and country borders now."
   ]
  },
  {
   "cell_type": "code",
   "execution_count": null,
   "id": "56dedfb3-84f4-407f-9f6a-18a839d6dc0a",
   "metadata": {},
   "outputs": [],
   "source": [
    "# Create the plot using ggplot2\n",
    "ggplot(df, aes(x = lon, y = lat, fill = anom)) +\n",
    "  geom_tile() +\n",
    "  scale_fill_gradient2(low = \"blue\", mid = \"white\", high = \"red\", midpoint = 0, limits = c(min(df$anom), max(df$anom))) +\n",
    "  geom_polygon(data = map_data(\"world\"), aes(x = long, y = lat, group = group),\n",
    "               color = \"black\", fill = NA)"
   ]
  },
  {
   "cell_type": "markdown",
   "id": "8db00843-c258-4480-82bd-cd6411d4cee5",
   "metadata": {},
   "source": [
    "We need to shift the longitude values in our dataframe to be between -180 and 180 instead of 0 and 360-"
   ]
  },
  {
   "cell_type": "code",
   "execution_count": null,
   "id": "95e48535-24d0-4a88-aea6-325dc4746b85",
   "metadata": {},
   "outputs": [],
   "source": [
    "# Adjust lon variable\n",
    "longitude_shifted <- ifelse(longitude > 180, longitude - 360, longitude)\n",
    "\n",
    "# Convert data to data frame\n",
    "df <- expand.grid(lon = longitude_shifted, lat = latitude)\n",
    "df$anom <- as.vector(anom)\n",
    "\n",
    "# Create the plot using ggplot2\n",
    "ggplot(df, aes(x = lon, y = lat, fill = anom)) +\n",
    "  geom_tile() +\n",
    "  scale_fill_gradient2(low = \"blue\", mid = \"white\", high = \"red\", midpoint = 0, limits = c(min(df$anom), max(df$anom))) +\n",
    "  geom_polygon(data = map_data(\"world\"), aes(x = long, y = lat, group = group),\n",
    "               color = \"black\", fill = NA)"
   ]
  },
  {
   "cell_type": "markdown",
   "id": "ad9644b6-c417-46d7-8c05-5858f3fedb4d",
   "metadata": {},
   "source": [
    "We can adjust the aspect ratio"
   ]
  },
  {
   "cell_type": "code",
   "execution_count": null,
   "id": "e8ac64b2-dd6f-42ff-a230-9a454776ee10",
   "metadata": {},
   "outputs": [],
   "source": [
    "ggplot(df, aes(x = lon, y = lat, fill = anom)) +\n",
    "  geom_tile() +\n",
    "  scale_fill_gradient2(low = \"blue\", mid = \"white\", high = \"red\", midpoint = 0, limits = c(min(df$anom), max(df$anom))) +\n",
    "  coord_fixed(ratio = 1.5) +\n",
    "  geom_polygon(data = map_data(\"world\"), aes(x = long, y = lat, group = group),\n",
    "               color = \"black\", fill = NA)"
   ]
  },
  {
   "cell_type": "markdown",
   "id": "047f49b7-35c3-4313-9630-74088a63dbec",
   "metadata": {},
   "source": [
    "Let's remove the grey box by using `theme_minimal`."
   ]
  },
  {
   "cell_type": "code",
   "execution_count": null,
   "id": "1c30f61e-ddf7-4fd9-9849-50e39747f086",
   "metadata": {},
   "outputs": [],
   "source": [
    "ggplot(df, aes(x = lon, y = lat, fill = anom)) +\n",
    "  geom_tile() +\n",
    "  scale_fill_gradient2(low = \"blue\", mid = \"white\", high = \"red\", midpoint = 0, limits = c(min(df$anom), max(df$anom))) +\n",
    "  coord_fixed(ratio = 1.5) +\n",
    "  theme_minimal() +\n",
    "  geom_polygon(data = map_data(\"world\"), aes(x = long, y = lat, group = group),\n",
    "               color = \"black\", fill = NA)"
   ]
  },
  {
   "cell_type": "markdown",
   "id": "d1418f8d-e6ed-4595-ae77-c51299d05e67",
   "metadata": {},
   "source": [
    "We might also want to change the label on our colour palette to something more understandable. Let's also move the colour bar to below the axis."
   ]
  },
  {
   "cell_type": "code",
   "execution_count": null,
   "id": "f215c885-370a-45c4-9fcd-8530c8cb0e5a",
   "metadata": {},
   "outputs": [],
   "source": [
    "ggplot(df, aes(x = lon, y = lat, fill = anom)) +\n",
    "  geom_tile() +\n",
    "  scale_fill_gradient2(low = \"blue\", mid = \"white\", high = \"red\", midpoint = 0, limits = c(min(df$anom), max(df$anom))) +\n",
    "  coord_fixed(ratio = 1.5) +\n",
    "  theme_minimal() +\n",
    "  labs(fill = \"Temperature anomaly (°C)\") +\n",
    "  theme(legend.position = \"bottom\") +\n",
    "  geom_polygon(data = map_data(\"world\"), aes(x = long, y = lat, group = group),\n",
    "               color = \"black\", fill = NA)"
   ]
  },
  {
   "cell_type": "markdown",
   "id": "7ef5c61f-df51-4d74-a484-8f7658d15d16",
   "metadata": {},
   "source": [
    "Finally, let's add a title."
   ]
  },
  {
   "cell_type": "code",
   "execution_count": null,
   "id": "09af5e70-7ba1-4b2f-bcb6-2db49ac7230a",
   "metadata": {},
   "outputs": [],
   "source": [
    "ggplot(df, aes(x = lon, y = lat, fill = anom)) +\n",
    "  geom_tile() +\n",
    "  scale_fill_gradient2(low = \"blue\", mid = \"white\", high = \"red\", midpoint = 0, limits = c(-10,10)) +\n",
    "  coord_fixed(ratio = 1.5) +\n",
    "  theme_minimal() +\n",
    "  labs(fill = \"Temperature anomaly (°C)\") +\n",
    "  theme(legend.position = \"bottom\") +\n",
    "  ggtitle(paste(\"Temperature anomalies \", desired_date)) +\n",
    "  geom_polygon(data = map_data(\"world\"), aes(x = long, y = lat, group = group),\n",
    "               color = \"black\", fill = NA)"
   ]
  },
  {
   "cell_type": "markdown",
   "id": "22d61d18-59bc-4369-ad95-f72fe66c48c6",
   "metadata": {},
   "source": [
    "Maybe we want to zoom in on a certain region."
   ]
  },
  {
   "cell_type": "code",
   "execution_count": null,
   "id": "745cf387-c11c-4902-9d6e-89fe0f986ddb",
   "metadata": {},
   "outputs": [],
   "source": [
    "ggplot(df, aes(x = lon, y = lat, fill = anom)) +\n",
    "  geom_tile() +\n",
    "  scale_fill_gradient2(low = \"blue\", mid = \"white\", high = \"red\", midpoint = 0, limits = c(min(df$anom), max(df$anom))) +\n",
    "  coord_fixed(ratio = 1.5) +\n",
    "  theme_minimal() +\n",
    "  labs(fill = \"Temperature anomaly (°C)\") +\n",
    "  theme(legend.position = \"bottom\") +\n",
    "  ggtitle(paste(\"Temperature anomalies \", desired_date)) +\n",
    "  xlim(-20, 50) +\n",
    "  ylim(35, 75) +\n",
    "  geom_polygon(data = map_data(\"world\"), aes(x = long, y = lat, group = group),\n",
    "               color = \"black\", fill = NA)"
   ]
  },
  {
   "cell_type": "markdown",
   "id": "c4b9a98d-74f9-4704-b0d6-e01ea3dcc308",
   "metadata": {},
   "source": [
    "Finally, let's write that as a function so you can easily run it for whichever date you want to. Here's the whole code including the bits before the function, so you can easily take this with you and run it yourself.\n",
    "\n",
    "I am going to manually set the limits on the color bar this time so we are using the same range for each plot"
   ]
  },
  {
   "cell_type": "code",
   "execution_count": null,
   "id": "b4675fb5-9ced-4725-9521-3f7fc2f50195",
   "metadata": {},
   "outputs": [],
   "source": [
    "library(RNetCDF)\n",
    "library(ggplot2)\n",
    "\n",
    "url <- 'https://www.ncei.noaa.gov/thredds/dodsC/noaa-global-temp-v5/NOAAGlobalTemp_v5.0.0_gridded_s188001_e202212_c20230108T133308.nc'\n",
    "data <- open.nc(url)\n",
    "\n",
    "plot_temp_anomaly <- function(desired_date, data) {\n",
    "\n",
    "  latitude <- var.get.nc(data, 'lat')\n",
    "  longitude <- var.get.nc(data, 'lon')\n",
    "  longitude_shifted <- ifelse(longitude > 180, longitude - 360, longitude) # Adjust lon variable\n",
    "  time <- var.get.nc(data, \"time\")\n",
    "  \n",
    "  days_since_1800 <- as.numeric(difftime(desired_date, as.Date('1800-01-01'), units = 'days'))\n",
    "  \n",
    "  # Finding index of the value\n",
    "  time_index <- which(time == days_since_1800)\n",
    "  \n",
    "  anom <- var.get.nc(data, 'anom', start=c(NA, NA, 1, time_index), count=c(NA,NA,1,1))\n",
    "  \n",
    "  # Convert data to data frame\n",
    "  df <- expand.grid(lon = longitude_shifted, lat = latitude)\n",
    "  df$anom <- as.vector(anom)\n",
    "  \n",
    "  ggplot(df, aes(x = lon, y = lat, fill = anom)) +\n",
    "    geom_tile() +\n",
    "    scale_fill_gradient2(low = \"blue\", mid = \"white\", high = \"red\", midpoint = 0, limits = c(-10,10)) +\n",
    "    coord_fixed(ratio = 1.5) +\n",
    "    theme_minimal() +\n",
    "    labs(fill = \"Temperature anomaly (°C)\") +\n",
    "    theme(legend.position = \"bottom\") +\n",
    "    ggtitle(paste(\"Temperature anomalies \", desired_date)) +\n",
    "    xlim(-180, 180) +\n",
    "    ylim(-90, 90) +\n",
    "    geom_polygon(data = map_data(\"world\"), aes(x = long, y = lat, group = group),\n",
    "                 color = \"black\", fill = NA)\n",
    "}\n",
    "\n",
    "# Example usage:\n",
    "plot_temp_anomaly(as.Date('1960-01-01'), data)\n",
    "plot_temp_anomaly(as.Date('1990-01-01'), data)\n",
    "plot_temp_anomaly(as.Date('2020-01-01'), data)"
   ]
  },
  {
   "cell_type": "markdown",
   "id": "eccf99a6-f89b-43bd-9ce7-be3e236cadd2",
   "metadata": {},
   "source": [
    "This is only a short demonstration of how easy it can be to plot data out of a CF-NetCDF file. R is great for plotting data and data analysis and there are many good tutorials online, so go and explore!\n",
    "\n",
    "## How to cite this course\n",
    "\n",
    "If you think this course contributed to the work you are doing, consider citing it in your list of references. Here is a recommended citation:\n",
    "\n",
    "Marsden, L. (2024, May 31). NetCDF in R - from beginner to pro. Zenodo. https://doi.org/10.5281/zenodo.11400754\n",
    "\n",
    "And you can navigate to the publication and export the citation in different styles and formats by clicking the icon below.\n",
    "\n",
    "[![DOI](https://zenodo.org/badge/DOI/10.5281/zenodo.11400754.svg)](https://doi.org/10.5281/zenodo.11400754)"
   ]
  }
 ],
 "metadata": {
  "kernelspec": {
   "display_name": "R",
   "language": "R",
   "name": "ir"
  },
  "language_info": {
   "codemirror_mode": "r",
   "file_extension": ".r",
   "mimetype": "text/x-r-source",
   "name": "R",
   "pygments_lexer": "r",
   "version": "4.3.3"
  }
 },
 "nbformat": 4,
 "nbformat_minor": 5
}
