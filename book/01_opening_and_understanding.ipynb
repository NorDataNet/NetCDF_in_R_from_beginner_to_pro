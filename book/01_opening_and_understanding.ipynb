{
 "cells": [
  {
   "cell_type": "markdown",
   "id": "28942b27-496e-4e36-ab31-ab1a416cd777",
   "metadata": {},
   "source": [
    "# 01: Opening and understanding"
   ]
  },
  {
   "cell_type": "code",
   "execution_count": 12,
   "id": "3c586abf-ffa4-4908-924e-8550999f155e",
   "metadata": {
    "vscode": {
     "languageId": "r"
    }
   },
   "outputs": [
    {
     "data": {
      "text/html": [
       "<iframe width=\"560\" height=\"315\" src=\"https://www.youtube.com/embed/Xer1XBm3sns\" frameborder=\"0\" allowfullscreen></iframe>"
      ]
     },
     "metadata": {},
     "output_type": "display_data"
    }
   ],
   "source": [
    "library(IRdisplay)\n",
    "display_html('<iframe width=\"560\" height=\"315\" src=\"https://www.youtube.com/embed/Xer1XBm3sns\" frameborder=\"0\" allowfullscreen></iframe>')"
   ]
  },
  {
   "cell_type": "markdown",
   "id": "0a3fab42-0dbf-488a-97c3-11643aabc21d",
   "metadata": {},
   "source": [
    "In this notebook we will go through how to open a NetCDF file in R. We will also try to understand the file and extract the data and metadata from it.\n",
    "\n",
    "Firstly, let’s import the modules that we will work with."
   ]
  },
  {
   "cell_type": "code",
   "execution_count": 2,
   "id": "796f1c01-f57c-4047-93c8-133796f4a1d0",
   "metadata": {
    "vscode": {
     "languageId": "r"
    }
   },
   "outputs": [],
   "source": [
    "if (!requireNamespace(\"RNetCDF\", quietly = TRUE)) {\n",
    "  install.packages(\"RNetCDF\")\n",
    "}\n",
    "library(RNetCDF)"
   ]
  },
  {
   "cell_type": "markdown",
   "id": "f8d44233-c2a3-4c3f-b12f-37b52ecfc03f",
   "metadata": {},
   "source": [
    "You can find the documentation for the RNetCDF package here:\n",
    "https://cran.r-project.org/web/packages/RNetCDF/RNetCDF.pdf\n",
    "\n",
    "The syntax for functions in RNetCDF is very repetitive as you will learn throughout this course, which makes it easy to learn. However, there are other libraries you can use like ncdf4.\n",
    "https://cran.r-project.org/web/packages/ncdf4/ncdf4.pdf\n",
    "\n",
    "In this tutorial, we will stick to RNetCDF."
   ]
  },
  {
   "cell_type": "markdown",
   "id": "443f18ea-dfe5-4910-8e3a-f8a49d1f6493",
   "metadata": {},
   "source": [
    "## Importing some data from OPeNDAP\n",
    "\n",
    "Have you heard of OPeNDAP? Try running the cell below.\n",
    "\n",
    "OPeNDAP, which stands for “Open-source Project for a Network Data Access Protocol,” makes it easier to access and share scientific data over the internet. One advantage of using OPeNDAP is that you don’t need to download the data to use them!"
   ]
  },
  {
   "cell_type": "code",
   "execution_count": 3,
   "id": "b7ca19e6-f950-4285-b99c-5b37531f0d35",
   "metadata": {
    "vscode": {
     "languageId": "r"
    }
   },
   "outputs": [],
   "source": [
    "netcdf_file <- 'https://www.ncei.noaa.gov/thredds/dodsC/noaa-global-temp-v5/NOAAGlobalTemp_v5.0.0_gridded_s188001_e202212_c20230108T133308.nc'\n",
    "data <- open.nc(netcdf_file)"
   ]
  },
  {
   "cell_type": "markdown",
   "id": "1cf8310d-96ca-4b8d-bea2-06255b95505f",
   "metadata": {},
   "source": [
    "If we want some quick information about the file we can make an inquiry"
   ]
  },
  {
   "cell_type": "code",
   "execution_count": 4,
   "id": "e1bbb597-724b-44e1-a0b1-44d5c30b675a",
   "metadata": {
    "vscode": {
     "languageId": "r"
    }
   },
   "outputs": [
    {
     "data": {
      "text/html": [
       "<dl>\n",
       "\t<dt>$ndims</dt>\n",
       "\t\t<dd>4</dd>\n",
       "\t<dt>$nvars</dt>\n",
       "\t\t<dd>5</dd>\n",
       "\t<dt>$ngatts</dt>\n",
       "\t\t<dd>66</dd>\n",
       "\t<dt>$unlimdimid</dt>\n",
       "\t\t<dd>&lt;NA&gt;</dd>\n",
       "\t<dt>$format</dt>\n",
       "\t\t<dd>'classic'</dd>\n",
       "\t<dt>$libvers</dt>\n",
       "\t\t<dd>'4.8.1 of Sep 29 2021 09:36:14 $'</dd>\n",
       "</dl>\n"
      ],
      "text/latex": [
       "\\begin{description}\n",
       "\\item[\\$ndims] 4\n",
       "\\item[\\$nvars] 5\n",
       "\\item[\\$ngatts] 66\n",
       "\\item[\\$unlimdimid] <NA>\n",
       "\\item[\\$format] 'classic'\n",
       "\\item[\\$libvers] '4.8.1 of Sep 29 2021 09:36:14 \\$'\n",
       "\\end{description}\n"
      ],
      "text/markdown": [
       "$ndims\n",
       ":   4\n",
       "$nvars\n",
       ":   5\n",
       "$ngatts\n",
       ":   66\n",
       "$unlimdimid\n",
       ":   &lt;NA&gt;\n",
       "$format\n",
       ":   'classic'\n",
       "$libvers\n",
       ":   '4.8.1 of Sep 29 2021 09:36:14 $'\n",
       "\n",
       "\n"
      ],
      "text/plain": [
       "$ndims\n",
       "[1] 4\n",
       "\n",
       "$nvars\n",
       "[1] 5\n",
       "\n",
       "$ngatts\n",
       "[1] 66\n",
       "\n",
       "$unlimdimid\n",
       "[1] NA\n",
       "\n",
       "$format\n",
       "[1] \"classic\"\n",
       "\n",
       "$libvers\n",
       "[1] \"4.8.1 of Sep 29 2021 09:36:14 $\"\n"
      ]
     },
     "metadata": {},
     "output_type": "display_data"
    }
   ],
   "source": [
    "file.inq.nc(data)"
   ]
  },
  {
   "cell_type": "markdown",
   "id": "a10c5685-5297-4c0d-b43f-19b6084d9a8f",
   "metadata": {},
   "source": [
    "The inquiry is a list of key value pairs, so we can access the values like this"
   ]
  },
  {
   "cell_type": "code",
   "execution_count": 5,
   "id": "317816be-4fb6-4cc2-93fd-52b27b43d35e",
   "metadata": {
    "vscode": {
     "languageId": "r"
    }
   },
   "outputs": [
    {
     "data": {
      "text/html": [
       "<strong>$format</strong> = 'classic'"
      ],
      "text/latex": [
       "\\textbf{\\$format} = 'classic'"
      ],
      "text/markdown": [
       "**$format** = 'classic'"
      ],
      "text/plain": [
       "$format\n",
       "[1] \"classic\"\n"
      ]
     },
     "metadata": {},
     "output_type": "display_data"
    }
   ],
   "source": [
    "file.inq.nc(data)['format']"
   ]
  },
  {
   "cell_type": "markdown",
   "id": "3357be1d-57ba-49ab-b6d1-4f10c864c0e3",
   "metadata": {},
   "source": [
    "Though often we will want more information, so we can do this instead:"
   ]
  },
  {
   "cell_type": "code",
   "execution_count": 6,
   "id": "531dc480-5daa-4de0-9f66-b204ddbffcd1",
   "metadata": {
    "vscode": {
     "languageId": "r"
    }
   },
   "outputs": [
    {
     "name": "stdout",
     "output_type": "stream",
     "text": [
      "netcdf classic {\n",
      "dimensions:\n",
      "\tlat = 36 ;\n",
      "\tlon = 72 ;\n",
      "\ttime = 1716 ;\n",
      "\tz = 1 ;\n",
      "variables:\n",
      "\tNC_FLOAT time(time) ;\n",
      "\t\tNC_CHAR time:long_name = \"reference time of global temperature anomalies\" ;\n",
      "\t\tNC_CHAR time:standard_name = \"time\" ;\n",
      "\t\tNC_CHAR time:coverage_content_type = \"coordinate\" ;\n",
      "\t\tNC_CHAR time:units = \"days since 1800-01-01 00:00:00\" ;\n",
      "\t\tNC_CHAR time:calendar = \"gregorian\" ;\n",
      "\t\tNC_CHAR time:axis = \"T\" ;\n",
      "\tNC_FLOAT lat(lat) ;\n",
      "\t\tNC_CHAR lat:long_name = \"Latitude\" ;\n",
      "\t\tNC_CHAR lat:standard_name = \"latitude\" ;\n",
      "\t\tNC_CHAR lat:coverage_content_type = \"coordinate\" ;\n",
      "\t\tNC_CHAR lat:units = \"degrees_north\" ;\n",
      "\t\tNC_CHAR lat:grids = \"Uniform grid from -87.5 to 87.5 by 5\" ;\n",
      "\t\tNC_FLOAT lat:valid_min = -87.5 ;\n",
      "\t\tNC_FLOAT lat:valid_max = 87.5 ;\n",
      "\t\tNC_CHAR lat:axis = \"Y\" ;\n",
      "\t\tNC_CHAR lat:_CoordinateAxisType = \"Lat\" ;\n",
      "\t\tNC_CHAR lat:coordinate_defines = \"center\" ;\n",
      "\tNC_FLOAT lon(lon) ;\n",
      "\t\tNC_CHAR lon:long_name = \"Longitude\" ;\n",
      "\t\tNC_CHAR lon:standard_name = \"longitude\" ;\n",
      "\t\tNC_CHAR lon:coverage_content_type = \"coordinate\" ;\n",
      "\t\tNC_CHAR lon:units = \"degrees_east\" ;\n",
      "\t\tNC_CHAR lon:grids = \"Uniform grid from 2.5 to 357.5 by 5\" ;\n",
      "\t\tNC_CHAR lon:axis = \"X\" ;\n",
      "\t\tNC_FLOAT lon:valid_min = 2.5 ;\n",
      "\t\tNC_FLOAT lon:valid_max = 357.5 ;\n",
      "\t\tNC_CHAR lon:_CoordinateAxisType = \"Lon\" ;\n",
      "\t\tNC_CHAR lon:coordinate_defines = \"center\" ;\n",
      "\tNC_FLOAT z(z) ;\n",
      "\t\tNC_CHAR z:long_name = \"height of surface temperature\" ;\n",
      "\t\tNC_CHAR z:standard_name = \"height\" ;\n",
      "\t\tNC_CHAR z:coverage_content_type = \"coordinate\" ;\n",
      "\t\tNC_CHAR z:geospatial_bounds_vertical_crs = \"EPSG:5703\" ;\n",
      "\t\tNC_CHAR z:units = \"meters\" ;\n",
      "\t\tNC_CHAR z:positive = \"up\" ;\n",
      "\t\tNC_FLOAT z:valid_min = 0 ;\n",
      "\t\tNC_FLOAT z:valid_max = 0 ;\n",
      "\t\tNC_CHAR z:axis = \"Z\" ;\n",
      "\t\tNC_CHAR z:_CoordinateAxisType = \"Height\" ;\n",
      "\t\tNC_CHAR z:comment = \"Actual measurement depth of in situ sea surface temperature varies from 0.2 to 10 m, but corrected to the nominal depth of buoy at 0.2 m; for air temperature over land is 2m.\" ;\n",
      "\tNC_FLOAT anom(lon, lat, z, time) ;\n",
      "\t\tNC_CHAR anom:long_name = \"Global Temperature Anomalies\" ;\n",
      "\t\tNC_CHAR anom:standard_name = \"surface_temperature_anomaly\" ;\n",
      "\t\tNC_CHAR anom:coverage_content_type = \"physicalMeasurement\" ;\n",
      "\t\tNC_CHAR anom:units = \"degrees C\" ;\n",
      "\t\tNC_FLOAT anom:missing_value = -999.900024414062 ;\n",
      "\t\tNC_FLOAT anom:_FillValue = -999.900024414062 ;\n",
      "\t\tNC_FLOAT anom:add_offset = 0 ;\n",
      "\t\tNC_FLOAT anom:scale_factor = 1 ;\n",
      "\t\tNC_FLOAT anom:valid_min = -40 ;\n",
      "\t\tNC_FLOAT anom:valid_max = 40 ;\n",
      "\t\tNC_CHAR anom:coordinates = \"time z lat lon\" ;\n",
      "\n",
      "// global attributes:\n",
      "\t\tNC_CHAR :Conventions = \"CF-1.6, ACDD-1.3\" ;\n",
      "\t\tNC_CHAR :title = \"NOAA Merged Land Ocean Global Surface Temperature Analysis (NOAAGlobalTemp)\" ;\n",
      "\t\tNC_CHAR :summary = \"NOAAGlobalTemp is a merged land-ocean surface temperature analysis, formerly abbreviated as MLOST. The SST dataset is the Extended Reconstructed Sea Surface Temperature (ERSST) and the land surface air temperature dataset is from the Global Historical Climatology Network Monthly (GHCN-M) database.\" ;\n",
      "\t\tNC_CHAR :institution = \"DOC/NOAA/NESDIS/National Centers for Environmental Information(NCEI)\" ;\n",
      "\t\tNC_CHAR :id = \" gov.noaa.ncdc:C00934 \" ;\n",
      "\t\tNC_CHAR :naming_authority = \" gov.noaa.ncei \" ;\n",
      "\t\tNC_CHAR :project = \" NOAAGlobalTemp \" ;\n",
      "\t\tNC_CHAR :platform = \"Ships, moored buoys, surface drifting buoys, Argo floats, and weather stations\" ;\n",
      "\t\tNC_CHAR :instrument = \"Conventional thermometers\" ;\n",
      "\t\tNC_CHAR :history = \"Version 5.0.0, blending ERSST V5 and GHCN-M V4.\" ;\n",
      "\t\tNC_CHAR :comment = \"Merged land ocean surface temperature anomalies.\" ;\n",
      "\t\tNC_CHAR :product_version = \"5.0.0\" ;\n",
      "\t\tNC_CHAR :source = \"NOAAGlobalTemp combines a global sea surface temperature with a global land surface air temperature data\" ;\n",
      "\t\tNC_CHAR :ncei_template_version = \"NCEI_NetCDF_Grid_Template_v2.0\" ;\n",
      "\t\tNC_CHAR :Metadata_Conventions = \"Unidata Dataset Discovery v1.0\" ;\n",
      "\t\tNC_CHAR :license = \"These data are available for use without restriction.\" ;\n",
      "\t\tNC_CHAR :creator_name = \"Boyin Huang, Xungang Yin, Ph.D\" ;\n",
      "\t\tNC_CHAR :creator_email = \"Boyin.Huang@noaa.gov, Xungang.Yin@noaa.gov\" ;\n",
      "\t\tNC_CHAR :creator_type = \"group\" ;\n",
      "\t\tNC_CHAR :creator_institution = \"US DOC/NOAA/NESDIS/National Centers for Environmental Information(NCEI)\" ;\n",
      "\t\tNC_CHAR :contributor_name = \"Huai-min Zhang, Ph.D\" ;\n",
      "\t\tNC_CHAR :contributor_role = \"Chief, NOAA/NESDIS/NCEI/CCOG/OSB Ocean Surface Section\" ;\n",
      "\t\tNC_CHAR :publisher_name = \"NCEI\" ;\n",
      "\t\tNC_CHAR :publisher_institution = \"NCEI\" ;\n",
      "\t\tNC_CHAR :publisher_url = \"https://www.ncdc.noaa.gov/\" ;\n",
      "\t\tNC_CHAR :publisher_email = \"ncei.info@noaa.gov\" ;\n",
      "\t\tNC_CHAR :publisher_type = \"institution\" ;\n",
      "\t\tNC_CHAR :keywords = \"Earth Science > Oceans > Ocean Temperature > Sea Surface Temperature, Earth Science > Atmosphere > Atmospheric Temperature > Surface Temperature > Air Temperature\" ;\n",
      "\t\tNC_CHAR :keywords_vocabulary = \"NASA Global Change Master Directory (GCMD) Science Keywords\" ;\n",
      "\t\tNC_CHAR :standard_name_vocabulary = \"Climate and Forecast (CF) Standard Name Table (Version 46, 25 July 2017)\" ;\n",
      "\t\tNC_CHAR :date_created = \"2023-01-08T18:33:09Z\" ;\n",
      "\t\tNC_CHAR :necdf_version_id = \"4.2.1.1\" ;\n",
      "\t\tNC_CHAR :netcdf_creator_name = \"Yongsheng Zhang, Ph.D\" ;\n",
      "\t\tNC_CHAR :netcdf_creator_email = \"yongsheng.zhang@noaa.gov\" ;\n",
      "\t\tNC_CHAR :dataset_citation_product = \"NOAA Merged Land Ocean Global Surface Temperature Analysis (NOAAGlobalTemp)\" ;\n",
      "\t\tNC_CHAR :dataset_citation_version = \"5.0.0\" ;\n",
      "\t\tNC_CHAR :dataset_citation_institution = \"NOAA/NESDIS/NCEI, Asheville, NC, USA\" ;\n",
      "\t\tNC_CHAR :dataset_citation_url = \"https://doi.org/10.25921/9qth-2p70\" ;\n",
      "\t\tNC_CHAR :metadata_link = \"https://doi.org/10.25921/9qth-2p70\" ;\n",
      "\t\tNC_CHAR :cdm_data_type = \"Grid\" ;\n",
      "\t\tNC_CHAR :grid_mapping_name = \"latitude_longitude\" ;\n",
      "\t\tNC_CHAR :processing_level = \"NOAA Processing Level 4\" ;\n",
      "\t\tNC_FLOAT :geospatial_lon_min = 2.5 ;\n",
      "\t\tNC_FLOAT :geospatial_lon_max = 357.5 ;\n",
      "\t\tNC_CHAR :geospatial_lon_units = \"degrees_east\" ;\n",
      "\t\tNC_CHAR :geospatial_lon_resolution = \"5.0 degree\" ;\n",
      "\t\tNC_FLOAT :geospatial_lat_min = -87.5 ;\n",
      "\t\tNC_FLOAT :geospatial_lat_max = 87.5 ;\n",
      "\t\tNC_CHAR :geospatial_lat_units = \"degrees_north\" ;\n",
      "\t\tNC_CHAR :geospatial_lat_resolution = \"5.0 degree\" ;\n",
      "\t\tNC_CHAR :geospatial_bounds = \"POLYGON ((2.5 -87.5, 2.5 87.5, 357.5 87.5, 357.5 -87.5, 2.5 -87.5))\" ;\n",
      "\t\tNC_CHAR :geospatial_bounds_crs = \"EPSG:4326\" ;\n",
      "\t\tNC_FLOAT :geospatial_vertical_min = 0 ;\n",
      "\t\tNC_FLOAT :geospatial_vertical_max = 0 ;\n",
      "\t\tNC_CHAR :geospatial_vertical_units = \"meters\" ;\n",
      "\t\tNC_CHAR :geospatial_vertical_resolution = \"0.f\" ;\n",
      "\t\tNC_CHAR :geospatial_vertical_positive = \"up\" ;\n",
      "\t\tNC_CHAR :time_coverage_start = \"1880-01\" ;\n",
      "\t\tNC_CHAR :time_coverage_end = \"2022-12\" ;\n",
      "\t\tNC_CHAR :time_coverage_resolution = \"P1M\" ;\n",
      "\t\tNC_CHAR :time_coverage_duration = \"P143Y0M\" ;\n",
      "\t\tNC_CHAR :references = \"Vose, R. S., et al., 2012: NOAAs merged land-ocean surface temperature analysis. Bulletin of the American Meteorological Society, 93, 1677-1685. doi: 10.1175/BAMS-D-11-00241.1. Huang, B., Peter W. Thorne, et. al, 2017: Extended Reconstructed Sea Surface Temperature version 5 (ERSSTv5), Upgrades, validations, and intercomparisons. J. Climate, 30, 8179-8205. doi: 10.1175/JCLI-D-16-0836.1\" ;\n",
      "\t\tNC_CHAR :climatology = \"Climatology is based on 1971-2000 monthly climatology\" ;\n",
      "\t\tNC_CHAR :acknowledgment = \"The NOAA Global Surface Temperature Dataset is provided by the NOAA National Centers for Environmental Information(NCEI)\" ;\n",
      "\t\tNC_CHAR :date_modified = \"2023-01-08T18:33:09Z\" ;\n",
      "\t\tNC_CHAR :date_issued = \"2023-01-08T18:33:09Z\" ;\n",
      "}\n"
     ]
    }
   ],
   "source": [
    "print.nc(data)"
   ]
  },
  {
   "cell_type": "markdown",
   "id": "11728aed-7a09-46ea-b188-095633a71fde",
   "metadata": {},
   "source": [
    "Let’s break down what we see above.\n",
    "\n",
    "A classic NetCDF file like this one can be broken down into 3 components - dimensions, variables and attributes.\n",
    "\n",
    "* Dimensions: Define the size of the variables.\n",
    "* Variables: Where the data are stored. The variables can be broken down into coordinate variables and data variables. In RNetCDF, the coordinate variables and data variables are displayed together, but if you open a NetCDF file using different software they might be separated.\n",
    "    * Coordinate variables: Coordinate variables are things like longitude, latitude, time and elevation/depth. The first variable listed is *time* which has 1 dimension with the same name in brackets. So we know that the *time* variable is a 1D array with 1716 data points. It is common practice for coordinate variables to have the same name as their respective dimension, but this might not always be the case.\n",
    "    * Data variables: This file has only one data variable, *anom*. This has 4 dimensions, so we can see that the data are stored in a 4D array with size 72 x 36 x 1 x 1716. \n",
    "* Attributes: The metadata describing the data. A CF-NetCDF file should have both global and variable attributes.\n",
    "    * Variable attributes: Describe each variable\n",
    "    * Global attributes: Describe the whole dataset (e.g. title, creator, keywords, a bounding box for the coordinates)\n",
    "\n",
    "We will now have a closer look at how to access each of these components, starting at the bottom with attributes.\n",
    "\n",
    "## Attributes\n",
    "\n",
    "Accessing an attribute using RNetCDF can be done like\n",
    "\n",
    "`att.get.nc(nc_object, variable_name, attribute_name)`\n",
    "\n",
    "### Global attributes\n",
    "\n",
    "For a global attribute, we assign a special variable name, *NC_GLOBAL*.\n",
    "\n",
    "`att.get.nc(nc_object, \"NC_GLOBAL\", attribute_name)`\n",
    "\n",
    "If we want to just access the *creator_name* attribute for example:"
   ]
  },
  {
   "cell_type": "code",
   "execution_count": 7,
   "id": "25551c0f-78db-46ac-a609-1a85ca7e881f",
   "metadata": {
    "vscode": {
     "languageId": "r"
    }
   },
   "outputs": [
    {
     "data": {
      "text/html": [
       "'Boyin Huang, Xungang Yin, Ph.D'"
      ],
      "text/latex": [
       "'Boyin Huang, Xungang Yin, Ph.D'"
      ],
      "text/markdown": [
       "'Boyin Huang, Xungang Yin, Ph.D'"
      ],
      "text/plain": [
       "[1] \"Boyin Huang, Xungang Yin, Ph.D\""
      ]
     },
     "metadata": {},
     "output_type": "display_data"
    }
   ],
   "source": [
    "att.get.nc(data, \"NC_GLOBAL\", \"creator_name\")"
   ]
  },
  {
   "cell_type": "markdown",
   "id": "4a8eb62a-ffb9-4800-b8f3-cd54e91ae429",
   "metadata": {},
   "source": [
    "If you want more information than just the value, you can make an inquiry. See how the syntax is almost the same for 'getting' and attribute as it is for 'inquiring' about one? "
   ]
  },
  {
   "cell_type": "code",
   "execution_count": 8,
   "id": "367a5dff-34d0-4045-8cda-338df731ba44",
   "metadata": {
    "vscode": {
     "languageId": "r"
    }
   },
   "outputs": [
    {
     "data": {
      "text/html": [
       "<dl>\n",
       "\t<dt>$id</dt>\n",
       "\t\t<dd>16</dd>\n",
       "\t<dt>$name</dt>\n",
       "\t\t<dd>'creator_name'</dd>\n",
       "\t<dt>$type</dt>\n",
       "\t\t<dd>'NC_CHAR'</dd>\n",
       "\t<dt>$length</dt>\n",
       "\t\t<dd>30</dd>\n",
       "</dl>\n"
      ],
      "text/latex": [
       "\\begin{description}\n",
       "\\item[\\$id] 16\n",
       "\\item[\\$name] 'creator\\_name'\n",
       "\\item[\\$type] 'NC\\_CHAR'\n",
       "\\item[\\$length] 30\n",
       "\\end{description}\n"
      ],
      "text/markdown": [
       "$id\n",
       ":   16\n",
       "$name\n",
       ":   'creator_name'\n",
       "$type\n",
       ":   'NC_CHAR'\n",
       "$length\n",
       ":   30\n",
       "\n",
       "\n"
      ],
      "text/plain": [
       "$id\n",
       "[1] 16\n",
       "\n",
       "$name\n",
       "[1] \"creator_name\"\n",
       "\n",
       "$type\n",
       "[1] \"NC_CHAR\"\n",
       "\n",
       "$length\n",
       "[1] 30\n"
      ]
     },
     "metadata": {},
     "output_type": "display_data"
    }
   ],
   "source": [
    "att.inq.nc(data, \"NC_GLOBAL\", \"creator_name\")"
   ]
  },
  {
   "cell_type": "markdown",
   "id": "2cbae911-8f65-478a-a131-909651b05879",
   "metadata": {},
   "source": [
    "*Conventions* is probably the most important global attribute because it tells you (and a machine) how to interpret the rest of the file."
   ]
  },
  {
   "cell_type": "code",
   "execution_count": 9,
   "id": "e7850b8a-ec15-46d7-a7ad-7e7dd0261cfa",
   "metadata": {
    "vscode": {
     "languageId": "r"
    }
   },
   "outputs": [
    {
     "data": {
      "text/html": [
       "'CF-1.6, ACDD-1.3'"
      ],
      "text/latex": [
       "'CF-1.6, ACDD-1.3'"
      ],
      "text/markdown": [
       "'CF-1.6, ACDD-1.3'"
      ],
      "text/plain": [
       "[1] \"CF-1.6, ACDD-1.3\""
      ]
     },
     "metadata": {},
     "output_type": "display_data"
    }
   ],
   "source": [
    "att.get.nc(data, \"NC_GLOBAL\", \"Conventions\")"
   ]
  },
  {
   "cell_type": "markdown",
   "id": "39a96f17-df2f-4733-8585-85e9b12536ea",
   "metadata": {},
   "source": [
    "*CF-1.6* refers to version 1.6 of the CF conventions, which you can find here:\n",
    "\n",
    "https://cfconventions.org/ https://cfconventions.org/Data/cf-conventions/cf-conventions-1.6/cf-conventions.html\n",
    "\n",
    "The CF conventions are a set of standards that define how a NetCDF file should be structured. The document linked above is extensive, but the aim is to provide a standardised way to organise many different types of data. You don’t need to read it all, but it should be your go-to place if you want to know how to structure or understand a CF-NetCDF file, or encode certain types of data.\n",
    "\n",
    "However, the CF conventions are light on discovery metadata. Discovery metadata are metadata that can be used to find data. For example, when and where the data were collected and by whom, some keywords etc. So we also use the *ACDD* convention - The Attribute Convention for Data Discovery.\n",
    "\n",
    "https://wiki.esipfed.org/Attribute_Convention_for_Data_Discovery_1-3\n",
    "\n",
    "In most cases, if you want to find out what a global attribute means, you can visit the ACDD convention page above to find a description of the attribute. There are other conventions that someone might have included that you can also find online, but we recommend that you always follow the CF and ACDD conventions as a minimum when creating a NetCDF file.\n",
    "\n",
    "The person who created this file should have read the relevant sections of these documents to make sure that the files comply with these conventions. There are also validators you can run your files by to make sure that you file is compliant with the conventions before you publish it. For example:\n",
    "\n",
    "https://compliance.ioos.us/index.html\n",
    "\n",
    "By following conventions, the data creator and user, human or machine, should be able to understand the data in the same way. A NetCDF file itself is not neccessarily FAIR because you could include any attributes or structure your data however you like. A CF-NetCDF file is FAIR.\n",
    "\n",
    "### Variable attributes\n",
    "\n",
    "Let's extract a variable attribute now from the *anom* variable:"
   ]
  },
  {
   "cell_type": "code",
   "execution_count": 10,
   "id": "07757de4-4b63-4c14-aeb3-ef945fb6a8eb",
   "metadata": {
    "vscode": {
     "languageId": "r"
    }
   },
   "outputs": [
    {
     "data": {
      "text/html": [
       "'surface_temperature_anomaly'"
      ],
      "text/latex": [
       "'surface\\_temperature\\_anomaly'"
      ],
      "text/markdown": [
       "'surface_temperature_anomaly'"
      ],
      "text/plain": [
       "[1] \"surface_temperature_anomaly\""
      ]
     },
     "metadata": {},
     "output_type": "display_data"
    }
   ],
   "source": [
    "att.get.nc(data, \"anom\", \"standard_name\")"
   ]
  },
  {
   "cell_type": "markdown",
   "id": "d6ca4741-8f7f-4f23-9824-ca288567ec19",
   "metadata": {},
   "source": [
    "The variable name *anom* is not standardised. Fortunately, the *standard_name* variable attribute is standardised. You can find sea_water_temperature in the list of CF standard names here. \n",
    "https://cfconventions.org/Data/cf-standard-names/current/build/cf-standard-name-table.html\n",
    "\n",
    "Hopefully, the data creator has selected the *standard_name* from the CF standard name table after reading the description for that term. You, the data user, can now also find that term and its description. This way, the data provider and the data user can share the same understanding about what the these data are. Any other CF-NetCDF file that contains the same type of data should also include the same *standard_name*. Controlled vocabularies like this one are understandable to machines too! \n",
    "\n",
    "The data in the file doesn’t need to be stored with the same units, but should be stored with units that are physically equivalent. For example, in this case the units degrees_C are physically equivalent to K."
   ]
  },
  {
   "cell_type": "markdown",
   "id": "4426ed7e-bf05-402a-8edb-5d2c0bb4cff0",
   "metadata": {},
   "source": [
    "## Dimensions\n",
    "\n",
    "To extract information about a dimension, you can do this:"
   ]
  },
  {
   "cell_type": "code",
   "execution_count": 11,
   "id": "31cdea7b-2d10-42b1-a46b-863c0583db2b",
   "metadata": {
    "scrolled": true,
    "vscode": {
     "languageId": "r"
    }
   },
   "outputs": [
    {
     "data": {
      "text/html": [
       "<dl>\n",
       "\t<dt>$id</dt>\n",
       "\t\t<dd>0</dd>\n",
       "\t<dt>$name</dt>\n",
       "\t\t<dd>'lat'</dd>\n",
       "\t<dt>$length</dt>\n",
       "\t\t<dd>36</dd>\n",
       "\t<dt>$unlim</dt>\n",
       "\t\t<dd>FALSE</dd>\n",
       "</dl>\n"
      ],
      "text/latex": [
       "\\begin{description}\n",
       "\\item[\\$id] 0\n",
       "\\item[\\$name] 'lat'\n",
       "\\item[\\$length] 36\n",
       "\\item[\\$unlim] FALSE\n",
       "\\end{description}\n"
      ],
      "text/markdown": [
       "$id\n",
       ":   0\n",
       "$name\n",
       ":   'lat'\n",
       "$length\n",
       ":   36\n",
       "$unlim\n",
       ":   FALSE\n",
       "\n",
       "\n"
      ],
      "text/plain": [
       "$id\n",
       "[1] 0\n",
       "\n",
       "$name\n",
       "[1] \"lat\"\n",
       "\n",
       "$length\n",
       "[1] 36\n",
       "\n",
       "$unlim\n",
       "[1] FALSE\n"
      ]
     },
     "metadata": {},
     "output_type": "display_data"
    }
   ],
   "source": [
    "dim.inq.nc(data,'lat')"
   ]
  },
  {
   "cell_type": "markdown",
   "id": "52750065-a6e8-41d4-80b9-0a44a42ee01e",
   "metadata": {},
   "source": [
    "If you didn't know the name of the dimension, you could use the index of the variable to call it instead. Remember that 0 is always the first."
   ]
  },
  {
   "cell_type": "code",
   "execution_count": 12,
   "id": "6f5f2112-af24-4a0a-a32f-f9f274a95c1f",
   "metadata": {
    "vscode": {
     "languageId": "r"
    }
   },
   "outputs": [
    {
     "data": {
      "text/html": [
       "<dl>\n",
       "\t<dt>$id</dt>\n",
       "\t\t<dd>0</dd>\n",
       "\t<dt>$name</dt>\n",
       "\t\t<dd>'lat'</dd>\n",
       "\t<dt>$length</dt>\n",
       "\t\t<dd>36</dd>\n",
       "\t<dt>$unlim</dt>\n",
       "\t\t<dd>FALSE</dd>\n",
       "</dl>\n"
      ],
      "text/latex": [
       "\\begin{description}\n",
       "\\item[\\$id] 0\n",
       "\\item[\\$name] 'lat'\n",
       "\\item[\\$length] 36\n",
       "\\item[\\$unlim] FALSE\n",
       "\\end{description}\n"
      ],
      "text/markdown": [
       "$id\n",
       ":   0\n",
       "$name\n",
       ":   'lat'\n",
       "$length\n",
       ":   36\n",
       "$unlim\n",
       ":   FALSE\n",
       "\n",
       "\n"
      ],
      "text/plain": [
       "$id\n",
       "[1] 0\n",
       "\n",
       "$name\n",
       "[1] \"lat\"\n",
       "\n",
       "$length\n",
       "[1] 36\n",
       "\n",
       "$unlim\n",
       "[1] FALSE\n"
      ]
     },
     "metadata": {},
     "output_type": "display_data"
    }
   ],
   "source": [
    "dim.inq.nc(data,0)"
   ]
  },
  {
   "cell_type": "markdown",
   "id": "b61ff2aa-eae4-4dac-a068-e7d72d6a447e",
   "metadata": {},
   "source": [
    "The *lat* dimension has 36 points. Dimensions tell you about the shape and size of your variables. In this case, we know that any variable with a dimension of only *lat* will have 36 data points - though some could be NaN. The dimension doesn't tell you anything about what the values are - that information is in the variables."
   ]
  },
  {
   "cell_type": "markdown",
   "id": "6eb5cc57-4c0e-483e-b01d-9c63078832d9",
   "metadata": {},
   "source": [
    "## Variables\n",
    "\n",
    "Finally, the most important part - getting at the data!\n",
    "\n",
    "If you know the variable name, you can get the data like this:"
   ]
  },
  {
   "cell_type": "code",
   "execution_count": 13,
   "id": "0f4d1d98-fae9-4f00-a1fd-5c081540efdb",
   "metadata": {
    "vscode": {
     "languageId": "r"
    }
   },
   "outputs": [
    {
     "data": {
      "text/html": [
       "<style>\n",
       ".list-inline {list-style: none; margin:0; padding: 0}\n",
       ".list-inline>li {display: inline-block}\n",
       ".list-inline>li:not(:last-child)::after {content: \"\\00b7\"; padding: 0 .5ex}\n",
       "</style>\n",
       "<ol class=list-inline><li>-87.5</li><li>-82.5</li><li>-77.5</li><li>-72.5</li><li>-67.5</li><li>-62.5</li><li>-57.5</li><li>-52.5</li><li>-47.5</li><li>-42.5</li><li>-37.5</li><li>-32.5</li><li>-27.5</li><li>-22.5</li><li>-17.5</li><li>-12.5</li><li>-7.5</li><li>-2.5</li><li>2.5</li><li>7.5</li><li>12.5</li><li>17.5</li><li>22.5</li><li>27.5</li><li>32.5</li><li>37.5</li><li>42.5</li><li>47.5</li><li>52.5</li><li>57.5</li><li>62.5</li><li>67.5</li><li>72.5</li><li>77.5</li><li>82.5</li><li>87.5</li></ol>\n"
      ],
      "text/latex": [
       "\\begin{enumerate*}\n",
       "\\item -87.5\n",
       "\\item -82.5\n",
       "\\item -77.5\n",
       "\\item -72.5\n",
       "\\item -67.5\n",
       "\\item -62.5\n",
       "\\item -57.5\n",
       "\\item -52.5\n",
       "\\item -47.5\n",
       "\\item -42.5\n",
       "\\item -37.5\n",
       "\\item -32.5\n",
       "\\item -27.5\n",
       "\\item -22.5\n",
       "\\item -17.5\n",
       "\\item -12.5\n",
       "\\item -7.5\n",
       "\\item -2.5\n",
       "\\item 2.5\n",
       "\\item 7.5\n",
       "\\item 12.5\n",
       "\\item 17.5\n",
       "\\item 22.5\n",
       "\\item 27.5\n",
       "\\item 32.5\n",
       "\\item 37.5\n",
       "\\item 42.5\n",
       "\\item 47.5\n",
       "\\item 52.5\n",
       "\\item 57.5\n",
       "\\item 62.5\n",
       "\\item 67.5\n",
       "\\item 72.5\n",
       "\\item 77.5\n",
       "\\item 82.5\n",
       "\\item 87.5\n",
       "\\end{enumerate*}\n"
      ],
      "text/markdown": [
       "1. -87.5\n",
       "2. -82.5\n",
       "3. -77.5\n",
       "4. -72.5\n",
       "5. -67.5\n",
       "6. -62.5\n",
       "7. -57.5\n",
       "8. -52.5\n",
       "9. -47.5\n",
       "10. -42.5\n",
       "11. -37.5\n",
       "12. -32.5\n",
       "13. -27.5\n",
       "14. -22.5\n",
       "15. -17.5\n",
       "16. -12.5\n",
       "17. -7.5\n",
       "18. -2.5\n",
       "19. 2.5\n",
       "20. 7.5\n",
       "21. 12.5\n",
       "22. 17.5\n",
       "23. 22.5\n",
       "24. 27.5\n",
       "25. 32.5\n",
       "26. 37.5\n",
       "27. 42.5\n",
       "28. 47.5\n",
       "29. 52.5\n",
       "30. 57.5\n",
       "31. 62.5\n",
       "32. 67.5\n",
       "33. 72.5\n",
       "34. 77.5\n",
       "35. 82.5\n",
       "36. 87.5\n",
       "\n",
       "\n"
      ],
      "text/plain": [
       " [1] -87.5 -82.5 -77.5 -72.5 -67.5 -62.5 -57.5 -52.5 -47.5 -42.5 -37.5 -32.5\n",
       "[13] -27.5 -22.5 -17.5 -12.5  -7.5  -2.5   2.5   7.5  12.5  17.5  22.5  27.5\n",
       "[25]  32.5  37.5  42.5  47.5  52.5  57.5  62.5  67.5  72.5  77.5  82.5  87.5"
      ]
     },
     "metadata": {},
     "output_type": "display_data"
    }
   ],
   "source": [
    "var.get.nc(data,\"lat\")"
   ]
  },
  {
   "cell_type": "markdown",
   "id": "a54ad706-d993-484a-9dc8-ad4f08e05714",
   "metadata": {},
   "source": [
    "Or inquire about it"
   ]
  },
  {
   "cell_type": "code",
   "execution_count": 14,
   "id": "f19aebc6-80e4-497a-b3cf-c466936a4f1b",
   "metadata": {
    "vscode": {
     "languageId": "r"
    }
   },
   "outputs": [
    {
     "data": {
      "text/html": [
       "<dl>\n",
       "\t<dt>$id</dt>\n",
       "\t\t<dd>1</dd>\n",
       "\t<dt>$name</dt>\n",
       "\t\t<dd>'lat'</dd>\n",
       "\t<dt>$type</dt>\n",
       "\t\t<dd>'NC_FLOAT'</dd>\n",
       "\t<dt>$ndims</dt>\n",
       "\t\t<dd>1</dd>\n",
       "\t<dt>$dimids</dt>\n",
       "\t\t<dd>0</dd>\n",
       "\t<dt>$natts</dt>\n",
       "\t\t<dd>10</dd>\n",
       "</dl>\n"
      ],
      "text/latex": [
       "\\begin{description}\n",
       "\\item[\\$id] 1\n",
       "\\item[\\$name] 'lat'\n",
       "\\item[\\$type] 'NC\\_FLOAT'\n",
       "\\item[\\$ndims] 1\n",
       "\\item[\\$dimids] 0\n",
       "\\item[\\$natts] 10\n",
       "\\end{description}\n"
      ],
      "text/markdown": [
       "$id\n",
       ":   1\n",
       "$name\n",
       ":   'lat'\n",
       "$type\n",
       ":   'NC_FLOAT'\n",
       "$ndims\n",
       ":   1\n",
       "$dimids\n",
       ":   0\n",
       "$natts\n",
       ":   10\n",
       "\n",
       "\n"
      ],
      "text/plain": [
       "$id\n",
       "[1] 1\n",
       "\n",
       "$name\n",
       "[1] \"lat\"\n",
       "\n",
       "$type\n",
       "[1] \"NC_FLOAT\"\n",
       "\n",
       "$ndims\n",
       "[1] 1\n",
       "\n",
       "$dimids\n",
       "[1] 0\n",
       "\n",
       "$natts\n",
       "[1] 10\n"
      ]
     },
     "metadata": {},
     "output_type": "display_data"
    }
   ],
   "source": [
    "var.inq.nc(data, \"lat\")"
   ]
  },
  {
   "cell_type": "markdown",
   "id": "c7666c90-164f-4f71-8e16-f6ff58ac8faa",
   "metadata": {},
   "source": [
    "We can get just a subset of the data. For example, to get 3 values starting from the 5th value in the array, where *start* is the first value to extract and *count* is how many values:"
   ]
  },
  {
   "cell_type": "code",
   "execution_count": 15,
   "id": "414ab416-8015-4428-ab68-7ce6dacf3e6b",
   "metadata": {
    "vscode": {
     "languageId": "r"
    }
   },
   "outputs": [
    {
     "data": {
      "text/html": [
       "<style>\n",
       ".list-inline {list-style: none; margin:0; padding: 0}\n",
       ".list-inline>li {display: inline-block}\n",
       ".list-inline>li:not(:last-child)::after {content: \"\\00b7\"; padding: 0 .5ex}\n",
       "</style>\n",
       "<ol class=list-inline><li>-67.5</li><li>-62.5</li><li>-57.5</li></ol>\n"
      ],
      "text/latex": [
       "\\begin{enumerate*}\n",
       "\\item -67.5\n",
       "\\item -62.5\n",
       "\\item -57.5\n",
       "\\end{enumerate*}\n"
      ],
      "text/markdown": [
       "1. -67.5\n",
       "2. -62.5\n",
       "3. -57.5\n",
       "\n",
       "\n"
      ],
      "text/plain": [
       "[1] -67.5 -62.5 -57.5"
      ]
     },
     "metadata": {},
     "output_type": "display_data"
    }
   ],
   "source": [
    "var.get.nc(data, \"lat\", start=c(5), count=c(3))"
   ]
  },
  {
   "cell_type": "markdown",
   "id": "c2c5f81c-c23a-4c93-a3a0-41f97e98402a",
   "metadata": {},
   "source": [
    "There is a lot of data in the anom variable, so we won't display all of that below! But let's try and extract data for a single date. \n",
    "\n",
    "Let's again first select based on the index using *start* and *count. The order in the lists corresponds to the order of the dimensions that the variable has. In this case, we are extracting data for all latitudes and longitudes (so *NA* is used) and from the 1st (and only) vertical coordinate. I have selected data for an arbitrary time slice, 700 in this case."
   ]
  },
  {
   "cell_type": "code",
   "execution_count": 20,
   "id": "c5cc9e56-11fc-42fb-a5d8-9a4a204684d0",
   "metadata": {
    "vscode": {
     "languageId": "r"
    }
   },
   "outputs": [
    {
     "name": "stdout",
     "output_type": "stream",
     "text": [
      "[1] \"Size of dimensions of 2D anom array\"\n"
     ]
    },
    {
     "data": {
      "text/html": [
       "<table class=\"dataframe\">\n",
       "<caption>A matrix: 72 × 36 of type dbl</caption>\n",
       "<tbody>\n",
       "\t<tr><td>NA</td><td>NA</td><td>NA</td><td>NA</td><td>NA</td><td>NA</td><td>-0.6202122</td><td>-0.28983244</td><td> 0.127612844</td><td> 0.105352372</td><td>⋯</td><td>-0.537931740</td><td>-1.87294960</td><td> 0.24818414</td><td> 0.49265805</td><td> 0.28210214</td><td> 0.449737489</td><td> 1.1294684</td><td>0.9146796</td><td>  NA</td><td>NA</td></tr>\n",
       "\t<tr><td>NA</td><td>NA</td><td>NA</td><td>NA</td><td>NA</td><td>NA</td><td>-0.4854550</td><td>-0.29407427</td><td> 0.026559843</td><td> 0.000770571</td><td>⋯</td><td>-0.835091114</td><td>-2.66000009</td><td>-1.08594847</td><td> 0.69367015</td><td> 0.10752933</td><td> 0.591097713</td><td> 1.1051759</td><td>0.7053886</td><td>  NA</td><td>NA</td></tr>\n",
       "\t<tr><td>NA</td><td>NA</td><td>NA</td><td>NA</td><td>NA</td><td>NA</td><td>-0.7393103</td><td>-0.28969392</td><td> 0.041384175</td><td>-0.090124525</td><td>⋯</td><td>-1.269892812</td><td>-3.05221272</td><td>-1.84167469</td><td> 0.43207514</td><td> 0.35837406</td><td> 0.443900764</td><td> 0.9841446</td><td>0.8509724</td><td>  NA</td><td>NA</td></tr>\n",
       "\t<tr><td>NA</td><td>NA</td><td>NA</td><td>NA</td><td>NA</td><td>NA</td><td>-0.8334374</td><td>-0.22463292</td><td> 0.190988734</td><td>-0.151320428</td><td>⋯</td><td>-1.601708531</td><td>-3.17991972</td><td>-2.66849828</td><td> 0.27449751</td><td> 0.36497775</td><td> 0.345626265</td><td> 1.0454960</td><td>       NA</td><td>  NA</td><td>NA</td></tr>\n",
       "\t<tr><td>NA</td><td>NA</td><td>NA</td><td>NA</td><td>NA</td><td>NA</td><td>-0.8196298</td><td>-0.20011082</td><td> 0.178636834</td><td>-0.218324393</td><td>⋯</td><td>-2.145020962</td><td>-2.74029255</td><td>-2.38935113</td><td>-0.28059667</td><td> 0.50999999</td><td> 0.259044379</td><td> 1.0828582</td><td>       NA</td><td>  NA</td><td>NA</td></tr>\n",
       "\t<tr><td>NA</td><td>NA</td><td>NA</td><td>NA</td><td>NA</td><td>NA</td><td>-0.5987538</td><td>-0.09562428</td><td> 0.127850562</td><td>-0.302159876</td><td>⋯</td><td>-1.020416260</td><td>-1.85013807</td><td>-2.57099295</td><td>-1.79307616</td><td>-0.99419832</td><td> 0.613359451</td><td> 0.9467384</td><td>       NA</td><td>  NA</td><td>NA</td></tr>\n",
       "\t<tr><td>NA</td><td>NA</td><td>NA</td><td>NA</td><td>NA</td><td>NA</td><td>-0.4492744</td><td>-0.14773342</td><td> 0.020136885</td><td>-0.136485785</td><td>⋯</td><td>-0.401134670</td><td>-1.10070395</td><td>-2.19099236</td><td>-1.69648826</td><td>-0.55620253</td><td> 0.760314703</td><td> 0.8679525</td><td>       NA</td><td>  NA</td><td>NA</td></tr>\n",
       "\t<tr><td>NA</td><td>NA</td><td>NA</td><td>NA</td><td>NA</td><td>NA</td><td>        NA</td><td>         NA</td><td> 0.009670788</td><td>-0.005256775</td><td>⋯</td><td>-0.638019681</td><td>-1.44743681</td><td>-1.64928043</td><td>-1.89835858</td><td>-1.24357367</td><td> 1.259999990</td><td> 0.7236950</td><td>       NA</td><td>  NA</td><td>NA</td></tr>\n",
       "\t<tr><td>NA</td><td>NA</td><td>NA</td><td>NA</td><td>NA</td><td>NA</td><td>        NA</td><td>         NA</td><td>-0.158918560</td><td>-0.102225631</td><td>⋯</td><td>-0.917013168</td><td>-1.16364527</td><td>-0.99239308</td><td>-1.57622480</td><td>-0.27919686</td><td>-0.005481333</td><td>-0.1899090</td><td>       NA</td><td>  NA</td><td>NA</td></tr>\n",
       "\t<tr><td>NA</td><td>NA</td><td>NA</td><td>NA</td><td>NA</td><td>NA</td><td>        NA</td><td>-0.64733446</td><td>-0.345341444</td><td>-0.261111975</td><td>⋯</td><td>-0.276104450</td><td>-0.50022191</td><td> 0.31061247</td><td>-0.72260940</td><td> 0.48036933</td><td> 4.380000114</td><td>        NA</td><td>       NA</td><td>  NA</td><td>NA</td></tr>\n",
       "\t<tr><td>NA</td><td>NA</td><td>NA</td><td>NA</td><td>NA</td><td>NA</td><td>        NA</td><td>-0.67590743</td><td>-0.373588830</td><td>-0.263846487</td><td>⋯</td><td>-0.268124402</td><td> 0.10986871</td><td> 1.17465675</td><td> 0.57172859</td><td> 0.61704886</td><td> 1.343866348</td><td> 2.6400001</td><td>       NA</td><td>  NA</td><td>NA</td></tr>\n",
       "\t<tr><td>NA</td><td>NA</td><td>NA</td><td>NA</td><td>NA</td><td>NA</td><td>        NA</td><td>-0.52490014</td><td>-0.261390358</td><td>-0.183519289</td><td>⋯</td><td> 1.109488249</td><td> 1.09304774</td><td> 1.24661541</td><td> 1.00859094</td><td> 1.40338135</td><td> 1.853716373</td><td>        NA</td><td>       NA</td><td>0.65</td><td>NA</td></tr>\n",
       "\t<tr><td>NA</td><td>NA</td><td>NA</td><td>NA</td><td>NA</td><td>NA</td><td>        NA</td><td>-0.44366845</td><td>-0.299334317</td><td>-0.142208368</td><td>⋯</td><td> 1.495387554</td><td> 1.39396477</td><td> 1.81454659</td><td> 1.60197926</td><td> 2.63795424</td><td> 3.119392395</td><td>        NA</td><td>3.3599999</td><td>  NA</td><td>NA</td></tr>\n",
       "\t<tr><td>NA</td><td>NA</td><td>NA</td><td>NA</td><td>NA</td><td>NA</td><td>        NA</td><td>-0.44151002</td><td>-0.365199476</td><td>-0.055469848</td><td>⋯</td><td> 1.322556496</td><td> 2.03410816</td><td> 2.52891922</td><td> 2.52818990</td><td> 3.64879513</td><td> 3.072127104</td><td>        NA</td><td>4.1599998</td><td>  NA</td><td>NA</td></tr>\n",
       "\t<tr><td>NA</td><td>NA</td><td>NA</td><td>NA</td><td>NA</td><td>NA</td><td>        NA</td><td>-0.37778386</td><td>-0.301796347</td><td>-0.091428578</td><td>⋯</td><td> 2.109943390</td><td> 1.86116982</td><td> 2.27722478</td><td> 3.05860758</td><td> 4.44784117</td><td> 3.276115417</td><td> 2.7100000</td><td>       NA</td><td>  NA</td><td>NA</td></tr>\n",
       "\t<tr><td>NA</td><td>NA</td><td>NA</td><td>NA</td><td>NA</td><td>NA</td><td>        NA</td><td>-0.36512563</td><td>-0.313503146</td><td>-0.129802525</td><td>⋯</td><td> 1.826648235</td><td> 1.65793383</td><td> 2.10578156</td><td> 3.15935707</td><td> 4.85814810</td><td> 4.668457985</td><td> 4.2700000</td><td>       NA</td><td>  NA</td><td>NA</td></tr>\n",
       "\t<tr><td>NA</td><td>NA</td><td>NA</td><td>NA</td><td>NA</td><td>NA</td><td>        NA</td><td>         NA</td><td>-0.343594402</td><td>-0.210632339</td><td>⋯</td><td> 1.205056548</td><td> 2.22496557</td><td> 2.11366200</td><td> 3.61913133</td><td> 4.79895020</td><td> 4.541970730</td><td> 1.9019500</td><td>4.3800001</td><td>  NA</td><td>NA</td></tr>\n",
       "\t<tr><td>NA</td><td>NA</td><td>NA</td><td>NA</td><td>NA</td><td>NA</td><td>        NA</td><td>         NA</td><td>-0.523310781</td><td>-0.357023031</td><td>⋯</td><td> 0.448161513</td><td> 1.32473087</td><td> 2.34931517</td><td> 3.54763889</td><td> 4.18121338</td><td> 4.248987198</td><td> 2.8111274</td><td>5.0000000</td><td>  NA</td><td>NA</td></tr>\n",
       "\t<tr><td>NA</td><td>NA</td><td>NA</td><td>NA</td><td>NA</td><td>NA</td><td>        NA</td><td>         NA</td><td>-0.708950460</td><td>-0.583143473</td><td>⋯</td><td>-0.023835853</td><td> 0.97581047</td><td> 2.51909184</td><td> 3.73701119</td><td> 4.25832701</td><td> 4.222610950</td><td> 4.4118767</td><td>       NA</td><td>  NA</td><td>NA</td></tr>\n",
       "\t<tr><td>NA</td><td>NA</td><td>NA</td><td>NA</td><td>NA</td><td>NA</td><td>        NA</td><td>-0.83585399</td><td>-0.982789934</td><td>-0.909944713</td><td>⋯</td><td> 0.727405906</td><td> 1.36702776</td><td> 2.68381667</td><td> 3.36054611</td><td> 4.29253864</td><td> 4.651895523</td><td> 4.2035837</td><td>3.8599999</td><td>  NA</td><td>NA</td></tr>\n",
       "\t<tr><td>NA</td><td>NA</td><td>NA</td><td>NA</td><td>NA</td><td>NA</td><td>        NA</td><td>-1.08239102</td><td>-1.135215282</td><td>-1.018131852</td><td>⋯</td><td> 1.607886434</td><td> 2.05043435</td><td> 3.00426292</td><td> 3.71028423</td><td> 4.09760380</td><td> 4.630562782</td><td> 4.3828650</td><td>4.1199999</td><td>  NA</td><td>NA</td></tr>\n",
       "\t<tr><td>NA</td><td>NA</td><td>NA</td><td>NA</td><td>NA</td><td>NA</td><td>        NA</td><td>-1.20429385</td><td>-1.073588252</td><td>-1.074453712</td><td>⋯</td><td> 2.145003080</td><td> 2.14999557</td><td> 2.75228047</td><td> 3.36074185</td><td> 3.17259288</td><td> 3.993427038</td><td> 3.4505026</td><td>       NA</td><td>  NA</td><td>NA</td></tr>\n",
       "\t<tr><td>NA</td><td>NA</td><td>NA</td><td>NA</td><td>NA</td><td>NA</td><td>        NA</td><td>-1.24920452</td><td>-1.097619534</td><td>-1.098227978</td><td>⋯</td><td> 2.495729923</td><td> 2.06742120</td><td> 2.35480118</td><td> 3.17945910</td><td> 2.44510150</td><td> 3.006891251</td><td> 1.4027667</td><td>       NA</td><td>  NA</td><td>NA</td></tr>\n",
       "\t<tr><td>NA</td><td>NA</td><td>NA</td><td>NA</td><td>NA</td><td>NA</td><td>        NA</td><td>-1.17536151</td><td>-1.127874255</td><td>-1.053290129</td><td>⋯</td><td> 1.671961427</td><td> 1.51226854</td><td> 2.00921392</td><td> 2.47920394</td><td> 2.22450638</td><td> 2.667634249</td><td> 1.5593848</td><td>       NA</td><td>  NA</td><td>NA</td></tr>\n",
       "\t<tr><td>NA</td><td>NA</td><td>NA</td><td>NA</td><td>NA</td><td>NA</td><td>        NA</td><td>-1.03222525</td><td>-0.958126485</td><td>-0.963152111</td><td>⋯</td><td> 0.750443339</td><td> 0.97895187</td><td> 1.00236785</td><td> 1.29838908</td><td> 1.22042096</td><td> 2.404286861</td><td> 1.5253580</td><td>       NA</td><td>  NA</td><td>NA</td></tr>\n",
       "\t<tr><td>NA</td><td>NA</td><td>NA</td><td>NA</td><td>NA</td><td>NA</td><td>        NA</td><td>-0.74122697</td><td>-0.859642327</td><td>-0.899472177</td><td>⋯</td><td>-0.182048351</td><td> 0.08869952</td><td> 0.35434717</td><td> 0.69949293</td><td> 1.16713667</td><td> 1.793119788</td><td> 0.8606514</td><td>       NA</td><td>  NA</td><td>NA</td></tr>\n",
       "\t<tr><td>NA</td><td>NA</td><td>NA</td><td>NA</td><td>NA</td><td>NA</td><td>        NA</td><td>-0.46319559</td><td>-0.705830514</td><td>-0.703707695</td><td>⋯</td><td>-0.664974868</td><td>-0.31978831</td><td> 0.02538815</td><td> 0.40935487</td><td> 0.04900825</td><td> 0.772662342</td><td>        NA</td><td>       NA</td><td>  NA</td><td>NA</td></tr>\n",
       "\t<tr><td>NA</td><td>NA</td><td>NA</td><td>NA</td><td>NA</td><td>NA</td><td>        NA</td><td>-0.34032953</td><td>-0.554033041</td><td>-0.565362215</td><td>⋯</td><td>-0.562718034</td><td>-0.67619538</td><td>-0.45037004</td><td>-0.02868681</td><td> 0.10339553</td><td> 0.832687557</td><td> 0.3900000</td><td>2.7400000</td><td>  NA</td><td>NA</td></tr>\n",
       "\t<tr><td>NA</td><td>NA</td><td>NA</td><td>NA</td><td>NA</td><td>NA</td><td>        NA</td><td>-0.13787335</td><td>-0.366101772</td><td>-0.402459711</td><td>⋯</td><td> 0.088325746</td><td>-0.57997417</td><td>-0.51999998</td><td> 0.33000001</td><td> 0.21330257</td><td> 0.599803090</td><td> 3.6099999</td><td>       NA</td><td>  NA</td><td>NA</td></tr>\n",
       "\t<tr><td>NA</td><td>NA</td><td>NA</td><td>NA</td><td>NA</td><td>NA</td><td>        NA</td><td>         NA</td><td>-0.153727695</td><td>-0.090792619</td><td>⋯</td><td>-0.007916592</td><td>-0.74654436</td><td>         NA</td><td>         NA</td><td> 0.25405270</td><td> 0.460937053</td><td>        NA</td><td>       NA</td><td>  NA</td><td>NA</td></tr>\n",
       "\t<tr><td>⋮</td><td>⋮</td><td>⋮</td><td>⋮</td><td>⋮</td><td>⋮</td><td>⋮</td><td>⋮</td><td>⋮</td><td>⋮</td><td>⋱</td><td>⋮</td><td>⋮</td><td>⋮</td><td>⋮</td><td>⋮</td><td>⋮</td><td>⋮</td><td>⋮</td><td>⋮</td><td>⋮</td></tr>\n",
       "\t<tr><td>NA</td><td>NA</td><td>NA</td><td>NA</td><td>NA</td><td>         NA</td><td>        NA</td><td>        NA</td><td>-1.03765130</td><td>-1.14787817</td><td>⋯</td><td>-0.72745198</td><td>-0.539152145</td><td>-0.63528079</td><td>-0.35526615</td><td> 0.761579692</td><td> 0.1559132</td><td>         NA</td><td>NA</td><td>NA</td><td>NA</td></tr>\n",
       "\t<tr><td>NA</td><td>NA</td><td>NA</td><td>NA</td><td>NA</td><td>         NA</td><td>        NA</td><td>        NA</td><td>         NA</td><td>-1.33770728</td><td>⋯</td><td>-0.70461655</td><td>-0.496376604</td><td>-0.40371022</td><td>-0.07586693</td><td> 1.017054319</td><td> 1.0395586</td><td>         NA</td><td>NA</td><td>NA</td><td>NA</td></tr>\n",
       "\t<tr><td>NA</td><td>NA</td><td>NA</td><td>NA</td><td>NA</td><td>         NA</td><td>        NA</td><td>        NA</td><td>         NA</td><td>-1.32537293</td><td>⋯</td><td>-0.58864594</td><td>-0.390182823</td><td>-0.27330157</td><td> 0.06163443</td><td>-0.013497770</td><td>-0.1581344</td><td>         NA</td><td>NA</td><td>NA</td><td>NA</td></tr>\n",
       "\t<tr><td>NA</td><td>NA</td><td>NA</td><td>NA</td><td>NA</td><td>         NA</td><td>        NA</td><td>        NA</td><td>         NA</td><td>-1.23415732</td><td>⋯</td><td>-0.45375887</td><td>-0.406053036</td><td>-0.15399772</td><td> 0.08400441</td><td>-0.975186229</td><td>-1.3216939</td><td>         NA</td><td>NA</td><td>NA</td><td>NA</td></tr>\n",
       "\t<tr><td>NA</td><td>NA</td><td>NA</td><td>NA</td><td>NA</td><td>         NA</td><td>        NA</td><td>        NA</td><td>         NA</td><td>-1.02880096</td><td>⋯</td><td>-0.13268386</td><td>-0.197947741</td><td> 0.12996706</td><td>-0.59248364</td><td>-1.486913204</td><td>-1.5317039</td><td>         NA</td><td>NA</td><td>NA</td><td>NA</td></tr>\n",
       "\t<tr><td>NA</td><td>NA</td><td>NA</td><td>NA</td><td>NA</td><td>         NA</td><td>        NA</td><td>        NA</td><td>         NA</td><td>         NA</td><td>⋯</td><td> 0.28471875</td><td> 0.528546691</td><td> 0.49920291</td><td>-0.81128365</td><td>-3.235391378</td><td>-2.7874804</td><td>         NA</td><td>NA</td><td>NA</td><td>NA</td></tr>\n",
       "\t<tr><td>NA</td><td>NA</td><td>NA</td><td>NA</td><td>NA</td><td>         NA</td><td>        NA</td><td>        NA</td><td>         NA</td><td>         NA</td><td>⋯</td><td> 0.42999995</td><td> 0.270000011</td><td> 0.22992519</td><td>-0.44362128</td><td>-3.800447464</td><td>-2.4703212</td><td>         NA</td><td>NA</td><td>NA</td><td>NA</td></tr>\n",
       "\t<tr><td>NA</td><td>NA</td><td>NA</td><td>NA</td><td>NA</td><td>         NA</td><td>        NA</td><td>        NA</td><td>         NA</td><td>         NA</td><td>⋯</td><td> 0.51999998</td><td> 0.070000000</td><td>-0.57999998</td><td>-2.13038158</td><td>-3.040197372</td><td>-1.4691701</td><td>         NA</td><td>NA</td><td>NA</td><td>NA</td></tr>\n",
       "\t<tr><td>NA</td><td>NA</td><td>NA</td><td>NA</td><td>NA</td><td>         NA</td><td>        NA</td><td>        NA</td><td>         NA</td><td>         NA</td><td>⋯</td><td> 0.25999999</td><td>-0.140000001</td><td>-0.93999994</td><td>-2.43839717</td><td>-2.530547380</td><td>-0.1766288</td><td>         NA</td><td>NA</td><td>NA</td><td>NA</td></tr>\n",
       "\t<tr><td>NA</td><td>NA</td><td>NA</td><td>NA</td><td>NA</td><td>         NA</td><td>        NA</td><td>        NA</td><td>         NA</td><td>         NA</td><td>⋯</td><td> 0.25999999</td><td> 0.189999998</td><td>-1.00000024</td><td>-1.90921295</td><td>-2.355106115</td><td>-1.1711433</td><td>         NA</td><td>NA</td><td>NA</td><td>NA</td></tr>\n",
       "\t<tr><td>NA</td><td>NA</td><td>NA</td><td>NA</td><td>NA</td><td>         NA</td><td>        NA</td><td>        NA</td><td>         NA</td><td>         NA</td><td>⋯</td><td> 0.56000000</td><td>-0.070000000</td><td>-1.39589906</td><td>-2.19961476</td><td>-1.992772341</td><td>-1.1521786</td><td>         NA</td><td>NA</td><td>NA</td><td>NA</td></tr>\n",
       "\t<tr><td>NA</td><td>NA</td><td>NA</td><td>NA</td><td>NA</td><td>         NA</td><td>        NA</td><td>        NA</td><td>         NA</td><td>         NA</td><td>⋯</td><td> 0.28999999</td><td>-0.271055728</td><td>-1.62058520</td><td>-4.23999977</td><td>-4.360000134</td><td>        NA</td><td>         NA</td><td>NA</td><td>NA</td><td>NA</td></tr>\n",
       "\t<tr><td>NA</td><td>NA</td><td>NA</td><td>NA</td><td>NA</td><td>         NA</td><td>        NA</td><td>        NA</td><td>         NA</td><td>         NA</td><td>⋯</td><td> 0.21408066</td><td>-0.627142847</td><td>-2.09491158</td><td>         NA</td><td>          NA</td><td>        NA</td><td>-2.50000000</td><td>NA</td><td>NA</td><td>NA</td></tr>\n",
       "\t<tr><td>NA</td><td>NA</td><td>NA</td><td>NA</td><td>NA</td><td>         NA</td><td>-0.1697439</td><td>-0.4409237</td><td>-0.55458266</td><td>-0.57835609</td><td>⋯</td><td>-0.24019694</td><td>-0.417958498</td><td>-1.04271126</td><td>         NA</td><td>          NA</td><td>        NA</td><td>-0.62603480</td><td>NA</td><td>NA</td><td>NA</td></tr>\n",
       "\t<tr><td>NA</td><td>NA</td><td>NA</td><td>NA</td><td>NA</td><td>-0.06098633</td><td>-0.4206600</td><td>-0.7029645</td><td>-0.78887171</td><td>-0.79945225</td><td>⋯</td><td> 0.60682619</td><td> 0.639952779</td><td>-1.07690096</td><td>-1.52999997</td><td>-2.730000019</td><td>        NA</td><td>-3.19000006</td><td>NA</td><td>NA</td><td>NA</td></tr>\n",
       "\t<tr><td>NA</td><td>NA</td><td>NA</td><td>NA</td><td>NA</td><td>-0.15486561</td><td>-0.5678198</td><td>-0.4074512</td><td>-0.72860694</td><td>-1.02617061</td><td>⋯</td><td> 0.44225967</td><td> 0.289999992</td><td>-1.45528984</td><td>-2.36751652</td><td>          NA</td><td>-2.0213497</td><td>         NA</td><td>NA</td><td>NA</td><td>NA</td></tr>\n",
       "\t<tr><td>NA</td><td>NA</td><td>NA</td><td>NA</td><td>NA</td><td>-0.24057946</td><td>-0.6678612</td><td>-0.9029381</td><td>-0.94882452</td><td>-1.42196906</td><td>⋯</td><td>-0.29198876</td><td> 0.007856488</td><td>-1.49762917</td><td>-1.47038269</td><td>-3.339999914</td><td>-6.6900001</td><td>         NA</td><td>NA</td><td>NA</td><td>NA</td></tr>\n",
       "\t<tr><td>NA</td><td>NA</td><td>NA</td><td>NA</td><td>NA</td><td>-0.22199807</td><td>-0.8262340</td><td>-1.3077309</td><td>-1.35774004</td><td>-1.31461942</td><td>⋯</td><td> 0.09749806</td><td> 0.119999997</td><td>-1.31053293</td><td>         NA</td><td>-2.190000057</td><td>        NA</td><td>         NA</td><td>NA</td><td>NA</td><td>NA</td></tr>\n",
       "\t<tr><td>NA</td><td>NA</td><td>NA</td><td>NA</td><td>NA</td><td>-0.36582714</td><td>-0.9412854</td><td>-1.2547942</td><td>-1.65094185</td><td>-1.47020209</td><td>⋯</td><td> 0.95338994</td><td>-1.179990530</td><td>-0.94999999</td><td>         NA</td><td>          NA</td><td>        NA</td><td> 2.97000003</td><td>NA</td><td>NA</td><td>NA</td></tr>\n",
       "\t<tr><td>NA</td><td>NA</td><td>NA</td><td>NA</td><td>NA</td><td>         NA</td><td>-0.9192676</td><td>-1.4885594</td><td>-1.86747491</td><td>-1.41876101</td><td>⋯</td><td> 0.55572647</td><td>-0.991240323</td><td>         NA</td><td>-1.30097270</td><td>-1.104978204</td><td>        NA</td><td>-1.09486389</td><td>NA</td><td>NA</td><td>NA</td></tr>\n",
       "\t<tr><td>NA</td><td>NA</td><td>NA</td><td>NA</td><td>NA</td><td>         NA</td><td>        NA</td><td>-1.4861391</td><td>-1.74675107</td><td>-1.11806643</td><td>⋯</td><td> 0.54016954</td><td>-0.087156199</td><td>-0.09771429</td><td>-0.58162260</td><td>-1.226686239</td><td>-1.3258067</td><td>-1.16933286</td><td>NA</td><td>NA</td><td>NA</td></tr>\n",
       "\t<tr><td>NA</td><td>NA</td><td>NA</td><td>NA</td><td>NA</td><td> 0.34000000</td><td>        NA</td><td>        NA</td><td>         NA</td><td>-0.90929210</td><td>⋯</td><td> 1.22658181</td><td> 1.544310927</td><td> 0.96281517</td><td> 0.11501031</td><td>          NA</td><td> 0.3753299</td><td> 0.05857182</td><td>NA</td><td>NA</td><td>NA</td></tr>\n",
       "\t<tr><td>NA</td><td>NA</td><td>NA</td><td>NA</td><td>NA</td><td>         NA</td><td>        NA</td><td> 1.2000000</td><td>         NA</td><td>-0.65815240</td><td>⋯</td><td> 1.07102656</td><td> 1.912538052</td><td> 1.35502267</td><td> 0.56753224</td><td>-0.107015751</td><td> 0.3371410</td><td> 0.77885288</td><td>NA</td><td>NA</td><td>NA</td></tr>\n",
       "\t<tr><td>NA</td><td>NA</td><td>NA</td><td>NA</td><td>NA</td><td>         NA</td><td>-0.7499329</td><td>-0.8363801</td><td>         NA</td><td>-0.56528622</td><td>⋯</td><td> 1.04670095</td><td> 1.791487932</td><td> 1.47122908</td><td> 0.86064625</td><td> 0.440668404</td><td>        NA</td><td> 1.12747109</td><td>NA</td><td>NA</td><td>NA</td></tr>\n",
       "\t<tr><td>NA</td><td>NA</td><td>NA</td><td>NA</td><td>NA</td><td>         NA</td><td>-0.7914029</td><td>-0.8402827</td><td>-0.76294339</td><td>-0.47780380</td><td>⋯</td><td> 1.11061668</td><td> 1.632037044</td><td> 1.31927037</td><td> 0.89700294</td><td> 0.494957596</td><td>-0.1191137</td><td> 1.26109028</td><td>NA</td><td>NA</td><td>NA</td></tr>\n",
       "\t<tr><td>NA</td><td>NA</td><td>NA</td><td>NA</td><td>NA</td><td>         NA</td><td>-0.9720980</td><td>-0.7398673</td><td>-0.54816222</td><td>-0.36572853</td><td>⋯</td><td> 1.05496168</td><td> 1.368819237</td><td> 1.11766005</td><td> 0.84499192</td><td> 0.295163870</td><td>-0.1554662</td><td> 1.75000000</td><td>NA</td><td>NA</td><td>NA</td></tr>\n",
       "\t<tr><td>NA</td><td>NA</td><td>NA</td><td>NA</td><td>NA</td><td>         NA</td><td>-0.9025080</td><td>-0.6139256</td><td>-0.30291057</td><td>-0.30004954</td><td>⋯</td><td> 0.86234093</td><td> 1.040015578</td><td> 0.95735621</td><td> 0.59824568</td><td> 0.320065022</td><td> 0.5698152</td><td>         NA</td><td>NA</td><td>NA</td><td>NA</td></tr>\n",
       "\t<tr><td>NA</td><td>NA</td><td>NA</td><td>NA</td><td>NA</td><td>         NA</td><td>-0.8384985</td><td>-0.5307279</td><td>-0.23365818</td><td>-0.39668068</td><td>⋯</td><td> 0.68489653</td><td> 0.727147460</td><td> 0.64485824</td><td> 0.44672173</td><td> 0.202944711</td><td> 0.2979381</td><td>         NA</td><td>NA</td><td>NA</td><td>NA</td></tr>\n",
       "\t<tr><td>NA</td><td>NA</td><td>NA</td><td>NA</td><td>NA</td><td>         NA</td><td>-0.7920504</td><td>-0.4944986</td><td>-0.16763553</td><td>-0.39215466</td><td>⋯</td><td> 0.53223640</td><td> 0.371893227</td><td> 0.33779463</td><td> 0.35033759</td><td> 0.096019298</td><td> 0.4784548</td><td> 1.41840124</td><td>NA</td><td>NA</td><td>NA</td></tr>\n",
       "\t<tr><td>NA</td><td>NA</td><td>NA</td><td>NA</td><td>NA</td><td>         NA</td><td>-0.7084152</td><td>-0.3460619</td><td> 0.04035293</td><td>-0.04183052</td><td>⋯</td><td>-0.17381990</td><td>-0.145835012</td><td> 0.18178961</td><td> 0.32527083</td><td>-0.002842225</td><td> 0.3367361</td><td> 1.53253829</td><td>NA</td><td>NA</td><td>NA</td></tr>\n",
       "</tbody>\n",
       "</table>\n"
      ],
      "text/latex": [
       "A matrix: 72 × 36 of type dbl\n",
       "\\begin{tabular}{lllllllllllllllllllll}\n",
       "\t NA & NA & NA & NA & NA & NA & -0.6202122 & -0.28983244 &  0.127612844 &  0.105352372 & ⋯ & -0.537931740 & -1.87294960 &  0.24818414 &  0.49265805 &  0.28210214 &  0.449737489 &  1.1294684 & 0.9146796 &   NA & NA\\\\\n",
       "\t NA & NA & NA & NA & NA & NA & -0.4854550 & -0.29407427 &  0.026559843 &  0.000770571 & ⋯ & -0.835091114 & -2.66000009 & -1.08594847 &  0.69367015 &  0.10752933 &  0.591097713 &  1.1051759 & 0.7053886 &   NA & NA\\\\\n",
       "\t NA & NA & NA & NA & NA & NA & -0.7393103 & -0.28969392 &  0.041384175 & -0.090124525 & ⋯ & -1.269892812 & -3.05221272 & -1.84167469 &  0.43207514 &  0.35837406 &  0.443900764 &  0.9841446 & 0.8509724 &   NA & NA\\\\\n",
       "\t NA & NA & NA & NA & NA & NA & -0.8334374 & -0.22463292 &  0.190988734 & -0.151320428 & ⋯ & -1.601708531 & -3.17991972 & -2.66849828 &  0.27449751 &  0.36497775 &  0.345626265 &  1.0454960 &        NA &   NA & NA\\\\\n",
       "\t NA & NA & NA & NA & NA & NA & -0.8196298 & -0.20011082 &  0.178636834 & -0.218324393 & ⋯ & -2.145020962 & -2.74029255 & -2.38935113 & -0.28059667 &  0.50999999 &  0.259044379 &  1.0828582 &        NA &   NA & NA\\\\\n",
       "\t NA & NA & NA & NA & NA & NA & -0.5987538 & -0.09562428 &  0.127850562 & -0.302159876 & ⋯ & -1.020416260 & -1.85013807 & -2.57099295 & -1.79307616 & -0.99419832 &  0.613359451 &  0.9467384 &        NA &   NA & NA\\\\\n",
       "\t NA & NA & NA & NA & NA & NA & -0.4492744 & -0.14773342 &  0.020136885 & -0.136485785 & ⋯ & -0.401134670 & -1.10070395 & -2.19099236 & -1.69648826 & -0.55620253 &  0.760314703 &  0.8679525 &        NA &   NA & NA\\\\\n",
       "\t NA & NA & NA & NA & NA & NA &         NA &          NA &  0.009670788 & -0.005256775 & ⋯ & -0.638019681 & -1.44743681 & -1.64928043 & -1.89835858 & -1.24357367 &  1.259999990 &  0.7236950 &        NA &   NA & NA\\\\\n",
       "\t NA & NA & NA & NA & NA & NA &         NA &          NA & -0.158918560 & -0.102225631 & ⋯ & -0.917013168 & -1.16364527 & -0.99239308 & -1.57622480 & -0.27919686 & -0.005481333 & -0.1899090 &        NA &   NA & NA\\\\\n",
       "\t NA & NA & NA & NA & NA & NA &         NA & -0.64733446 & -0.345341444 & -0.261111975 & ⋯ & -0.276104450 & -0.50022191 &  0.31061247 & -0.72260940 &  0.48036933 &  4.380000114 &         NA &        NA &   NA & NA\\\\\n",
       "\t NA & NA & NA & NA & NA & NA &         NA & -0.67590743 & -0.373588830 & -0.263846487 & ⋯ & -0.268124402 &  0.10986871 &  1.17465675 &  0.57172859 &  0.61704886 &  1.343866348 &  2.6400001 &        NA &   NA & NA\\\\\n",
       "\t NA & NA & NA & NA & NA & NA &         NA & -0.52490014 & -0.261390358 & -0.183519289 & ⋯ &  1.109488249 &  1.09304774 &  1.24661541 &  1.00859094 &  1.40338135 &  1.853716373 &         NA &        NA & 0.65 & NA\\\\\n",
       "\t NA & NA & NA & NA & NA & NA &         NA & -0.44366845 & -0.299334317 & -0.142208368 & ⋯ &  1.495387554 &  1.39396477 &  1.81454659 &  1.60197926 &  2.63795424 &  3.119392395 &         NA & 3.3599999 &   NA & NA\\\\\n",
       "\t NA & NA & NA & NA & NA & NA &         NA & -0.44151002 & -0.365199476 & -0.055469848 & ⋯ &  1.322556496 &  2.03410816 &  2.52891922 &  2.52818990 &  3.64879513 &  3.072127104 &         NA & 4.1599998 &   NA & NA\\\\\n",
       "\t NA & NA & NA & NA & NA & NA &         NA & -0.37778386 & -0.301796347 & -0.091428578 & ⋯ &  2.109943390 &  1.86116982 &  2.27722478 &  3.05860758 &  4.44784117 &  3.276115417 &  2.7100000 &        NA &   NA & NA\\\\\n",
       "\t NA & NA & NA & NA & NA & NA &         NA & -0.36512563 & -0.313503146 & -0.129802525 & ⋯ &  1.826648235 &  1.65793383 &  2.10578156 &  3.15935707 &  4.85814810 &  4.668457985 &  4.2700000 &        NA &   NA & NA\\\\\n",
       "\t NA & NA & NA & NA & NA & NA &         NA &          NA & -0.343594402 & -0.210632339 & ⋯ &  1.205056548 &  2.22496557 &  2.11366200 &  3.61913133 &  4.79895020 &  4.541970730 &  1.9019500 & 4.3800001 &   NA & NA\\\\\n",
       "\t NA & NA & NA & NA & NA & NA &         NA &          NA & -0.523310781 & -0.357023031 & ⋯ &  0.448161513 &  1.32473087 &  2.34931517 &  3.54763889 &  4.18121338 &  4.248987198 &  2.8111274 & 5.0000000 &   NA & NA\\\\\n",
       "\t NA & NA & NA & NA & NA & NA &         NA &          NA & -0.708950460 & -0.583143473 & ⋯ & -0.023835853 &  0.97581047 &  2.51909184 &  3.73701119 &  4.25832701 &  4.222610950 &  4.4118767 &        NA &   NA & NA\\\\\n",
       "\t NA & NA & NA & NA & NA & NA &         NA & -0.83585399 & -0.982789934 & -0.909944713 & ⋯ &  0.727405906 &  1.36702776 &  2.68381667 &  3.36054611 &  4.29253864 &  4.651895523 &  4.2035837 & 3.8599999 &   NA & NA\\\\\n",
       "\t NA & NA & NA & NA & NA & NA &         NA & -1.08239102 & -1.135215282 & -1.018131852 & ⋯ &  1.607886434 &  2.05043435 &  3.00426292 &  3.71028423 &  4.09760380 &  4.630562782 &  4.3828650 & 4.1199999 &   NA & NA\\\\\n",
       "\t NA & NA & NA & NA & NA & NA &         NA & -1.20429385 & -1.073588252 & -1.074453712 & ⋯ &  2.145003080 &  2.14999557 &  2.75228047 &  3.36074185 &  3.17259288 &  3.993427038 &  3.4505026 &        NA &   NA & NA\\\\\n",
       "\t NA & NA & NA & NA & NA & NA &         NA & -1.24920452 & -1.097619534 & -1.098227978 & ⋯ &  2.495729923 &  2.06742120 &  2.35480118 &  3.17945910 &  2.44510150 &  3.006891251 &  1.4027667 &        NA &   NA & NA\\\\\n",
       "\t NA & NA & NA & NA & NA & NA &         NA & -1.17536151 & -1.127874255 & -1.053290129 & ⋯ &  1.671961427 &  1.51226854 &  2.00921392 &  2.47920394 &  2.22450638 &  2.667634249 &  1.5593848 &        NA &   NA & NA\\\\\n",
       "\t NA & NA & NA & NA & NA & NA &         NA & -1.03222525 & -0.958126485 & -0.963152111 & ⋯ &  0.750443339 &  0.97895187 &  1.00236785 &  1.29838908 &  1.22042096 &  2.404286861 &  1.5253580 &        NA &   NA & NA\\\\\n",
       "\t NA & NA & NA & NA & NA & NA &         NA & -0.74122697 & -0.859642327 & -0.899472177 & ⋯ & -0.182048351 &  0.08869952 &  0.35434717 &  0.69949293 &  1.16713667 &  1.793119788 &  0.8606514 &        NA &   NA & NA\\\\\n",
       "\t NA & NA & NA & NA & NA & NA &         NA & -0.46319559 & -0.705830514 & -0.703707695 & ⋯ & -0.664974868 & -0.31978831 &  0.02538815 &  0.40935487 &  0.04900825 &  0.772662342 &         NA &        NA &   NA & NA\\\\\n",
       "\t NA & NA & NA & NA & NA & NA &         NA & -0.34032953 & -0.554033041 & -0.565362215 & ⋯ & -0.562718034 & -0.67619538 & -0.45037004 & -0.02868681 &  0.10339553 &  0.832687557 &  0.3900000 & 2.7400000 &   NA & NA\\\\\n",
       "\t NA & NA & NA & NA & NA & NA &         NA & -0.13787335 & -0.366101772 & -0.402459711 & ⋯ &  0.088325746 & -0.57997417 & -0.51999998 &  0.33000001 &  0.21330257 &  0.599803090 &  3.6099999 &        NA &   NA & NA\\\\\n",
       "\t NA & NA & NA & NA & NA & NA &         NA &          NA & -0.153727695 & -0.090792619 & ⋯ & -0.007916592 & -0.74654436 &          NA &          NA &  0.25405270 &  0.460937053 &         NA &        NA &   NA & NA\\\\\n",
       "\t ⋮ & ⋮ & ⋮ & ⋮ & ⋮ & ⋮ & ⋮ & ⋮ & ⋮ & ⋮ & ⋱ & ⋮ & ⋮ & ⋮ & ⋮ & ⋮ & ⋮ & ⋮ & ⋮ & ⋮ & ⋮\\\\\n",
       "\t NA & NA & NA & NA & NA &          NA &         NA &         NA & -1.03765130 & -1.14787817 & ⋯ & -0.72745198 & -0.539152145 & -0.63528079 & -0.35526615 &  0.761579692 &  0.1559132 &          NA & NA & NA & NA\\\\\n",
       "\t NA & NA & NA & NA & NA &          NA &         NA &         NA &          NA & -1.33770728 & ⋯ & -0.70461655 & -0.496376604 & -0.40371022 & -0.07586693 &  1.017054319 &  1.0395586 &          NA & NA & NA & NA\\\\\n",
       "\t NA & NA & NA & NA & NA &          NA &         NA &         NA &          NA & -1.32537293 & ⋯ & -0.58864594 & -0.390182823 & -0.27330157 &  0.06163443 & -0.013497770 & -0.1581344 &          NA & NA & NA & NA\\\\\n",
       "\t NA & NA & NA & NA & NA &          NA &         NA &         NA &          NA & -1.23415732 & ⋯ & -0.45375887 & -0.406053036 & -0.15399772 &  0.08400441 & -0.975186229 & -1.3216939 &          NA & NA & NA & NA\\\\\n",
       "\t NA & NA & NA & NA & NA &          NA &         NA &         NA &          NA & -1.02880096 & ⋯ & -0.13268386 & -0.197947741 &  0.12996706 & -0.59248364 & -1.486913204 & -1.5317039 &          NA & NA & NA & NA\\\\\n",
       "\t NA & NA & NA & NA & NA &          NA &         NA &         NA &          NA &          NA & ⋯ &  0.28471875 &  0.528546691 &  0.49920291 & -0.81128365 & -3.235391378 & -2.7874804 &          NA & NA & NA & NA\\\\\n",
       "\t NA & NA & NA & NA & NA &          NA &         NA &         NA &          NA &          NA & ⋯ &  0.42999995 &  0.270000011 &  0.22992519 & -0.44362128 & -3.800447464 & -2.4703212 &          NA & NA & NA & NA\\\\\n",
       "\t NA & NA & NA & NA & NA &          NA &         NA &         NA &          NA &          NA & ⋯ &  0.51999998 &  0.070000000 & -0.57999998 & -2.13038158 & -3.040197372 & -1.4691701 &          NA & NA & NA & NA\\\\\n",
       "\t NA & NA & NA & NA & NA &          NA &         NA &         NA &          NA &          NA & ⋯ &  0.25999999 & -0.140000001 & -0.93999994 & -2.43839717 & -2.530547380 & -0.1766288 &          NA & NA & NA & NA\\\\\n",
       "\t NA & NA & NA & NA & NA &          NA &         NA &         NA &          NA &          NA & ⋯ &  0.25999999 &  0.189999998 & -1.00000024 & -1.90921295 & -2.355106115 & -1.1711433 &          NA & NA & NA & NA\\\\\n",
       "\t NA & NA & NA & NA & NA &          NA &         NA &         NA &          NA &          NA & ⋯ &  0.56000000 & -0.070000000 & -1.39589906 & -2.19961476 & -1.992772341 & -1.1521786 &          NA & NA & NA & NA\\\\\n",
       "\t NA & NA & NA & NA & NA &          NA &         NA &         NA &          NA &          NA & ⋯ &  0.28999999 & -0.271055728 & -1.62058520 & -4.23999977 & -4.360000134 &         NA &          NA & NA & NA & NA\\\\\n",
       "\t NA & NA & NA & NA & NA &          NA &         NA &         NA &          NA &          NA & ⋯ &  0.21408066 & -0.627142847 & -2.09491158 &          NA &           NA &         NA & -2.50000000 & NA & NA & NA\\\\\n",
       "\t NA & NA & NA & NA & NA &          NA & -0.1697439 & -0.4409237 & -0.55458266 & -0.57835609 & ⋯ & -0.24019694 & -0.417958498 & -1.04271126 &          NA &           NA &         NA & -0.62603480 & NA & NA & NA\\\\\n",
       "\t NA & NA & NA & NA & NA & -0.06098633 & -0.4206600 & -0.7029645 & -0.78887171 & -0.79945225 & ⋯ &  0.60682619 &  0.639952779 & -1.07690096 & -1.52999997 & -2.730000019 &         NA & -3.19000006 & NA & NA & NA\\\\\n",
       "\t NA & NA & NA & NA & NA & -0.15486561 & -0.5678198 & -0.4074512 & -0.72860694 & -1.02617061 & ⋯ &  0.44225967 &  0.289999992 & -1.45528984 & -2.36751652 &           NA & -2.0213497 &          NA & NA & NA & NA\\\\\n",
       "\t NA & NA & NA & NA & NA & -0.24057946 & -0.6678612 & -0.9029381 & -0.94882452 & -1.42196906 & ⋯ & -0.29198876 &  0.007856488 & -1.49762917 & -1.47038269 & -3.339999914 & -6.6900001 &          NA & NA & NA & NA\\\\\n",
       "\t NA & NA & NA & NA & NA & -0.22199807 & -0.8262340 & -1.3077309 & -1.35774004 & -1.31461942 & ⋯ &  0.09749806 &  0.119999997 & -1.31053293 &          NA & -2.190000057 &         NA &          NA & NA & NA & NA\\\\\n",
       "\t NA & NA & NA & NA & NA & -0.36582714 & -0.9412854 & -1.2547942 & -1.65094185 & -1.47020209 & ⋯ &  0.95338994 & -1.179990530 & -0.94999999 &          NA &           NA &         NA &  2.97000003 & NA & NA & NA\\\\\n",
       "\t NA & NA & NA & NA & NA &          NA & -0.9192676 & -1.4885594 & -1.86747491 & -1.41876101 & ⋯ &  0.55572647 & -0.991240323 &          NA & -1.30097270 & -1.104978204 &         NA & -1.09486389 & NA & NA & NA\\\\\n",
       "\t NA & NA & NA & NA & NA &          NA &         NA & -1.4861391 & -1.74675107 & -1.11806643 & ⋯ &  0.54016954 & -0.087156199 & -0.09771429 & -0.58162260 & -1.226686239 & -1.3258067 & -1.16933286 & NA & NA & NA\\\\\n",
       "\t NA & NA & NA & NA & NA &  0.34000000 &         NA &         NA &          NA & -0.90929210 & ⋯ &  1.22658181 &  1.544310927 &  0.96281517 &  0.11501031 &           NA &  0.3753299 &  0.05857182 & NA & NA & NA\\\\\n",
       "\t NA & NA & NA & NA & NA &          NA &         NA &  1.2000000 &          NA & -0.65815240 & ⋯ &  1.07102656 &  1.912538052 &  1.35502267 &  0.56753224 & -0.107015751 &  0.3371410 &  0.77885288 & NA & NA & NA\\\\\n",
       "\t NA & NA & NA & NA & NA &          NA & -0.7499329 & -0.8363801 &          NA & -0.56528622 & ⋯ &  1.04670095 &  1.791487932 &  1.47122908 &  0.86064625 &  0.440668404 &         NA &  1.12747109 & NA & NA & NA\\\\\n",
       "\t NA & NA & NA & NA & NA &          NA & -0.7914029 & -0.8402827 & -0.76294339 & -0.47780380 & ⋯ &  1.11061668 &  1.632037044 &  1.31927037 &  0.89700294 &  0.494957596 & -0.1191137 &  1.26109028 & NA & NA & NA\\\\\n",
       "\t NA & NA & NA & NA & NA &          NA & -0.9720980 & -0.7398673 & -0.54816222 & -0.36572853 & ⋯ &  1.05496168 &  1.368819237 &  1.11766005 &  0.84499192 &  0.295163870 & -0.1554662 &  1.75000000 & NA & NA & NA\\\\\n",
       "\t NA & NA & NA & NA & NA &          NA & -0.9025080 & -0.6139256 & -0.30291057 & -0.30004954 & ⋯ &  0.86234093 &  1.040015578 &  0.95735621 &  0.59824568 &  0.320065022 &  0.5698152 &          NA & NA & NA & NA\\\\\n",
       "\t NA & NA & NA & NA & NA &          NA & -0.8384985 & -0.5307279 & -0.23365818 & -0.39668068 & ⋯ &  0.68489653 &  0.727147460 &  0.64485824 &  0.44672173 &  0.202944711 &  0.2979381 &          NA & NA & NA & NA\\\\\n",
       "\t NA & NA & NA & NA & NA &          NA & -0.7920504 & -0.4944986 & -0.16763553 & -0.39215466 & ⋯ &  0.53223640 &  0.371893227 &  0.33779463 &  0.35033759 &  0.096019298 &  0.4784548 &  1.41840124 & NA & NA & NA\\\\\n",
       "\t NA & NA & NA & NA & NA &          NA & -0.7084152 & -0.3460619 &  0.04035293 & -0.04183052 & ⋯ & -0.17381990 & -0.145835012 &  0.18178961 &  0.32527083 & -0.002842225 &  0.3367361 &  1.53253829 & NA & NA & NA\\\\\n",
       "\\end{tabular}\n"
      ],
      "text/markdown": [
       "\n",
       "A matrix: 72 × 36 of type dbl\n",
       "\n",
       "| NA | NA | NA | NA | NA | NA | -0.6202122 | -0.28983244 |  0.127612844 |  0.105352372 | ⋯ | -0.537931740 | -1.87294960 |  0.24818414 |  0.49265805 |  0.28210214 |  0.449737489 |  1.1294684 | 0.9146796 |   NA | NA |\n",
       "| NA | NA | NA | NA | NA | NA | -0.4854550 | -0.29407427 |  0.026559843 |  0.000770571 | ⋯ | -0.835091114 | -2.66000009 | -1.08594847 |  0.69367015 |  0.10752933 |  0.591097713 |  1.1051759 | 0.7053886 |   NA | NA |\n",
       "| NA | NA | NA | NA | NA | NA | -0.7393103 | -0.28969392 |  0.041384175 | -0.090124525 | ⋯ | -1.269892812 | -3.05221272 | -1.84167469 |  0.43207514 |  0.35837406 |  0.443900764 |  0.9841446 | 0.8509724 |   NA | NA |\n",
       "| NA | NA | NA | NA | NA | NA | -0.8334374 | -0.22463292 |  0.190988734 | -0.151320428 | ⋯ | -1.601708531 | -3.17991972 | -2.66849828 |  0.27449751 |  0.36497775 |  0.345626265 |  1.0454960 |        NA |   NA | NA |\n",
       "| NA | NA | NA | NA | NA | NA | -0.8196298 | -0.20011082 |  0.178636834 | -0.218324393 | ⋯ | -2.145020962 | -2.74029255 | -2.38935113 | -0.28059667 |  0.50999999 |  0.259044379 |  1.0828582 |        NA |   NA | NA |\n",
       "| NA | NA | NA | NA | NA | NA | -0.5987538 | -0.09562428 |  0.127850562 | -0.302159876 | ⋯ | -1.020416260 | -1.85013807 | -2.57099295 | -1.79307616 | -0.99419832 |  0.613359451 |  0.9467384 |        NA |   NA | NA |\n",
       "| NA | NA | NA | NA | NA | NA | -0.4492744 | -0.14773342 |  0.020136885 | -0.136485785 | ⋯ | -0.401134670 | -1.10070395 | -2.19099236 | -1.69648826 | -0.55620253 |  0.760314703 |  0.8679525 |        NA |   NA | NA |\n",
       "| NA | NA | NA | NA | NA | NA |         NA |          NA |  0.009670788 | -0.005256775 | ⋯ | -0.638019681 | -1.44743681 | -1.64928043 | -1.89835858 | -1.24357367 |  1.259999990 |  0.7236950 |        NA |   NA | NA |\n",
       "| NA | NA | NA | NA | NA | NA |         NA |          NA | -0.158918560 | -0.102225631 | ⋯ | -0.917013168 | -1.16364527 | -0.99239308 | -1.57622480 | -0.27919686 | -0.005481333 | -0.1899090 |        NA |   NA | NA |\n",
       "| NA | NA | NA | NA | NA | NA |         NA | -0.64733446 | -0.345341444 | -0.261111975 | ⋯ | -0.276104450 | -0.50022191 |  0.31061247 | -0.72260940 |  0.48036933 |  4.380000114 |         NA |        NA |   NA | NA |\n",
       "| NA | NA | NA | NA | NA | NA |         NA | -0.67590743 | -0.373588830 | -0.263846487 | ⋯ | -0.268124402 |  0.10986871 |  1.17465675 |  0.57172859 |  0.61704886 |  1.343866348 |  2.6400001 |        NA |   NA | NA |\n",
       "| NA | NA | NA | NA | NA | NA |         NA | -0.52490014 | -0.261390358 | -0.183519289 | ⋯ |  1.109488249 |  1.09304774 |  1.24661541 |  1.00859094 |  1.40338135 |  1.853716373 |         NA |        NA | 0.65 | NA |\n",
       "| NA | NA | NA | NA | NA | NA |         NA | -0.44366845 | -0.299334317 | -0.142208368 | ⋯ |  1.495387554 |  1.39396477 |  1.81454659 |  1.60197926 |  2.63795424 |  3.119392395 |         NA | 3.3599999 |   NA | NA |\n",
       "| NA | NA | NA | NA | NA | NA |         NA | -0.44151002 | -0.365199476 | -0.055469848 | ⋯ |  1.322556496 |  2.03410816 |  2.52891922 |  2.52818990 |  3.64879513 |  3.072127104 |         NA | 4.1599998 |   NA | NA |\n",
       "| NA | NA | NA | NA | NA | NA |         NA | -0.37778386 | -0.301796347 | -0.091428578 | ⋯ |  2.109943390 |  1.86116982 |  2.27722478 |  3.05860758 |  4.44784117 |  3.276115417 |  2.7100000 |        NA |   NA | NA |\n",
       "| NA | NA | NA | NA | NA | NA |         NA | -0.36512563 | -0.313503146 | -0.129802525 | ⋯ |  1.826648235 |  1.65793383 |  2.10578156 |  3.15935707 |  4.85814810 |  4.668457985 |  4.2700000 |        NA |   NA | NA |\n",
       "| NA | NA | NA | NA | NA | NA |         NA |          NA | -0.343594402 | -0.210632339 | ⋯ |  1.205056548 |  2.22496557 |  2.11366200 |  3.61913133 |  4.79895020 |  4.541970730 |  1.9019500 | 4.3800001 |   NA | NA |\n",
       "| NA | NA | NA | NA | NA | NA |         NA |          NA | -0.523310781 | -0.357023031 | ⋯ |  0.448161513 |  1.32473087 |  2.34931517 |  3.54763889 |  4.18121338 |  4.248987198 |  2.8111274 | 5.0000000 |   NA | NA |\n",
       "| NA | NA | NA | NA | NA | NA |         NA |          NA | -0.708950460 | -0.583143473 | ⋯ | -0.023835853 |  0.97581047 |  2.51909184 |  3.73701119 |  4.25832701 |  4.222610950 |  4.4118767 |        NA |   NA | NA |\n",
       "| NA | NA | NA | NA | NA | NA |         NA | -0.83585399 | -0.982789934 | -0.909944713 | ⋯ |  0.727405906 |  1.36702776 |  2.68381667 |  3.36054611 |  4.29253864 |  4.651895523 |  4.2035837 | 3.8599999 |   NA | NA |\n",
       "| NA | NA | NA | NA | NA | NA |         NA | -1.08239102 | -1.135215282 | -1.018131852 | ⋯ |  1.607886434 |  2.05043435 |  3.00426292 |  3.71028423 |  4.09760380 |  4.630562782 |  4.3828650 | 4.1199999 |   NA | NA |\n",
       "| NA | NA | NA | NA | NA | NA |         NA | -1.20429385 | -1.073588252 | -1.074453712 | ⋯ |  2.145003080 |  2.14999557 |  2.75228047 |  3.36074185 |  3.17259288 |  3.993427038 |  3.4505026 |        NA |   NA | NA |\n",
       "| NA | NA | NA | NA | NA | NA |         NA | -1.24920452 | -1.097619534 | -1.098227978 | ⋯ |  2.495729923 |  2.06742120 |  2.35480118 |  3.17945910 |  2.44510150 |  3.006891251 |  1.4027667 |        NA |   NA | NA |\n",
       "| NA | NA | NA | NA | NA | NA |         NA | -1.17536151 | -1.127874255 | -1.053290129 | ⋯ |  1.671961427 |  1.51226854 |  2.00921392 |  2.47920394 |  2.22450638 |  2.667634249 |  1.5593848 |        NA |   NA | NA |\n",
       "| NA | NA | NA | NA | NA | NA |         NA | -1.03222525 | -0.958126485 | -0.963152111 | ⋯ |  0.750443339 |  0.97895187 |  1.00236785 |  1.29838908 |  1.22042096 |  2.404286861 |  1.5253580 |        NA |   NA | NA |\n",
       "| NA | NA | NA | NA | NA | NA |         NA | -0.74122697 | -0.859642327 | -0.899472177 | ⋯ | -0.182048351 |  0.08869952 |  0.35434717 |  0.69949293 |  1.16713667 |  1.793119788 |  0.8606514 |        NA |   NA | NA |\n",
       "| NA | NA | NA | NA | NA | NA |         NA | -0.46319559 | -0.705830514 | -0.703707695 | ⋯ | -0.664974868 | -0.31978831 |  0.02538815 |  0.40935487 |  0.04900825 |  0.772662342 |         NA |        NA |   NA | NA |\n",
       "| NA | NA | NA | NA | NA | NA |         NA | -0.34032953 | -0.554033041 | -0.565362215 | ⋯ | -0.562718034 | -0.67619538 | -0.45037004 | -0.02868681 |  0.10339553 |  0.832687557 |  0.3900000 | 2.7400000 |   NA | NA |\n",
       "| NA | NA | NA | NA | NA | NA |         NA | -0.13787335 | -0.366101772 | -0.402459711 | ⋯ |  0.088325746 | -0.57997417 | -0.51999998 |  0.33000001 |  0.21330257 |  0.599803090 |  3.6099999 |        NA |   NA | NA |\n",
       "| NA | NA | NA | NA | NA | NA |         NA |          NA | -0.153727695 | -0.090792619 | ⋯ | -0.007916592 | -0.74654436 |          NA |          NA |  0.25405270 |  0.460937053 |         NA |        NA |   NA | NA |\n",
       "| ⋮ | ⋮ | ⋮ | ⋮ | ⋮ | ⋮ | ⋮ | ⋮ | ⋮ | ⋮ | ⋱ | ⋮ | ⋮ | ⋮ | ⋮ | ⋮ | ⋮ | ⋮ | ⋮ | ⋮ | ⋮ |\n",
       "| NA | NA | NA | NA | NA |          NA |         NA |         NA | -1.03765130 | -1.14787817 | ⋯ | -0.72745198 | -0.539152145 | -0.63528079 | -0.35526615 |  0.761579692 |  0.1559132 |          NA | NA | NA | NA |\n",
       "| NA | NA | NA | NA | NA |          NA |         NA |         NA |          NA | -1.33770728 | ⋯ | -0.70461655 | -0.496376604 | -0.40371022 | -0.07586693 |  1.017054319 |  1.0395586 |          NA | NA | NA | NA |\n",
       "| NA | NA | NA | NA | NA |          NA |         NA |         NA |          NA | -1.32537293 | ⋯ | -0.58864594 | -0.390182823 | -0.27330157 |  0.06163443 | -0.013497770 | -0.1581344 |          NA | NA | NA | NA |\n",
       "| NA | NA | NA | NA | NA |          NA |         NA |         NA |          NA | -1.23415732 | ⋯ | -0.45375887 | -0.406053036 | -0.15399772 |  0.08400441 | -0.975186229 | -1.3216939 |          NA | NA | NA | NA |\n",
       "| NA | NA | NA | NA | NA |          NA |         NA |         NA |          NA | -1.02880096 | ⋯ | -0.13268386 | -0.197947741 |  0.12996706 | -0.59248364 | -1.486913204 | -1.5317039 |          NA | NA | NA | NA |\n",
       "| NA | NA | NA | NA | NA |          NA |         NA |         NA |          NA |          NA | ⋯ |  0.28471875 |  0.528546691 |  0.49920291 | -0.81128365 | -3.235391378 | -2.7874804 |          NA | NA | NA | NA |\n",
       "| NA | NA | NA | NA | NA |          NA |         NA |         NA |          NA |          NA | ⋯ |  0.42999995 |  0.270000011 |  0.22992519 | -0.44362128 | -3.800447464 | -2.4703212 |          NA | NA | NA | NA |\n",
       "| NA | NA | NA | NA | NA |          NA |         NA |         NA |          NA |          NA | ⋯ |  0.51999998 |  0.070000000 | -0.57999998 | -2.13038158 | -3.040197372 | -1.4691701 |          NA | NA | NA | NA |\n",
       "| NA | NA | NA | NA | NA |          NA |         NA |         NA |          NA |          NA | ⋯ |  0.25999999 | -0.140000001 | -0.93999994 | -2.43839717 | -2.530547380 | -0.1766288 |          NA | NA | NA | NA |\n",
       "| NA | NA | NA | NA | NA |          NA |         NA |         NA |          NA |          NA | ⋯ |  0.25999999 |  0.189999998 | -1.00000024 | -1.90921295 | -2.355106115 | -1.1711433 |          NA | NA | NA | NA |\n",
       "| NA | NA | NA | NA | NA |          NA |         NA |         NA |          NA |          NA | ⋯ |  0.56000000 | -0.070000000 | -1.39589906 | -2.19961476 | -1.992772341 | -1.1521786 |          NA | NA | NA | NA |\n",
       "| NA | NA | NA | NA | NA |          NA |         NA |         NA |          NA |          NA | ⋯ |  0.28999999 | -0.271055728 | -1.62058520 | -4.23999977 | -4.360000134 |         NA |          NA | NA | NA | NA |\n",
       "| NA | NA | NA | NA | NA |          NA |         NA |         NA |          NA |          NA | ⋯ |  0.21408066 | -0.627142847 | -2.09491158 |          NA |           NA |         NA | -2.50000000 | NA | NA | NA |\n",
       "| NA | NA | NA | NA | NA |          NA | -0.1697439 | -0.4409237 | -0.55458266 | -0.57835609 | ⋯ | -0.24019694 | -0.417958498 | -1.04271126 |          NA |           NA |         NA | -0.62603480 | NA | NA | NA |\n",
       "| NA | NA | NA | NA | NA | -0.06098633 | -0.4206600 | -0.7029645 | -0.78887171 | -0.79945225 | ⋯ |  0.60682619 |  0.639952779 | -1.07690096 | -1.52999997 | -2.730000019 |         NA | -3.19000006 | NA | NA | NA |\n",
       "| NA | NA | NA | NA | NA | -0.15486561 | -0.5678198 | -0.4074512 | -0.72860694 | -1.02617061 | ⋯ |  0.44225967 |  0.289999992 | -1.45528984 | -2.36751652 |           NA | -2.0213497 |          NA | NA | NA | NA |\n",
       "| NA | NA | NA | NA | NA | -0.24057946 | -0.6678612 | -0.9029381 | -0.94882452 | -1.42196906 | ⋯ | -0.29198876 |  0.007856488 | -1.49762917 | -1.47038269 | -3.339999914 | -6.6900001 |          NA | NA | NA | NA |\n",
       "| NA | NA | NA | NA | NA | -0.22199807 | -0.8262340 | -1.3077309 | -1.35774004 | -1.31461942 | ⋯ |  0.09749806 |  0.119999997 | -1.31053293 |          NA | -2.190000057 |         NA |          NA | NA | NA | NA |\n",
       "| NA | NA | NA | NA | NA | -0.36582714 | -0.9412854 | -1.2547942 | -1.65094185 | -1.47020209 | ⋯ |  0.95338994 | -1.179990530 | -0.94999999 |          NA |           NA |         NA |  2.97000003 | NA | NA | NA |\n",
       "| NA | NA | NA | NA | NA |          NA | -0.9192676 | -1.4885594 | -1.86747491 | -1.41876101 | ⋯ |  0.55572647 | -0.991240323 |          NA | -1.30097270 | -1.104978204 |         NA | -1.09486389 | NA | NA | NA |\n",
       "| NA | NA | NA | NA | NA |          NA |         NA | -1.4861391 | -1.74675107 | -1.11806643 | ⋯ |  0.54016954 | -0.087156199 | -0.09771429 | -0.58162260 | -1.226686239 | -1.3258067 | -1.16933286 | NA | NA | NA |\n",
       "| NA | NA | NA | NA | NA |  0.34000000 |         NA |         NA |          NA | -0.90929210 | ⋯ |  1.22658181 |  1.544310927 |  0.96281517 |  0.11501031 |           NA |  0.3753299 |  0.05857182 | NA | NA | NA |\n",
       "| NA | NA | NA | NA | NA |          NA |         NA |  1.2000000 |          NA | -0.65815240 | ⋯ |  1.07102656 |  1.912538052 |  1.35502267 |  0.56753224 | -0.107015751 |  0.3371410 |  0.77885288 | NA | NA | NA |\n",
       "| NA | NA | NA | NA | NA |          NA | -0.7499329 | -0.8363801 |          NA | -0.56528622 | ⋯ |  1.04670095 |  1.791487932 |  1.47122908 |  0.86064625 |  0.440668404 |         NA |  1.12747109 | NA | NA | NA |\n",
       "| NA | NA | NA | NA | NA |          NA | -0.7914029 | -0.8402827 | -0.76294339 | -0.47780380 | ⋯ |  1.11061668 |  1.632037044 |  1.31927037 |  0.89700294 |  0.494957596 | -0.1191137 |  1.26109028 | NA | NA | NA |\n",
       "| NA | NA | NA | NA | NA |          NA | -0.9720980 | -0.7398673 | -0.54816222 | -0.36572853 | ⋯ |  1.05496168 |  1.368819237 |  1.11766005 |  0.84499192 |  0.295163870 | -0.1554662 |  1.75000000 | NA | NA | NA |\n",
       "| NA | NA | NA | NA | NA |          NA | -0.9025080 | -0.6139256 | -0.30291057 | -0.30004954 | ⋯ |  0.86234093 |  1.040015578 |  0.95735621 |  0.59824568 |  0.320065022 |  0.5698152 |          NA | NA | NA | NA |\n",
       "| NA | NA | NA | NA | NA |          NA | -0.8384985 | -0.5307279 | -0.23365818 | -0.39668068 | ⋯ |  0.68489653 |  0.727147460 |  0.64485824 |  0.44672173 |  0.202944711 |  0.2979381 |          NA | NA | NA | NA |\n",
       "| NA | NA | NA | NA | NA |          NA | -0.7920504 | -0.4944986 | -0.16763553 | -0.39215466 | ⋯ |  0.53223640 |  0.371893227 |  0.33779463 |  0.35033759 |  0.096019298 |  0.4784548 |  1.41840124 | NA | NA | NA |\n",
       "| NA | NA | NA | NA | NA |          NA | -0.7084152 | -0.3460619 |  0.04035293 | -0.04183052 | ⋯ | -0.17381990 | -0.145835012 |  0.18178961 |  0.32527083 | -0.002842225 |  0.3367361 |  1.53253829 | NA | NA | NA |\n",
       "\n"
      ],
      "text/plain": [
       "      [,1] [,2] [,3] [,4] [,5] [,6]        [,7]       [,8]        [,9]        \n",
       " [1,] NA   NA   NA   NA   NA   NA          -0.6202122 -0.28983244  0.127612844\n",
       " [2,] NA   NA   NA   NA   NA   NA          -0.4854550 -0.29407427  0.026559843\n",
       " [3,] NA   NA   NA   NA   NA   NA          -0.7393103 -0.28969392  0.041384175\n",
       " [4,] NA   NA   NA   NA   NA   NA          -0.8334374 -0.22463292  0.190988734\n",
       " [5,] NA   NA   NA   NA   NA   NA          -0.8196298 -0.20011082  0.178636834\n",
       " [6,] NA   NA   NA   NA   NA   NA          -0.5987538 -0.09562428  0.127850562\n",
       " [7,] NA   NA   NA   NA   NA   NA          -0.4492744 -0.14773342  0.020136885\n",
       " [8,] NA   NA   NA   NA   NA   NA                  NA          NA  0.009670788\n",
       " [9,] NA   NA   NA   NA   NA   NA                  NA          NA -0.158918560\n",
       "[10,] NA   NA   NA   NA   NA   NA                  NA -0.64733446 -0.345341444\n",
       "[11,] NA   NA   NA   NA   NA   NA                  NA -0.67590743 -0.373588830\n",
       "[12,] NA   NA   NA   NA   NA   NA                  NA -0.52490014 -0.261390358\n",
       "[13,] NA   NA   NA   NA   NA   NA                  NA -0.44366845 -0.299334317\n",
       "[14,] NA   NA   NA   NA   NA   NA                  NA -0.44151002 -0.365199476\n",
       "[15,] NA   NA   NA   NA   NA   NA                  NA -0.37778386 -0.301796347\n",
       "[16,] NA   NA   NA   NA   NA   NA                  NA -0.36512563 -0.313503146\n",
       "[17,] NA   NA   NA   NA   NA   NA                  NA          NA -0.343594402\n",
       "[18,] NA   NA   NA   NA   NA   NA                  NA          NA -0.523310781\n",
       "[19,] NA   NA   NA   NA   NA   NA                  NA          NA -0.708950460\n",
       "[20,] NA   NA   NA   NA   NA   NA                  NA -0.83585399 -0.982789934\n",
       "[21,] NA   NA   NA   NA   NA   NA                  NA -1.08239102 -1.135215282\n",
       "[22,] NA   NA   NA   NA   NA   NA                  NA -1.20429385 -1.073588252\n",
       "[23,] NA   NA   NA   NA   NA   NA                  NA -1.24920452 -1.097619534\n",
       "[24,] NA   NA   NA   NA   NA   NA                  NA -1.17536151 -1.127874255\n",
       "[25,] NA   NA   NA   NA   NA   NA                  NA -1.03222525 -0.958126485\n",
       "[26,] NA   NA   NA   NA   NA   NA                  NA -0.74122697 -0.859642327\n",
       "[27,] NA   NA   NA   NA   NA   NA                  NA -0.46319559 -0.705830514\n",
       "[28,] NA   NA   NA   NA   NA   NA                  NA -0.34032953 -0.554033041\n",
       "[29,] NA   NA   NA   NA   NA   NA                  NA -0.13787335 -0.366101772\n",
       "[30,] NA   NA   NA   NA   NA   NA                  NA          NA -0.153727695\n",
       "[31,] ⋮    ⋮    ⋮    ⋮    ⋮    ⋮           ⋮          ⋮           ⋮           \n",
       "[32,] NA   NA   NA   NA   NA            NA         NA         NA  -1.03765130 \n",
       "[33,] NA   NA   NA   NA   NA            NA         NA         NA           NA \n",
       "[34,] NA   NA   NA   NA   NA            NA         NA         NA           NA \n",
       "[35,] NA   NA   NA   NA   NA            NA         NA         NA           NA \n",
       "[36,] NA   NA   NA   NA   NA            NA         NA         NA           NA \n",
       "[37,] NA   NA   NA   NA   NA            NA         NA         NA           NA \n",
       "[38,] NA   NA   NA   NA   NA            NA         NA         NA           NA \n",
       "[39,] NA   NA   NA   NA   NA            NA         NA         NA           NA \n",
       "[40,] NA   NA   NA   NA   NA            NA         NA         NA           NA \n",
       "[41,] NA   NA   NA   NA   NA            NA         NA         NA           NA \n",
       "[42,] NA   NA   NA   NA   NA            NA         NA         NA           NA \n",
       "[43,] NA   NA   NA   NA   NA            NA         NA         NA           NA \n",
       "[44,] NA   NA   NA   NA   NA            NA         NA         NA           NA \n",
       "[45,] NA   NA   NA   NA   NA            NA -0.1697439 -0.4409237  -0.55458266 \n",
       "[46,] NA   NA   NA   NA   NA   -0.06098633 -0.4206600 -0.7029645  -0.78887171 \n",
       "[47,] NA   NA   NA   NA   NA   -0.15486561 -0.5678198 -0.4074512  -0.72860694 \n",
       "[48,] NA   NA   NA   NA   NA   -0.24057946 -0.6678612 -0.9029381  -0.94882452 \n",
       "[49,] NA   NA   NA   NA   NA   -0.22199807 -0.8262340 -1.3077309  -1.35774004 \n",
       "[50,] NA   NA   NA   NA   NA   -0.36582714 -0.9412854 -1.2547942  -1.65094185 \n",
       "[51,] NA   NA   NA   NA   NA            NA -0.9192676 -1.4885594  -1.86747491 \n",
       "[52,] NA   NA   NA   NA   NA            NA         NA -1.4861391  -1.74675107 \n",
       "[53,] NA   NA   NA   NA   NA    0.34000000         NA         NA           NA \n",
       "[54,] NA   NA   NA   NA   NA            NA         NA  1.2000000           NA \n",
       "[55,] NA   NA   NA   NA   NA            NA -0.7499329 -0.8363801           NA \n",
       "[56,] NA   NA   NA   NA   NA            NA -0.7914029 -0.8402827  -0.76294339 \n",
       "[57,] NA   NA   NA   NA   NA            NA -0.9720980 -0.7398673  -0.54816222 \n",
       "[58,] NA   NA   NA   NA   NA            NA -0.9025080 -0.6139256  -0.30291057 \n",
       "[59,] NA   NA   NA   NA   NA            NA -0.8384985 -0.5307279  -0.23365818 \n",
       "[60,] NA   NA   NA   NA   NA            NA -0.7920504 -0.4944986  -0.16763553 \n",
       "[61,] NA   NA   NA   NA   NA            NA -0.7084152 -0.3460619   0.04035293 \n",
       "      [,10]        [,11] [,12]        [,13]        [,14]       [,15]      \n",
       " [1,]  0.105352372 ⋯     -0.537931740 -1.87294960   0.24818414  0.49265805\n",
       " [2,]  0.000770571 ⋯     -0.835091114 -2.66000009  -1.08594847  0.69367015\n",
       " [3,] -0.090124525 ⋯     -1.269892812 -3.05221272  -1.84167469  0.43207514\n",
       " [4,] -0.151320428 ⋯     -1.601708531 -3.17991972  -2.66849828  0.27449751\n",
       " [5,] -0.218324393 ⋯     -2.145020962 -2.74029255  -2.38935113 -0.28059667\n",
       " [6,] -0.302159876 ⋯     -1.020416260 -1.85013807  -2.57099295 -1.79307616\n",
       " [7,] -0.136485785 ⋯     -0.401134670 -1.10070395  -2.19099236 -1.69648826\n",
       " [8,] -0.005256775 ⋯     -0.638019681 -1.44743681  -1.64928043 -1.89835858\n",
       " [9,] -0.102225631 ⋯     -0.917013168 -1.16364527  -0.99239308 -1.57622480\n",
       "[10,] -0.261111975 ⋯     -0.276104450 -0.50022191   0.31061247 -0.72260940\n",
       "[11,] -0.263846487 ⋯     -0.268124402  0.10986871   1.17465675  0.57172859\n",
       "[12,] -0.183519289 ⋯      1.109488249  1.09304774   1.24661541  1.00859094\n",
       "[13,] -0.142208368 ⋯      1.495387554  1.39396477   1.81454659  1.60197926\n",
       "[14,] -0.055469848 ⋯      1.322556496  2.03410816   2.52891922  2.52818990\n",
       "[15,] -0.091428578 ⋯      2.109943390  1.86116982   2.27722478  3.05860758\n",
       "[16,] -0.129802525 ⋯      1.826648235  1.65793383   2.10578156  3.15935707\n",
       "[17,] -0.210632339 ⋯      1.205056548  2.22496557   2.11366200  3.61913133\n",
       "[18,] -0.357023031 ⋯      0.448161513  1.32473087   2.34931517  3.54763889\n",
       "[19,] -0.583143473 ⋯     -0.023835853  0.97581047   2.51909184  3.73701119\n",
       "[20,] -0.909944713 ⋯      0.727405906  1.36702776   2.68381667  3.36054611\n",
       "[21,] -1.018131852 ⋯      1.607886434  2.05043435   3.00426292  3.71028423\n",
       "[22,] -1.074453712 ⋯      2.145003080  2.14999557   2.75228047  3.36074185\n",
       "[23,] -1.098227978 ⋯      2.495729923  2.06742120   2.35480118  3.17945910\n",
       "[24,] -1.053290129 ⋯      1.671961427  1.51226854   2.00921392  2.47920394\n",
       "[25,] -0.963152111 ⋯      0.750443339  0.97895187   1.00236785  1.29838908\n",
       "[26,] -0.899472177 ⋯     -0.182048351  0.08869952   0.35434717  0.69949293\n",
       "[27,] -0.703707695 ⋯     -0.664974868 -0.31978831   0.02538815  0.40935487\n",
       "[28,] -0.565362215 ⋯     -0.562718034 -0.67619538  -0.45037004 -0.02868681\n",
       "[29,] -0.402459711 ⋯      0.088325746 -0.57997417  -0.51999998  0.33000001\n",
       "[30,] -0.090792619 ⋯     -0.007916592 -0.74654436           NA          NA\n",
       "[31,] ⋮            ⋱     ⋮            ⋮            ⋮           ⋮          \n",
       "[32,] -1.14787817  ⋯     -0.72745198  -0.539152145 -0.63528079 -0.35526615\n",
       "[33,] -1.33770728  ⋯     -0.70461655  -0.496376604 -0.40371022 -0.07586693\n",
       "[34,] -1.32537293  ⋯     -0.58864594  -0.390182823 -0.27330157  0.06163443\n",
       "[35,] -1.23415732  ⋯     -0.45375887  -0.406053036 -0.15399772  0.08400441\n",
       "[36,] -1.02880096  ⋯     -0.13268386  -0.197947741  0.12996706 -0.59248364\n",
       "[37,]          NA  ⋯      0.28471875   0.528546691  0.49920291 -0.81128365\n",
       "[38,]          NA  ⋯      0.42999995   0.270000011  0.22992519 -0.44362128\n",
       "[39,]          NA  ⋯      0.51999998   0.070000000 -0.57999998 -2.13038158\n",
       "[40,]          NA  ⋯      0.25999999  -0.140000001 -0.93999994 -2.43839717\n",
       "[41,]          NA  ⋯      0.25999999   0.189999998 -1.00000024 -1.90921295\n",
       "[42,]          NA  ⋯      0.56000000  -0.070000000 -1.39589906 -2.19961476\n",
       "[43,]          NA  ⋯      0.28999999  -0.271055728 -1.62058520 -4.23999977\n",
       "[44,]          NA  ⋯      0.21408066  -0.627142847 -2.09491158          NA\n",
       "[45,] -0.57835609  ⋯     -0.24019694  -0.417958498 -1.04271126          NA\n",
       "[46,] -0.79945225  ⋯      0.60682619   0.639952779 -1.07690096 -1.52999997\n",
       "[47,] -1.02617061  ⋯      0.44225967   0.289999992 -1.45528984 -2.36751652\n",
       "[48,] -1.42196906  ⋯     -0.29198876   0.007856488 -1.49762917 -1.47038269\n",
       "[49,] -1.31461942  ⋯      0.09749806   0.119999997 -1.31053293          NA\n",
       "[50,] -1.47020209  ⋯      0.95338994  -1.179990530 -0.94999999          NA\n",
       "[51,] -1.41876101  ⋯      0.55572647  -0.991240323          NA -1.30097270\n",
       "[52,] -1.11806643  ⋯      0.54016954  -0.087156199 -0.09771429 -0.58162260\n",
       "[53,] -0.90929210  ⋯      1.22658181   1.544310927  0.96281517  0.11501031\n",
       "[54,] -0.65815240  ⋯      1.07102656   1.912538052  1.35502267  0.56753224\n",
       "[55,] -0.56528622  ⋯      1.04670095   1.791487932  1.47122908  0.86064625\n",
       "[56,] -0.47780380  ⋯      1.11061668   1.632037044  1.31927037  0.89700294\n",
       "[57,] -0.36572853  ⋯      1.05496168   1.368819237  1.11766005  0.84499192\n",
       "[58,] -0.30004954  ⋯      0.86234093   1.040015578  0.95735621  0.59824568\n",
       "[59,] -0.39668068  ⋯      0.68489653   0.727147460  0.64485824  0.44672173\n",
       "[60,] -0.39215466  ⋯      0.53223640   0.371893227  0.33779463  0.35033759\n",
       "[61,] -0.04183052  ⋯     -0.17381990  -0.145835012  0.18178961  0.32527083\n",
       "      [,16]        [,17]        [,18]       [,19]     [,20] [,21]\n",
       " [1,]  0.28210214   0.449737489  1.1294684  0.9146796   NA  NA   \n",
       " [2,]  0.10752933   0.591097713  1.1051759  0.7053886   NA  NA   \n",
       " [3,]  0.35837406   0.443900764  0.9841446  0.8509724   NA  NA   \n",
       " [4,]  0.36497775   0.345626265  1.0454960         NA   NA  NA   \n",
       " [5,]  0.50999999   0.259044379  1.0828582         NA   NA  NA   \n",
       " [6,] -0.99419832   0.613359451  0.9467384         NA   NA  NA   \n",
       " [7,] -0.55620253   0.760314703  0.8679525         NA   NA  NA   \n",
       " [8,] -1.24357367   1.259999990  0.7236950         NA   NA  NA   \n",
       " [9,] -0.27919686  -0.005481333 -0.1899090         NA   NA  NA   \n",
       "[10,]  0.48036933   4.380000114         NA         NA   NA  NA   \n",
       "[11,]  0.61704886   1.343866348  2.6400001         NA   NA  NA   \n",
       "[12,]  1.40338135   1.853716373         NA         NA 0.65  NA   \n",
       "[13,]  2.63795424   3.119392395         NA  3.3599999   NA  NA   \n",
       "[14,]  3.64879513   3.072127104         NA  4.1599998   NA  NA   \n",
       "[15,]  4.44784117   3.276115417  2.7100000         NA   NA  NA   \n",
       "[16,]  4.85814810   4.668457985  4.2700000         NA   NA  NA   \n",
       "[17,]  4.79895020   4.541970730  1.9019500  4.3800001   NA  NA   \n",
       "[18,]  4.18121338   4.248987198  2.8111274  5.0000000   NA  NA   \n",
       "[19,]  4.25832701   4.222610950  4.4118767         NA   NA  NA   \n",
       "[20,]  4.29253864   4.651895523  4.2035837  3.8599999   NA  NA   \n",
       "[21,]  4.09760380   4.630562782  4.3828650  4.1199999   NA  NA   \n",
       "[22,]  3.17259288   3.993427038  3.4505026         NA   NA  NA   \n",
       "[23,]  2.44510150   3.006891251  1.4027667         NA   NA  NA   \n",
       "[24,]  2.22450638   2.667634249  1.5593848         NA   NA  NA   \n",
       "[25,]  1.22042096   2.404286861  1.5253580         NA   NA  NA   \n",
       "[26,]  1.16713667   1.793119788  0.8606514         NA   NA  NA   \n",
       "[27,]  0.04900825   0.772662342         NA         NA   NA  NA   \n",
       "[28,]  0.10339553   0.832687557  0.3900000  2.7400000   NA  NA   \n",
       "[29,]  0.21330257   0.599803090  3.6099999         NA   NA  NA   \n",
       "[30,]  0.25405270   0.460937053         NA         NA   NA  NA   \n",
       "[31,] ⋮            ⋮            ⋮           ⋮         ⋮     ⋮    \n",
       "[32,]  0.761579692  0.1559132            NA NA        NA    NA   \n",
       "[33,]  1.017054319  1.0395586            NA NA        NA    NA   \n",
       "[34,] -0.013497770 -0.1581344            NA NA        NA    NA   \n",
       "[35,] -0.975186229 -1.3216939            NA NA        NA    NA   \n",
       "[36,] -1.486913204 -1.5317039            NA NA        NA    NA   \n",
       "[37,] -3.235391378 -2.7874804            NA NA        NA    NA   \n",
       "[38,] -3.800447464 -2.4703212            NA NA        NA    NA   \n",
       "[39,] -3.040197372 -1.4691701            NA NA        NA    NA   \n",
       "[40,] -2.530547380 -0.1766288            NA NA        NA    NA   \n",
       "[41,] -2.355106115 -1.1711433            NA NA        NA    NA   \n",
       "[42,] -1.992772341 -1.1521786            NA NA        NA    NA   \n",
       "[43,] -4.360000134         NA            NA NA        NA    NA   \n",
       "[44,]           NA         NA   -2.50000000 NA        NA    NA   \n",
       "[45,]           NA         NA   -0.62603480 NA        NA    NA   \n",
       "[46,] -2.730000019         NA   -3.19000006 NA        NA    NA   \n",
       "[47,]           NA -2.0213497            NA NA        NA    NA   \n",
       "[48,] -3.339999914 -6.6900001            NA NA        NA    NA   \n",
       "[49,] -2.190000057         NA            NA NA        NA    NA   \n",
       "[50,]           NA         NA    2.97000003 NA        NA    NA   \n",
       "[51,] -1.104978204         NA   -1.09486389 NA        NA    NA   \n",
       "[52,] -1.226686239 -1.3258067   -1.16933286 NA        NA    NA   \n",
       "[53,]           NA  0.3753299    0.05857182 NA        NA    NA   \n",
       "[54,] -0.107015751  0.3371410    0.77885288 NA        NA    NA   \n",
       "[55,]  0.440668404         NA    1.12747109 NA        NA    NA   \n",
       "[56,]  0.494957596 -0.1191137    1.26109028 NA        NA    NA   \n",
       "[57,]  0.295163870 -0.1554662    1.75000000 NA        NA    NA   \n",
       "[58,]  0.320065022  0.5698152            NA NA        NA    NA   \n",
       "[59,]  0.202944711  0.2979381            NA NA        NA    NA   \n",
       "[60,]  0.096019298  0.4784548    1.41840124 NA        NA    NA   \n",
       "[61,] -0.002842225  0.3367361    1.53253829 NA        NA    NA   "
      ]
     },
     "metadata": {},
     "output_type": "display_data"
    }
   ],
   "source": [
    "lat <- var.get.nc(data, 'lat')\n",
    "lon <- var.get.nc(data, 'lon')\n",
    "anom <- var.get.nc(data, 'anom', start=c(NA, NA, 1, 700), count=c(NA,NA,1,1))\n",
    "anom"
   ]
  },
  {
   "cell_type": "markdown",
   "id": "d99a3b99-8a36-49ed-b373-6238cb538f5e",
   "metadata": {},
   "source": [
    "But in most cases, we want to select based on time (or whichever coordinate), not based on the index. So let's now select based on a given time. The units for time are"
   ]
  },
  {
   "cell_type": "code",
   "execution_count": 17,
   "id": "c97d1a13-b47c-4f89-9bd5-7e7757712487",
   "metadata": {
    "vscode": {
     "languageId": "r"
    }
   },
   "outputs": [
    {
     "data": {
      "text/html": [
       "'days since 1800-01-01 00:00:00'"
      ],
      "text/latex": [
       "'days since 1800-01-01 00:00:00'"
      ],
      "text/markdown": [
       "'days since 1800-01-01 00:00:00'"
      ],
      "text/plain": [
       "[1] \"days since 1800-01-01 00:00:00\""
      ]
     },
     "metadata": {},
     "output_type": "display_data"
    }
   ],
   "source": [
    "att.get.nc(data, \"time\", \"units\")"
   ]
  },
  {
   "cell_type": "markdown",
   "id": "aa7352da-dece-4474-9e8a-3694be415384",
   "metadata": {},
   "source": [
    "There are specific recommendations on how time should be stored in CF-NetCDF files. I will try to explain briefly here, and there is a nice explanation here too: https://www.unidata.ucar.edu/software/netcdf/time/recs.html\n",
    "\n",
    "The *time* variable has units that count from a user defined origin, for example \"hours since 2020-01-01 00:00 UTC\" or \"days since 2014-01-01\". The units may be in years, days, seconds, nanoseconds, etc. Whilst this approach may seem strange at a glance, it allows the times to be stored in conventional numerical formats such as integers or floats, and to our desired precision. This is much more efficient than using a long timestamp string for each coordinate.\n",
    "\n",
    "Some softwares know how to interpret this and will convert the data into timestamps in when you extract the data from a CF-NetCDF file. For example, xarray in Python does this, so does Panoply. Unfortunately, RNetCDF does not - at least not at the time of writing.\n",
    "\n",
    "So now let's extract the time series, work out what index in the time series our desired date corresponds to, and then select from the *anom* variable based on that index."
   ]
  },
  {
   "cell_type": "code",
   "execution_count": 18,
   "id": "c6bb79c3-1b1a-45bc-b3cb-1e73b97c44dc",
   "metadata": {
    "vscode": {
     "languageId": "r"
    }
   },
   "outputs": [
    {
     "name": "stdout",
     "output_type": "stream",
     "text": [
      "       [,1]  [,2]  [,3]       [,4]         [,5]         [,6]          [,7]\n",
      " [1,]    NA    NA    NA -0.0900000 -0.477414876 -0.285908669 -0.1473901421\n",
      " [2,]    NA    NA    NA         NA -0.513699830 -0.280149400 -0.1605455577\n",
      " [3,]    NA    NA    NA  0.3000000 -0.426729143 -0.275595844 -0.1837482005\n",
      " [4,]    NA    NA    NA         NA -0.272711098 -0.233452842 -0.1684388518\n",
      " [5,]    NA    NA    NA         NA -0.180816099 -0.169976503 -0.1139785573\n",
      " [6,]    NA    NA    NA         NA -0.104851246 -0.083154038 -0.0783889070\n",
      " [7,]    NA    NA    NA         NA -0.203997135 -0.037347343 -0.0506733395\n",
      " [8,]    NA    NA  2.24         NA  0.409999996  0.049840331 -0.0306473132\n",
      " [9,]    NA    NA    NA  1.8500000           NA  0.096186161 -0.0211993735\n",
      "[10,]    NA    NA    NA         NA  0.079999998  0.093276709  0.0013234944\n",
      "[11,]    NA    NA    NA         NA           NA  0.101126052  0.0235306304\n",
      "[12,]    NA    NA    NA         NA           NA  0.155259356  0.0395162962\n",
      "[13,]    NA    NA    NA         NA  0.119999997  0.171334237  0.0203520600\n",
      "[14,]    NA    NA    NA  0.5100000 -0.104527146  0.128757924  0.0104379570\n",
      "[15,]    NA    NA    NA         NA           NA  0.124644697  0.0365039408\n",
      "[16,]    NA -2.74 -6.49         NA  0.236679688  0.187824458  0.1331201047\n",
      "[17,]    NA    NA    NA         NA           NA  0.180062488  0.2058058232\n",
      "[18,] -3.23    NA    NA         NA           NA  0.215910211  0.2973054647\n",
      "[19,]    NA    NA    NA         NA  1.409999967  0.240580171  0.3894828260\n",
      "[20,]    NA    NA    NA         NA           NA  0.082227424  0.4629330933\n",
      "[21,]    NA    NA    NA         NA           NA  0.226112500  0.5102753639\n",
      "[22,]    NA    NA  1.25         NA           NA  0.265405893  0.5804446936\n",
      "[23,]    NA    NA    NA         NA  1.440000057  0.237496033  0.5803967118\n",
      "[24,]    NA    NA    NA         NA           NA  0.180754602  0.5484153628\n",
      "[25,]    NA    NA  2.81         NA           NA  0.163774148  0.5234251022\n",
      "[26,]    NA    NA    NA         NA           NA  0.157458574  0.3935167789\n",
      "[27,]    NA    NA    NA         NA           NA  0.095945984  0.2098594159\n",
      "[28,]    NA    NA    NA         NA  0.569999993 -0.019711347  0.0863517448\n",
      "[29,]    NA    NA    NA         NA  0.039999999 -0.050727453  0.0795603245\n",
      "[30,]    NA    NA    NA         NA           NA -0.010087362  0.1078231931\n",
      "[31,]    NA    NA    NA         NA           NA  0.009795068  0.1404119581\n",
      "[32,]    NA    NA    NA         NA           NA  0.115166478  0.2927233279\n",
      "[33,]    NA    NA -0.35  0.9400000           NA  0.215916127  0.4309763908\n",
      "[34,]    NA    NA -0.58  0.1300000           NA  0.310703635  0.4943471551\n",
      "[35,]    NA -0.93 -1.00 -0.3240978 -0.086595476  0.388258994  0.5556695461\n",
      "[36,]    NA    NA    NA -0.4228584 -0.017689690  0.430390894  0.6606828570\n",
      "[37,]    NA    NA  0.77 -0.5462171 -0.046349645  0.368790984  0.6519351006\n",
      "[38,]    NA -2.27    NA         NA -0.166273639  0.283509195  0.6805329919\n",
      "[39,]    NA    NA    NA         NA -0.255748212  0.227312058  0.7267927527\n",
      "[40,]    NA    NA    NA         NA -0.316604376  0.227154329  0.7881605625\n",
      "[41,]    NA    NA    NA         NA -0.428251624  0.125925034  0.7463874221\n",
      "[42,]    NA    NA    NA -0.5216664 -0.473134458  0.074140377  0.6708905101\n",
      "[43,]    NA -1.28    NA -0.4698156 -0.484841824  0.091540828  0.6440986395\n",
      "[44,]    NA    NA    NA -0.3934032 -0.431364000  0.147565603  0.5137752891\n",
      "[45,]    NA -2.87    NA         NA -0.414644599  0.164112881  0.3302588761\n",
      "[46,]    NA    NA    NA         NA -0.280095577  0.171871841  0.1874384582\n",
      "[47,]    NA    NA    NA         NA -0.268713385  0.122227773  0.0106154578\n",
      "[48,]    NA -0.92    NA         NA -0.197808459  0.115622438 -0.0397457480\n",
      "[49,]    NA -0.03    NA -0.5619973 -0.124478303  0.222031355  0.1132662669\n",
      "[50,]    NA    NA    NA         NA -0.064553842  0.289610237  0.1855113804\n",
      "[51,]    NA    NA    NA         NA  0.014955498  0.370708048  0.2341449112\n",
      "[52,]    NA    NA    NA -0.4620867  0.151447281  0.497560233  0.3641515374\n",
      "[53,]    NA    NA    NA         NA  0.220768183  0.607372582  0.4621249437\n",
      "[54,]    NA    NA    NA         NA  0.250222027  0.624269009  0.4832903743\n",
      "[55,]    NA    NA    NA         NA  0.136668548  0.567147851  0.4752582014\n",
      "[56,]    NA    NA    NA         NA  0.097286239  0.476907700  0.4453872740\n",
      "[57,]    NA    NA    NA         NA  0.009490349  0.410942107  0.4368603826\n",
      "[58,]    NA    NA    NA  0.4600000 -0.044147618  0.408442914  0.5009096265\n",
      "[59,]    NA    NA    NA  1.6100000 -0.044302195  0.335181475  0.4985094666\n",
      "[60,]    NA    NA    NA  0.8700000 -0.225116432  0.149251670  0.4378926158\n",
      "[61,]    NA    NA  2.78         NA           NA  0.058538388  0.4594276845\n",
      "[62,]    NA    NA    NA         NA           NA -0.517369330  0.4211530983\n",
      "[63,]    NA    NA    NA         NA           NA -0.426212430  0.3630766273\n",
      "[64,]    NA    NA    NA         NA           NA -0.166787148  0.2627283633\n",
      "[65,]    NA    NA    NA         NA -0.194812909 -0.226185963  0.1277418733\n",
      "[66,]    NA    NA  1.57         NA -0.130373791 -0.221804827  0.0003080616\n",
      "[67,]    NA    NA  0.94         NA -0.153345466 -0.227290571 -0.0965210348\n",
      "[68,]    NA    NA    NA         NA -0.158705324 -0.230967015 -0.1192000657\n",
      "[69,]    NA    NA    NA         NA -0.120913103 -0.208816230 -0.0960118026\n",
      "[70,]    NA  0.47    NA         NA -0.149685591 -0.190565541 -0.0408856384\n",
      "[71,]    NA    NA    NA  0.8000000 -0.259972930 -0.204086006 -0.0251651946\n",
      "[72,] -2.64    NA  0.97  0.2700000 -0.361352175 -0.230322614 -0.0848020315\n",
      "              [,8]          [,9]         [,10]       [,11]       [,12]\n",
      " [1,]  0.162335649  0.3555031419  0.0853288397 -0.28542718 -0.04353403\n",
      " [2,]  0.158801332  0.3941240311  0.1554638892 -0.09277356  0.07734476\n",
      " [3,]  0.202584669  0.4098227322  0.2115975171  0.03669617 -0.02093538\n",
      " [4,]  0.203091472  0.3795720339  0.1547373831 -0.03509544  0.08011602\n",
      " [5,]  0.188084275  0.3441761434  0.1556928158  0.07908931  0.57643163\n",
      " [6,]  0.161499396  0.3325377405  0.2421529144  0.22339384  0.51958227\n",
      " [7,]  0.083849691  0.2672915161  0.3200768828  0.16223866  0.17766237\n",
      " [8,]  0.002807403  0.2073578984  0.0603833273 -0.11288359 -0.03655734\n",
      " [9,] -0.029650999 -0.0445042588 -0.0360179804 -0.10173739  0.08933809\n",
      "[10,] -0.059333336 -0.1571347415 -0.1771692634 -0.23321016  0.01703451\n",
      "[11,] -0.102159321 -0.1461249292 -0.3156257272 -0.48086688 -0.28595722\n",
      "[12,] -0.160253525 -0.4670970440 -0.6940613389 -0.86719781 -0.73127186\n",
      "[13,] -0.183834001 -0.5728002191 -0.8924338818 -1.13514006 -1.15323496\n",
      "[14,] -0.192575157 -0.6314202547 -1.0800383091 -1.35440874 -1.33835435\n",
      "[15,] -0.108508967 -0.4493696690 -0.9685895443 -1.36570883 -1.28259683\n",
      "[16,]  0.082596302 -0.3003827631 -0.7513652444 -1.15041411 -1.17637730\n",
      "[17,]  0.132874653 -0.2052679509 -0.6812006235 -1.08954465 -0.88728845\n",
      "[18,]  0.191144824  0.0002424157 -0.4752186835 -0.86537248 -0.67261690\n",
      "[19,]  0.454154611  0.3260739446 -0.1302784085 -0.57457358 -0.40897095\n",
      "[20,]  0.622475207  0.6073665023  0.2006321400 -0.30342519 -0.40189674\n",
      "[21,]  0.726758242  0.6986377239  0.3182548285 -0.05709492 -0.29787776\n",
      "[22,]  0.760604620  0.6664374471  0.2397194207  0.01318234  0.11004309\n",
      "[23,]  0.748356700  0.6247741580  0.1044428051 -0.04162427  0.57050568\n",
      "[24,]  0.727091372  0.5926325321  0.1064045280  0.05010953  0.04675290\n",
      "[25,]  0.596909940  0.3836425245  0.1623751074  0.25073859  0.47782773\n",
      "[26,]  0.449483484  0.2567939758  0.1809070408  0.26815724  0.59531450\n",
      "[27,]  0.192347363  0.1322625130  0.1194960549  0.27589908  0.40396291\n",
      "[28,]  0.022201179 -0.0598816760  0.0093541723  0.35530365  0.44232863\n",
      "[29,] -0.014219291 -0.2375546545 -0.0145742893  0.54088193  1.07942867\n",
      "[30,] -0.026469907 -0.4114962518  0.0904239118  0.92323804  3.88998222\n",
      "[31,] -0.097013086 -0.3706492484 -0.0614532009  0.74266303  1.79687309\n",
      "[32,]  0.163072750 -0.1777473837 -0.0103006596  0.66885942  1.18356550\n",
      "[33,]  0.175002486 -0.1305941492 -0.0886829793  0.41777018  0.74567544\n",
      "[34,]  0.322298527 -0.0015875474 -0.1814670563  0.09773602  0.43430343\n",
      "[35,]  0.437350988  0.2469412237 -0.0008439869 -0.04195229  0.24532631\n",
      "[36,]  0.643617034  0.4108839333 -0.0141551122  0.22365257  0.26858941\n",
      "[37,]  0.784925580  0.5870308876  0.3708263934  0.36956978  0.39798266\n",
      "[38,]  0.924253821  0.9666734338  0.9557381272  0.79206973  0.60550755\n",
      "[39,]  1.062606215  1.3353247643  1.5295611620  1.26318860  0.83761811\n",
      "[40,]  1.153131008  1.6040130854  1.9294494390  1.56376743  0.95782447\n",
      "[41,]  1.163477421  1.6761615276  2.0638377666  1.62457967  0.96416438\n",
      "[42,]  1.028274298  1.5511461496  1.9704728127  1.61440766  0.91538107\n",
      "[43,]  0.868683755  1.3630980253  1.8149706125  1.47910428  0.72856325\n",
      "[44,]  0.616845846  1.0871405602  1.5426328182  1.15841556  0.41838813\n",
      "[45,]  0.346577525  0.7803527713  1.2324528694  0.84838063  0.10363948\n",
      "[46,]  0.136392072  0.4498650134  0.7776834965  0.34489614 -0.31552482\n",
      "[47,] -0.068382278  0.1147806421  0.3104149103 -0.18362810 -0.66113669\n",
      "[48,] -0.141117841 -0.0767877921 -0.0973796025 -0.57078874 -0.80953795\n",
      "[49,] -0.074674502 -0.2042186856 -0.4201177657 -0.76703781 -0.69517666\n",
      "[50,] -0.093319081 -0.2804974914 -0.4534643590 -0.54823464 -0.27280867\n",
      "[51,] -0.036623254 -0.1793696135 -0.2110048234 -0.20945117  0.04946584\n",
      "[52,]  0.170271009  0.0987270102  0.1563656032  0.19382671  0.23063567\n",
      "[53,]  0.312387526  0.3446253836  0.4274883568  0.47456017  0.41562352\n",
      "[54,]  0.440833747  0.4965943098  0.5685649514  0.62377542  0.56338489\n",
      "[55,]  0.518897295  0.5742911100  0.6263200641  0.65631127  0.51547152\n",
      "[56,]  0.565081418  0.5549704432  0.4932226539  0.45954606  0.23241811\n",
      "[57,]  0.586475074  0.4869101048  0.3571331799  0.26789293  0.03183609\n",
      "[58,]  0.527361155  0.5567489862  0.4416686296  0.53224128  0.08833921\n",
      "[59,]  0.489752948  0.3536593914  1.2474069595  1.20632505  1.96887970\n",
      "[60,]  0.402674496  0.0725503117 -0.0445645675  0.28696296  0.37804353\n",
      "[61,]  0.363159418 -0.1732291430 -0.2079153210  0.55572188 -0.12992138\n",
      "[62,]  0.295342714 -0.4272748530 -0.5556992888  0.40325958  0.65160108\n",
      "[63,]  0.418775409 -0.1365976632 -0.3031284213  0.11270477  0.43376538\n",
      "[64,]  0.570241988  0.3391182721  0.1489791125  0.08343059  0.18070425\n",
      "[65,]  0.429793268  0.3596408963  0.3117750585  0.24218777  0.09447424\n",
      "[66,]  0.357778668  0.4036338925  0.3333405554  0.22984360  0.07420799\n",
      "[67,]  0.389044553  0.5954235792  0.4318996072  0.21759225  0.08566222\n",
      "[68,]  0.350517362  0.6548474431  0.5132359862  0.21703768  0.04959186\n",
      "[69,]  0.305078447  0.5846290588  0.4720479250  0.18440688  0.04074142\n",
      "[70,]  0.304122239  0.4486193657  0.2570469081  0.01512811 -0.05404876\n",
      "[71,]  0.261722088  0.3581842184  0.2322764993 -0.10560030 -0.06443952\n",
      "[72,]  0.200810671  0.3258720338  0.1130546704 -0.17714919 -0.06693835\n",
      "             [,13]       [,14]       [,15]       [,16]       [,17]       [,18]\n",
      " [1,]  0.387568295  0.62362415  0.81650680  1.47427392  1.76444936  1.39737916\n",
      " [2,]  0.364704579  0.66975522  1.23777592  1.85682809  1.83505321  1.28928351\n",
      " [3,]  0.347705871  0.85642439  1.35398984  2.23844624  1.89365888  1.67074895\n",
      " [4,]  0.510460019  0.95378625 -0.01866740  1.12311018  1.48625398  1.66478598\n",
      " [5,]  1.144192934  0.59508842  0.78069550  1.08757961  1.34365356  1.27175045\n",
      " [6,]  0.153197765  0.45314318  0.77819854  1.03564692  1.18781805  1.19323075\n",
      " [7,]  0.579303563  0.65665650  0.59196770  0.98991024  1.05201709  0.94152367\n",
      " [8,]  0.240552381  0.34309074  0.38232052  1.16507769  0.84741771  1.37748253\n",
      " [9,]  0.263541788  0.33999163  0.46275216  0.63034785  0.65350538  0.80256969\n",
      "[10,]  0.254712909  0.61784184  0.87409258  0.71208698  0.69493926  0.77379954\n",
      "[11,] -0.093674384  0.24327923  0.77524137  0.97321236  0.77985024  0.82497489\n",
      "[12,] -0.441566586  0.36505714  1.08030045  1.31740320  0.99048227  0.93220329\n",
      "[13,] -0.667129874  0.52784437  1.36737859  1.55870843  1.12941825  0.95775652\n",
      "[14,] -0.564214230  0.85999542  1.67031598  1.56889534  1.10403001  0.90978694\n",
      "[15,] -0.231035084  1.20099318  1.75991774  1.45424116  1.04453945  0.90507090\n",
      "[16,]  0.076046675  1.31056130  1.54316950  1.19725680  0.92432833  0.97942567\n",
      "[17,]  0.278353661  1.20546949  1.23352432  0.84448600  0.75107205  0.94684297\n",
      "[18,]  0.263240904  0.98979801  0.87508976  0.57434928  0.72750974  0.97399187\n",
      "[19,]  0.314030588  0.77448225  0.43928292  0.37024871  0.77158499  1.07639027\n",
      "[20,]  0.211231932  0.57196510  0.17916647  0.35911682  0.83545142  1.07059824\n",
      "[21,]  0.147773519  0.48959082  0.30448216  0.38583362  0.76241094  1.15481520\n",
      "[22,]  0.594231308  0.96004897  0.86197984  0.61224616  0.55358320  0.59454709\n",
      "[23,]  1.013156176  1.21798468  1.19871962  0.76895869  0.60480958  0.81632239\n",
      "[24,] -0.144285619  0.89979494  1.33340752  0.91285580  0.63660985  0.53398407\n",
      "[25,] -0.321753621  0.17289822  0.95793283  0.94098032  0.61137593  0.48313010\n",
      "[26,]  0.422923654  0.65110028  1.14399695  0.84261620  0.64392328  0.57841212\n",
      "[27,]  0.744283497  1.51991630  0.93793094  0.90210426  0.69064742  0.68663442\n",
      "[28,]  1.124806166  1.88460970  1.40764630  0.86443013  0.67390782  0.88925910\n",
      "[29,]  2.930521965  2.12855864  1.24503708  0.83600295  0.85086250  0.82953072\n",
      "[30,]  3.841527462  1.15131605  0.51572692  0.45780990  0.70097589  0.71485031\n",
      "[31,]  2.307956219  0.63231796  0.38678211  0.32676086  0.46107486  0.66802526\n",
      "[32,]  0.775583565  0.41467324  0.29024294  0.36217085  0.62328243  0.69795436\n",
      "[33,]  0.503859282  0.27931038  0.13235308  0.40786326  0.68654525  0.84067118\n",
      "[34,]  0.291748226 -0.07550664 -0.04877277  0.34494111  0.73843962  1.03096151\n",
      "[35,]  0.086525925 -0.35952458 -0.24839328  0.34014255  0.82411438  1.18021548\n",
      "[36,]  0.024625799 -0.28227037 -0.01433604  0.45050472  0.83036399  1.19262588\n",
      "[37,]  0.192436218 -0.03102405  0.13141850  0.56347525  0.82938236  1.22796321\n",
      "[38,]  0.325732768  0.15778163  0.40881646  0.69533485  0.83738190  1.18374789\n",
      "[39,]  0.478808165  0.39517260  0.54221737  0.72796184  0.76335555  1.06568027\n",
      "[40,]  0.521762729  0.48513964  0.59063923  0.66818523  0.63483381  0.90806037\n",
      "[41,]  0.495472997  0.40521246  0.55868107  0.59584755  0.54782677  0.77040690\n",
      "[42,]  0.469803482  0.38218880  0.50255710  0.47284612  0.42739141  0.64833802\n",
      "[43,]  0.358321220  0.34214795  0.44020990  0.38849393  0.34562790  0.53699613\n",
      "[44,]  0.176193699  0.20395094  0.33300817  0.34458861  0.31726369  0.39814264\n",
      "[45,] -0.063535273  0.07634935  0.28714129  0.37329903  0.36822617  0.26667777\n",
      "[46,] -0.268070668 -0.04936054  0.23712371  0.37210143  0.27248937  0.16745225\n",
      "[47,] -0.434952438 -0.16540754  0.20866178  0.33624351  0.21198875  0.08044952\n",
      "[48,] -0.433302522 -0.15749578  0.22634670  0.24785365  0.16321725  0.02351540\n",
      "[49,] -0.314614594 -0.04102454  0.24113294  0.16480097  0.13011122 -0.01594902\n",
      "[50,] -0.052944936  0.09606511  0.21321015  0.07412163  0.11416923 -0.07626137\n",
      "[51,]  0.112048090  0.07716627  0.07685544 -0.03965958  0.09069248 -0.06040825\n",
      "[52,]  0.039133962 -0.03746435 -0.10755485 -0.15177780  0.02440061 -0.03905785\n",
      "[53,]  0.105119444 -0.14951238 -0.26581717 -0.21492653 -0.04714047 -0.12360375\n",
      "[54,]  0.166139588 -0.26494154 -0.39619255 -0.27006286 -0.15294585 -0.24246162\n",
      "[55,]  0.033309240 -0.42730138 -0.50483835 -0.33869788 -0.40223983 -0.29532528\n",
      "[56,] -0.216197133 -0.58143777 -0.42671648 -0.06333400 -0.21216528  0.02200797\n",
      "[57,] -0.420567244 -0.46747348  0.43626511  0.81807983  0.99358338  1.35094512\n",
      "[58,] -0.009265035  0.64120913  1.24801087  1.09311163  1.33157551  0.74314642\n",
      "[59,]  1.438041449  1.36961734  1.44470406  1.41102338  1.02913487  0.73732972\n",
      "[60,]  0.839483976  1.38202786  1.30482364  1.34738314  0.91853029  1.06730509\n",
      "[61,]  0.373140663  0.59012735  1.44212246  0.96239102  1.02050352  1.18797481\n",
      "[62,]  0.533881307  0.77910388  0.97835964  1.09277308  1.16194189  0.83871818\n",
      "[63,]  0.637001991  0.97928393  1.32141662  0.95613837  1.05320323  0.98877603\n",
      "[64,]  0.152289793  0.54822487  1.10668325  1.18173599  0.95911396  0.74777246\n",
      "[65,]  0.151984632  0.33649132  0.50711387  0.71831369  0.85471314  0.68013459\n",
      "[66,]  0.152768224  0.32835281  0.59920824  0.61041325  0.63200963  0.72012162\n",
      "[67,]  0.084981777  0.31083006  0.56843299  0.56688923  0.65479434  0.95123690\n",
      "[68,]  0.033579677  0.35758027  0.59523571  0.57298750  0.83772433  1.26092136\n",
      "[69,]  0.113483965  0.46269569  0.60076785  0.61304790  1.07772434  1.50568664\n",
      "[70,]  0.151032418  0.51074356  0.58333611  0.72195750  1.24512208  1.55149841\n",
      "[71,]  0.251853883  0.59390283  0.60195190  0.86669719  1.46787047  1.48624849\n",
      "[72,]  0.345565021  0.66666061  0.66349530  1.16743791  1.68929982  1.51027620\n",
      "           [,19]     [,20]        [,21]       [,22]        [,23]        [,24]\n",
      " [1,] 1.60430264 1.0836334  0.105426371  0.23540142  0.391605794  0.525253415\n",
      " [2,] 1.42718804 0.3338466  0.115178809 -0.14417246  0.180825710  0.684068203\n",
      " [3,] 1.29718244 0.3252826  0.400175899 -0.15625662 -0.186141789 -0.059969600\n",
      " [4,] 0.89927673 0.4310371 -0.043394655 -0.45906115 -0.275884807 -0.141074389\n",
      " [5,] 0.98573828 0.4206690 -0.624040246 -0.17387371 -0.373913288 -0.512929857\n",
      " [6,] 0.96187562 0.4953872 -0.803776860 -0.14639844 -0.271824986 -0.096240699\n",
      " [7,] 0.84698975 0.6188006 -1.491822720 -0.89224595 -0.787457407  0.052081663\n",
      " [8,] 0.87439966 0.9381996  0.568768442  0.26023528  0.303939670 -0.510378063\n",
      " [9,] 0.84318173 0.6857883  0.772587121  1.00282454 -0.125976652  0.028577268\n",
      "[10,] 0.84415013 0.7879558  0.702218294  0.76287127  0.596411049  1.212723494\n",
      "[11,] 0.87185264 0.6456617  0.505414724  0.59179127  0.228064939  0.672424853\n",
      "[12,] 0.99313539 0.8162446  0.534691453  0.35461295  0.157154292  0.355964482\n",
      "[13,] 1.04803514 0.9315847  0.595443428  0.26407319  0.285447389 -0.388376802\n",
      "[14,] 0.94272119 0.9023493  0.567231119  0.17148408 -0.005161937 -1.023266315\n",
      "[15,] 0.86528635 0.8084591  0.621508837  0.30997252 -0.673268914 -1.224845409\n",
      "[16,] 0.92244780 0.7844378  1.532670140  0.95276374 -1.006466866 -0.794970155\n",
      "[17,] 0.90073335 0.7486998  0.418525279  0.68751162 -0.314635783 -0.432987273\n",
      "[18,] 0.90517271 0.6055417  0.246316984 -0.04595393 -0.193680301 -0.108260423\n",
      "[19,] 0.98268217 0.5711179  0.228097677 -0.34176761  0.171314865  0.478242815\n",
      "[20,] 1.00535953 0.6227281  0.394792616  1.53267276  1.454575300  0.868921757\n",
      "[21,] 0.99375421 0.4565094  1.503986716  2.61489224  1.994518518  1.441216230\n",
      "[22,] 0.52514303 0.2197117  1.040287018  0.74005449  1.930214524  2.022167206\n",
      "[23,] 0.76151544 0.1222309  0.311460942  0.55249596  1.574372411  1.778676987\n",
      "[24,] 0.68326408 0.1764413  0.316615343  0.62513238  0.905324578  2.458554029\n",
      "[25,] 0.37311476 0.2151269  0.308430254  0.71903884  1.163347960  0.931344092\n",
      "[26,] 0.38238883 0.3073010  0.313720375  0.65813732  1.153394461  1.356365919\n",
      "[27,] 0.49966210 0.2747341  0.213128269  0.71865743  1.212668419  1.257310629\n",
      "[28,] 0.54357767 0.2887800  0.264304578  0.77943116  1.338403940  1.255200505\n",
      "[29,] 0.57515615 0.2966316  0.293312699  0.68468553  1.174593449  1.235689759\n",
      "[30,] 0.58063889 0.4006469  0.343327790  0.56859648  0.936226428  1.075411677\n",
      "[31,] 0.59662646 0.5289031  0.446988106  0.42446440  0.610929191  0.832262814\n",
      "[32,] 0.68592554 0.6159354  0.463091254  0.22127475  0.325931519  0.750047147\n",
      "[33,] 0.83504343 0.6506658  0.463729084  0.14943776  0.133750618  0.767634690\n",
      "[34,] 0.99970990 0.6354865  0.446587145  0.21238497  0.026218504  0.585577726\n",
      "[35,] 1.09062183 0.6970390  0.509854555  0.36386570  0.110908687  0.400150746\n",
      "[36,] 1.16908538 0.7049733  0.577010810  0.53414613  0.324004382  0.407077134\n",
      "[37,] 1.23083913 0.7116318  0.592995524  0.65060389  0.546418488  0.595464528\n",
      "[38,] 1.22373509 0.7713168  0.615710855  0.73468685  0.765228629  0.768548727\n",
      "[39,] 1.13882184 0.8022364  0.625131786  0.69109273  0.864861608  1.059870720\n",
      "[40,] 1.01977563 0.7667880  0.621918142  0.68163574  0.855081797  1.186987996\n",
      "[41,] 0.91769826 0.7666348  0.651691735  0.69966066  0.831201613  1.091157794\n",
      "[42,] 0.80426192 0.7722150  0.678101420  0.69877928  0.781942904  0.863964915\n",
      "[43,] 0.67596573 0.6909123  0.604798853  0.62948364  0.639875352  0.555703461\n",
      "[44,] 0.56620783 0.6470531  0.603423953  0.59553230  0.427576780  0.208982155\n",
      "[45,] 0.47460106 0.6411966  0.634554267  0.62994397  0.361779422 -0.006406341\n",
      "[46,] 0.37889054 0.6078700  0.665385962  0.74897462  0.401562542 -0.063649178\n",
      "[47,] 0.27848724 0.5545450  0.632981300  0.68760544  0.414080948  0.043873254\n",
      "[48,] 0.17731041 0.4540436  0.463644564  0.42374066  0.406670898  0.282376200\n",
      "[49,] 0.12268028 0.3949923  0.382835180  0.41510722  0.495084286  0.276071697\n",
      "[50,] 0.03283470 0.3451793  0.438049763  0.66950488  0.637161970 -0.180669725\n",
      "[51,] 0.05165626 0.3116293  0.500100553  0.94963437  0.896406770  1.164117575\n",
      "[52,] 0.13488472 0.4345928  0.667119503  1.15876818  1.070150495  2.010860205\n",
      "[53,] 0.11621864 0.5848572  0.762254596  0.97136426  1.783120155  2.231110334\n",
      "[54,] 0.08262123 0.7382221  0.997487664  1.32725978  1.031247377  0.755357027\n",
      "[55,] 0.09821129 0.7485154  1.054499745  1.07740223  0.841094315  0.449043095\n",
      "[56,] 0.50542337 0.8692914  0.957900584  0.82912076  0.708805144  0.542211175\n",
      "[57,] 1.37965763 1.0080609  0.969719470  0.88994741  0.721632659  0.708789289\n",
      "[58,] 1.19615901 1.0297537  0.960841358  0.89741218  0.826408565  0.631070793\n",
      "[59,] 1.07086849 1.0144863  0.903637290  0.97842324  0.928198695  0.676767945\n",
      "[60,] 1.24583733 1.1953810  0.911223650  0.93467486  0.998606324  0.847550273\n",
      "[61,] 1.41298628 0.9621207  0.813920856  0.84881610  0.914697230  0.718773007\n",
      "[62,] 1.18299770 0.5994929  0.469365090  0.65094656  0.809077263  0.676028430\n",
      "[63,] 0.71883184 0.4333444  0.195867077  0.42577198  0.730824649  0.853477001\n",
      "[64,] 0.68691200 0.3623990 -0.015636394  0.18956144  0.591947019  0.915335715\n",
      "[65,] 0.72731227 0.4158083 -0.107841201 -0.01374076  0.403834194  0.839646578\n",
      "[66,] 0.90112472 0.5826739 -0.013796191 -0.11348174  0.295022994  0.824952245\n",
      "[67,] 1.19334316 0.8284200  0.178672910 -0.13232698  0.174361214  0.818771958\n",
      "[68,] 1.49679935 1.2022470  0.497239858 -0.10777999 -0.029357933  0.624020219\n",
      "[69,] 1.61283839 1.5642380  1.055463433  0.21131930  0.048221983  0.335989863\n",
      "[70,] 1.57315385 1.4245936  0.276814938  0.73106533  0.592995107  0.360789478\n",
      "[71,] 1.54041195 0.7797768  0.001919806  0.89729440  0.223942414 -0.144203812\n",
      "[72,] 1.68834507 1.2903758  0.248624519  0.30737469  0.278514117  0.079511926\n",
      "            [,25]       [,26]     [,27]       [,28]         [,29]       [,30]\n",
      " [1,]  0.20812635  0.46125451 0.9572873  2.72774625  1.7950670719  1.06006455\n",
      " [2,]  1.07418275  0.73726118 0.7803320  2.87999964  2.6557416916  2.02476764\n",
      " [3,]  0.87181914  0.72316849 1.1051872  2.70002604  3.3167965412  3.31390905\n",
      " [4,]  0.75331980  0.84322554 1.1962049  1.58033037  4.0793676376  2.47897267\n",
      " [5,]  0.55180287  0.97025394 1.5916607  0.66605711  5.4406161308  2.84653473\n",
      " [6,]  0.83467793  0.84588861 1.3523049  3.22964549  6.0826406479  6.55138826\n",
      " [7,]  0.80821580  0.77336788 1.2378309  3.45962048  6.6880950928  8.17720795\n",
      " [8,]  0.34820479  1.54633522 1.0983480  3.61452627  7.0068683624  8.32008648\n",
      " [9,]  0.37349981  0.99116683 1.8151871  5.71942425  7.4898004532  8.24205971\n",
      "[10,]  1.51049721  1.56975186 2.0461519  5.58225775  7.7215633392  8.36886501\n",
      "[11,]  1.06123173  1.29994035 2.3329496  5.25661564  7.8729910851  8.24462032\n",
      "[12,]  0.51493716  2.28240371 4.3591695  5.32420015  7.1568078995  7.20015287\n",
      "[13,]  0.05223122  0.79217297 3.5030200  6.03813267  6.8401150703  6.38878727\n",
      "[14,] -1.31828833  0.68153059 1.9361970  4.48101759  6.1708536148  5.78541756\n",
      "[15,] -0.81500518  0.10575998 1.8712949  3.40522385  6.3024625778  5.92709970\n",
      "[16,] -0.84541422  1.43417537 2.1469994  3.84648919  5.9168434143  6.38514996\n",
      "[17,] -0.74297261  0.86860263 2.6520324  3.86274314  4.6813697815  6.71497154\n",
      "[18,] -0.29816258  0.44753808 1.5729918  3.14217877  3.0562305450  6.27120495\n",
      "[19,] -0.67406595  0.75850528 1.1721898  1.98925173  4.0835843086  7.72749043\n",
      "[20,]  0.37310994  0.85184932 1.4139801  1.80275881  2.7455487251  7.48599434\n",
      "[21,]  1.73696184  1.83063090 2.4283347  1.59855378  2.6205778122  5.83975506\n",
      "[22,]  1.81946182  1.80387878 2.6909816  3.23652029  1.6603224277  6.37670946\n",
      "[23,]  1.47358108  1.69553328 1.9244378  1.90295243  2.7247633934  8.65046692\n",
      "[24,]  1.91283369  2.20733619 2.4785178  3.54159641  3.0992870331  6.41274595\n",
      "[25,]  0.51333749  0.73782527 2.8302016  3.04013538  3.1498570442  5.75153399\n",
      "[26,]  1.46404541  2.73479009 3.3748968  2.88770247  3.3246660233  8.03330135\n",
      "[27,]  1.56461966  2.55317974 2.9328752  4.04913330  3.6707155704  5.64244795\n",
      "[28,]  1.44516909  2.19051933 1.2883152  2.40707588  3.1166429520  3.30659676\n",
      "[29,]  1.32316852  2.32872081 1.0367877  1.15999997  2.3199999332  1.50999999\n",
      "[30,]  1.24221706  2.25567961 0.8417667 -1.35279286 -1.4771249294 -0.91543794\n",
      "[31,]  1.31830096  1.73097193 0.8924602 -0.43155059 -0.6548289657 -0.21768577\n",
      "[32,]  1.38867164  1.77000391 1.1683831 -0.38377807  0.2044098675  1.72113359\n",
      "[33,]  1.36919808  1.93529212 1.2911916 -0.33675370 -0.5455456972  1.49484003\n",
      "[34,]  1.21905863  1.71372020 0.8946947 -0.30795795 -0.0214222167  1.18515241\n",
      "[35,]  0.90948516  1.31007147 0.5961310 -0.18224615  0.2765748501  1.17576826\n",
      "[36,]  0.75955498  0.78876406 0.4173487 -0.11287133  0.3396298587  0.99494827\n",
      "[37,]  0.82772648  0.83364522 0.3675760 -0.19779043  0.3147258759  0.81284636\n",
      "[38,]  1.05637038  1.02197754 0.4058656 -0.14032710  0.0217873640  0.44113401\n",
      "[39,]  1.36237669  1.33078861 0.4781680  0.01626984  0.0424558409  0.03731014\n",
      "[40,]  1.56401682  1.49396622 0.6682640  0.26846755  0.1855170727 -0.50189900\n",
      "[41,]  1.40087295  1.38906205 0.9386736  0.61580116  0.3781881034 -1.31592834\n",
      "[42,]  1.04134274  1.16950345 1.1061031  0.93615198  0.5202510357 -0.22719032\n",
      "[43,]  0.54866648  0.93360823 1.2319669  1.09131396  0.6522085071  0.52465075\n",
      "[44,] -0.06728780  0.38071358 1.1222075  1.25820720  0.9412134290  0.69965726\n",
      "[45,] -0.42587417 -0.19351403 0.7796755  1.34756613  1.1005250216  0.42685211\n",
      "[46,] -0.46121010 -0.33429497 0.4036115  0.90187240  0.6559444666 -0.16429505\n",
      "[47,] -0.22685505 -0.07834252 0.2344677  0.44264463  0.1042358428 -1.29303682\n",
      "[48,]  0.27964991  0.61301130 0.9099060  1.16355646  1.2394207716 -1.14657307\n",
      "[49,]  0.53528661  1.53999996 2.4100001  2.74000001  0.4900098443 -0.49499625\n",
      "[50,]  0.71580446  1.45000005 2.2600000  3.00000000 -0.0399999619  1.77955723\n",
      "[51,]  1.30999994  0.92000002 2.3000000  2.85999990  2.6600768566  4.73088789\n",
      "[52,]  2.48000002  2.60999990 3.0300000  2.63000011  4.0700082779  4.46887016\n",
      "[53,]  3.14000010  3.07999992 2.1300001  3.33999991  5.2585630417  5.04434347\n",
      "[54,]  2.81999993  3.17000008 3.6400001  4.28217030  6.2233800888  5.96999979\n",
      "[55,]  2.34297180  4.00000000 3.6535807  2.14575386  5.9827761650          NA\n",
      "[56,]  2.68914080  3.79999995 1.9782990  3.54007483  3.8028151989          NA\n",
      "[57,]  1.21693385  2.39751840 3.0759089  4.80000353  3.9606328011  3.91000009\n",
      "[58,]  1.04139268  1.28196239 2.8152328  4.57000017  4.1282920837  3.25530601\n",
      "[59,]  0.99475133  1.67579770 1.2059940  3.00945592  2.3990960121  1.93532622\n",
      "[60,]  0.95470423  2.20584440 1.8385988  0.07792632  1.3569607735  1.65999997\n",
      "[61,]  0.60267037  1.72289073 1.9392450  0.25425702  0.4623103738  1.67879176\n",
      "[62,]  0.44524220  1.10765731 1.2038542  0.28530520  0.8195887208  1.55946314\n",
      "[63,]  0.61398196  0.74427229 0.8046693  0.69055551  1.0235382318  1.11682236\n",
      "[64,]  0.82209742  0.58265489 0.7098715  0.91861933  0.8771149516  0.85675263\n",
      "[65,]  1.00909960  0.80978596 0.7069281  0.64331269  0.4695768356  0.56522942\n",
      "[66,]  1.14370942  1.12184429 0.7366806  0.14018732  0.0000656803  0.26645169\n",
      "[67,]  1.13588750  1.25515068 0.7664551  0.03444019 -0.2368861586 -0.01529107\n",
      "[68,]  1.11671793  1.21767020 0.7715414  0.12901822 -0.0952277705 -0.05363240\n",
      "[69,]  0.83741391  1.03092551 0.7475851  0.26955667 -0.0668849200 -0.20265251\n",
      "[70,]  0.53479588  0.71511620 0.5928607  0.39582220  0.2603332698 -0.14342251\n",
      "[71,]  0.27685723  0.64660847 0.7917297  0.61566544  0.8431401253  0.48186198\n",
      "[72,] -0.35301936  0.38011593 1.0220841  1.14713442  1.6009719372  0.96171165\n",
      "             [,31]        [,32]       [,33]      [,34] [,35] [,36]\n",
      " [1,]  0.924472451  0.901413739  0.79114795  1.0034733    NA    NA\n",
      " [2,]  2.496835709  0.878529668  0.68432081  0.8648409    NA    NA\n",
      " [3,]  6.527970314  1.357819557  0.73103583  0.5478907    NA    NA\n",
      " [4,]  5.161522865  4.826246738  0.86321545 -0.7200000    NA    NA\n",
      " [5,]  3.729401112  4.428432941  0.84539741         NA    NA    NA\n",
      " [6,]  7.189757824  3.872640371  0.78723717 -0.9600000    NA    NA\n",
      " [7,]  7.927836895  3.297797918  0.72495419         NA    NA    NA\n",
      " [8,]  7.695776939  2.810969353  0.24709199         NA    NA    NA\n",
      " [9,]  7.544514656  1.702046871  0.39232808         NA    NA    NA\n",
      "[10,]  7.551249981  2.840023041  0.44359466         NA    NA    NA\n",
      "[11,]  6.987037659  4.032630920  0.89864761         NA    NA    NA\n",
      "[12,]  6.723497391  4.168582439          NA         NA  5.44    NA\n",
      "[13,]  6.932791710  4.684739113          NA         NA    NA    NA\n",
      "[14,]  5.965318203  4.766786575          NA         NA    NA    NA\n",
      "[15,]  6.374135017  3.730565071  5.44999981         NA    NA    NA\n",
      "[16,]  6.473870277  5.140623093          NA  2.2100000    NA    NA\n",
      "[17,]  7.643190384  8.325294495  2.46450543         NA    NA    NA\n",
      "[18,]  8.881181717  8.233824730  4.27429914  2.9200001    NA    NA\n",
      "[19,]  8.979969025  8.900437355  7.31495333  3.1400001    NA    NA\n",
      "[20,]  9.009973526 10.146947861  7.41590118         NA    NA    NA\n",
      "[21,] 10.706704140 10.549728394  7.07392311  1.8500000    NA    NA\n",
      "[22,] 11.368205070  9.817378998  6.78460312         NA    NA    NA\n",
      "[23,]  9.497527122  7.550381184  5.27641201         NA    NA    NA\n",
      "[24,]  9.110990524  7.136222363  3.93286681         NA    NA    NA\n",
      "[25,]  8.585512161  6.447008133  3.24458623         NA    NA    NA\n",
      "[26,]  7.539070606  4.663214207  2.34149551         NA    NA    NA\n",
      "[27,]  5.570903778  3.862676620          NA         NA    NA    NA\n",
      "[28,]  1.366397142  1.190155149 -0.20999999  1.8000000    NA    NA\n",
      "[29,] -0.662050128 -0.005278349          NA         NA    NA    NA\n",
      "[30,] -0.769294381 -0.279117882 -0.12000000         NA    NA    NA\n",
      "[31,]  1.707432032  1.006141901          NA         NA    NA    NA\n",
      "[32,]  0.208683506  0.608052433          NA         NA    NA    NA\n",
      "[33,]  0.746946812  1.828011394          NA         NA    NA    NA\n",
      "[34,]  1.689557433  0.450839043          NA         NA    NA    NA\n",
      "[35,]  0.998874545  0.360638738          NA         NA    NA    NA\n",
      "[36,]  1.325043678  1.944513083          NA         NA    NA    NA\n",
      "[37,]  1.260117769  0.560000002  1.99000001         NA    NA    NA\n",
      "[38,]           NA           NA          NA         NA    NA    NA\n",
      "[39,] -3.369999886  1.169999957          NA         NA    NA    NA\n",
      "[40,] -3.959043503 -1.918605208          NA         NA    NA    NA\n",
      "[41,] -7.212624550 -4.260302544 -0.31000000         NA    NA    NA\n",
      "[42,] -6.669754028 -5.065926552 -2.84999990         NA    NA    NA\n",
      "[43,] -5.436241150 -4.552106857 -3.09999990         NA    NA    NA\n",
      "[44,] -5.388529778 -3.225673437 -2.76999998         NA    NA    NA\n",
      "[45,] -3.570737123 -1.394218802          NA         NA    NA    NA\n",
      "[46,] -1.692900538 -0.373084664          NA         NA    NA    NA\n",
      "[47,] -1.633660436 -0.932744622  1.82000005         NA    NA    NA\n",
      "[48,] -1.999983311  1.055221796  1.53999996         NA    NA    NA\n",
      "[49,]  0.268961966  2.182614803  2.40000010  0.6700000    NA    NA\n",
      "[50,]  2.390084028  1.396614552          NA         NA    NA    NA\n",
      "[51,]  3.017217636  0.209718660  1.55999994         NA    NA    NA\n",
      "[52,]  3.263908625  1.981241226 -8.56999969  0.3200000    NA    NA\n",
      "[53,]  4.643915176  1.720025897          NA         NA    NA    NA\n",
      "[54,]  6.269999981  1.839928865 -6.21999979         NA    NA    NA\n",
      "[55,]           NA  4.139999866 -1.72000003 -2.1800001    NA    NA\n",
      "[56,]  3.039999962  1.409999967 -0.11851262 -2.1099999    NA    NA\n",
      "[57,]  3.099999905 -0.649999976 -2.15000010         NA    NA    NA\n",
      "[58,]           NA  0.373691350          NA         NA    NA    NA\n",
      "[59,]  0.680000007 -4.429999828 -0.89999998 -1.6400000    NA    NA\n",
      "[60,]           NA  0.330000013          NA         NA    NA    NA\n",
      "[61,]  1.897409081           NA  1.22000003         NA    NA    NA\n",
      "[62,]  1.503227830  1.087148666 -0.12800276         NA    NA    NA\n",
      "[63,] -0.628074944 -1.597714782 -1.20875096         NA    NA    NA\n",
      "[64,]  0.784333229  0.552556396  0.04455871         NA    NA    NA\n",
      "[65,]  0.747213602  1.008147717  0.47750920         NA    NA    NA\n",
      "[66,]  0.239929050           NA  0.46911913         NA    NA    NA\n",
      "[67,]  0.045474380           NA  0.44222745         NA    NA    NA\n",
      "[68,]  0.078593031  0.172653705  5.59999990         NA    NA    NA\n",
      "[69,] -0.004614398  0.563879251          NA  2.9200001 -0.25    NA\n",
      "[70,]  0.102634087  0.434839100  0.84614593         NA    NA    NA\n",
      "[71,]  0.462726474  0.610051274  0.92998093         NA    NA    NA\n",
      "[72,]  0.840205550  0.700080872  0.71420395  0.6590008    NA    NA\n"
     ]
    }
   ],
   "source": [
    "desired_date <- as.Date('2020-01-01')\n",
    "days_since_1800 <- as.numeric(difftime(desired_date, as.Date('1800-01-01'), units = 'days'))\n",
    "\n",
    "time <- var.get.nc(data, \"time\") \n",
    "# Finding index of the value\n",
    "time_index <- which(time == days_since_1800)\n",
    "\n",
    "anom <- var.get.nc(data, 'anom', start=c(NA, NA, 1, time_index), count=c(NA,NA,1,1))\n",
    "anom"
   ]
  },
  {
   "cell_type": "markdown",
   "id": "a9dc670c-1fa3-4573-a4fa-189fcf8271e0",
   "metadata": {},
   "source": [
    "If you don't know the variable name, you can use the index instead."
   ]
  },
  {
   "cell_type": "code",
   "execution_count": 19,
   "id": "c7354c09-26d5-4f7a-a3b3-9a26891aad14",
   "metadata": {
    "vscode": {
     "languageId": "r"
    }
   },
   "outputs": [
    {
     "data": {
      "text/html": [
       "<dl>\n",
       "\t<dt>$id</dt>\n",
       "\t\t<dd>2</dd>\n",
       "\t<dt>$name</dt>\n",
       "\t\t<dd>'lon'</dd>\n",
       "\t<dt>$type</dt>\n",
       "\t\t<dd>'NC_FLOAT'</dd>\n",
       "\t<dt>$ndims</dt>\n",
       "\t\t<dd>1</dd>\n",
       "\t<dt>$dimids</dt>\n",
       "\t\t<dd>1</dd>\n",
       "\t<dt>$natts</dt>\n",
       "\t\t<dd>10</dd>\n",
       "</dl>\n"
      ],
      "text/latex": [
       "\\begin{description}\n",
       "\\item[\\$id] 2\n",
       "\\item[\\$name] 'lon'\n",
       "\\item[\\$type] 'NC\\_FLOAT'\n",
       "\\item[\\$ndims] 1\n",
       "\\item[\\$dimids] 1\n",
       "\\item[\\$natts] 10\n",
       "\\end{description}\n"
      ],
      "text/markdown": [
       "$id\n",
       ":   2\n",
       "$name\n",
       ":   'lon'\n",
       "$type\n",
       ":   'NC_FLOAT'\n",
       "$ndims\n",
       ":   1\n",
       "$dimids\n",
       ":   1\n",
       "$natts\n",
       ":   10\n",
       "\n",
       "\n"
      ],
      "text/plain": [
       "$id\n",
       "[1] 2\n",
       "\n",
       "$name\n",
       "[1] \"lon\"\n",
       "\n",
       "$type\n",
       "[1] \"NC_FLOAT\"\n",
       "\n",
       "$ndims\n",
       "[1] 1\n",
       "\n",
       "$dimids\n",
       "[1] 1\n",
       "\n",
       "$natts\n",
       "[1] 10\n"
      ]
     },
     "metadata": {},
     "output_type": "display_data"
    }
   ],
   "source": [
    "var.inq.nc(data, 2)"
   ]
  },
  {
   "cell_type": "markdown",
   "id": "23d7826c-4881-45fa-b343-b920b714c836",
   "metadata": {},
   "source": [
    "## Citing data\n",
    "\n",
    "Remember, if you use a scientific dataset in a publication you should cite it in the same way you cite a paper - in the list of references. You can also include a statement in the data availability statement, but this should be as well as citing the dataset in the list of references.\n",
    "\n",
    "This is the recommended citation for the data used in this tutorial - remember to update the data accessed:\n",
    "\n",
    "H.-M. Zhang, B. Huang, J. H. Lawrimore, M. J. Menne, and T. M. Smith (2019): NOAA Global Surface Temperature Dataset (NOAAGlobalTemp), Version 5.0. NOAA National Centers for Environmental Information. doi:10.25921/9qth-2p70 Accessed 2024-04-10."
   ]
  }
 ],
 "metadata": {
  "kernelspec": {
   "display_name": "R",
   "language": "R",
   "name": "ir"
  },
  "language_info": {
   "codemirror_mode": "r",
   "file_extension": ".r",
   "mimetype": "text/x-r-source",
   "name": "R",
   "pygments_lexer": "r",
   "version": "4.3.3"
  }
 },
 "nbformat": 4,
 "nbformat_minor": 5
}
