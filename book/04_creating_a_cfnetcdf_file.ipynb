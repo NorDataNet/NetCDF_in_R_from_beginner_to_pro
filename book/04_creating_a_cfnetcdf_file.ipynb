{
 "cells": [
  {
   "cell_type": "markdown",
   "id": "ce00fbed-91e1-4d37-b29f-ecd5b5181348",
   "metadata": {},
   "source": [
    "# 04: Creating a CF-NetCDF file"
   ]
  },
  {
   "cell_type": "markdown",
   "id": "48cf68de-1db1-4b76-816f-c2fe3314c27d",
   "metadata": {},
   "source": [
    "In this session we will create a basic NetCDF file that compliant with the Attribute Convention for Data Discovery (ACDD) and Climate and Forecast (CF) convention.\n",
    "\n",
    "Firstly, let's import the libraries that we will work with."
   ]
  },
  {
   "cell_type": "code",
   "execution_count": 1,
   "id": "92c3022f-21f4-4400-a988-be8f6461f179",
   "metadata": {},
   "outputs": [],
   "source": [
    "if (!requireNamespace(\"RNetCDF\", quietly = TRUE)) {\n",
    "  install.packages(\"RNetCDF\")\n",
    "}\n",
    "library(RNetCDF)"
   ]
  },
  {
   "cell_type": "markdown",
   "id": "50c0fe31-9368-49e3-9670-7b42fc16cda9",
   "metadata": {},
   "source": [
    "## Initialising your file\n",
    "\n",
    "Let's first create an empty object that we are going to use."
   ]
  },
  {
   "cell_type": "code",
   "execution_count": 2,
   "id": "be98456b-24d3-4df6-9213-2d0ea7780559",
   "metadata": {},
   "outputs": [
    {
     "name": "stdout",
     "output_type": "stream",
     "text": [
      "netcdf classic {\n",
      "}\n"
     ]
    }
   ],
   "source": [
    "ncds <- create.nc(\"../data/exported_from_notebooks/test.nc\")\n",
    "print.nc(ncds)"
   ]
  },
  {
   "cell_type": "markdown",
   "id": "c9de97b5-1b89-45b4-912e-08b122ac44cf",
   "metadata": {},
   "source": [
    "## Dimensions and coordinate variables\n",
    "\n",
    "Dimensions define the shape of your data. Variables (your data) can be assigned one or more dimensions. A dimension in most cases is a spatial or temporal dimension (e.g. time, depth, latitude, longitude) but could also be something else (e.g. iteration, number of vertices for data representative of cells).\n",
    "\n",
    "Dimensions tell you how many points you have for each coordinate. Coordinate variables tell you what the values for those points are.\n",
    "\n",
    "Let's imagine a few simple scenarios. I'll initialise a new NetCDF dataset each time.\n",
    "\n",
    "### 1 dimension - depth"
   ]
  },
  {
   "cell_type": "code",
   "execution_count": 3,
   "id": "83966938-f0c4-453b-b60f-33f501fed97c",
   "metadata": {},
   "outputs": [
    {
     "name": "stdout",
     "output_type": "stream",
     "text": [
      "netcdf classic {\n",
      "dimensions:\n",
      "\tdepth = 6 ;\n",
      "}\n"
     ]
    }
   ],
   "source": [
    "ncds <- create.nc(\"../data/exported_from_notebooks/empty.nc\")\n",
    "depths <- c(0,10,20,30,50,100)\n",
    "num_depths = length(depths)\n",
    "\n",
    "dim.def.nc(ncds,\"depth\",num_depths)\n",
    "print.nc(ncds)"
   ]
  },
  {
   "cell_type": "markdown",
   "id": "48680865-bcee-4db0-ac7d-363efd63025d",
   "metadata": {},
   "source": [
    "You then need to add a coordinate variable (I'll again call it *depth*) which has a dimension of *depth*. It is quite common for the dimension and coordinate variable to have the same name.\n",
    "\n",
    "First we define the variable. Below the first argument *ncds* is my NetCDF file, *depth* is the name I am giving to the dimension, *NC_INT* means the values will be integers, and the final argument *depth* says that this variable has one dimension call depth."
   ]
  },
  {
   "cell_type": "code",
   "execution_count": 4,
   "id": "dc586a36-d236-4e7b-9b62-2e95c6250d1f",
   "metadata": {},
   "outputs": [
    {
     "name": "stdout",
     "output_type": "stream",
     "text": [
      "netcdf classic {\n",
      "dimensions:\n",
      "\tdepth = 6 ;\n",
      "variables:\n",
      "\tNC_INT depth(depth) ;\n",
      "}\n"
     ]
    }
   ],
   "source": [
    "var.def.nc(ncds,\"depth\",\"NC_INT\",\"depth\")\n",
    "print.nc(ncds)"
   ]
  },
  {
   "cell_type": "markdown",
   "id": "4eee6d57-07df-4678-8a98-4a516c42ce74",
   "metadata": {},
   "source": [
    "Only now can we add our values to the variables."
   ]
  },
  {
   "cell_type": "code",
   "execution_count": 5,
   "id": "19a56b49-c22d-4337-914f-d939da604f6d",
   "metadata": {},
   "outputs": [
    {
     "name": "stdout",
     "output_type": "stream",
     "text": [
      "netcdf classic {\n",
      "dimensions:\n",
      "\tdepth = 6 ;\n",
      "variables:\n",
      "\tNC_INT depth(depth) ;\n",
      "}\n"
     ]
    }
   ],
   "source": [
    "var.put.nc(ncds,\"depth\", depths)\n",
    "print.nc(ncds)"
   ]
  },
  {
   "cell_type": "markdown",
   "id": "d5e3d6ae-0235-4d1a-89a0-856ee9cfc362",
   "metadata": {},
   "source": [
    "A key feature of a NetCDF file is that there is a defined structure so your data and metadata will always be in the same place within the file. This makes it easier for a machine to read it. We will add more types of data and metadata as we go, but first a few more examples.\n",
    "\n",
    "### A time series of data\n",
    "\n",
    "I'll create a list of timestamps for myself first."
   ]
  },
  {
   "cell_type": "code",
   "execution_count": 6,
   "id": "67a93be6-459f-40a6-a2e9-c6b78a2f5cda",
   "metadata": {},
   "outputs": [
    {
     "name": "stdout",
     "output_type": "stream",
     "text": [
      "[[1]]\n",
      "[1] \"2023-06-18 UTC\"\n",
      "\n",
      "[[2]]\n",
      "[1] \"2023-06-18 03:00:00 UTC\"\n",
      "\n",
      "[[3]]\n",
      "[1] \"2023-06-18 06:00:00 UTC\"\n",
      "\n",
      "[[4]]\n",
      "[1] \"2023-06-18 09:00:00 UTC\"\n",
      "\n",
      "[[5]]\n",
      "[1] \"2023-06-18 12:00:00 UTC\"\n",
      "\n",
      "[[6]]\n",
      "[1] \"2023-06-18 15:00:00 UTC\"\n",
      "\n",
      "[[7]]\n",
      "[1] \"2023-06-18 18:00:00 UTC\"\n",
      "\n",
      "[[8]]\n",
      "[1] \"2023-06-18 21:00:00 UTC\"\n",
      "\n"
     ]
    }
   ],
   "source": [
    "timestamps <- list(\n",
    "  as.POSIXct(\"2023-06-18 00:00:00\", tz = \"UTC\"),\n",
    "  as.POSIXct(\"2023-06-18 03:00:00\", tz = \"UTC\"),\n",
    "  as.POSIXct(\"2023-06-18 06:00:00\", tz = \"UTC\"),\n",
    "  as.POSIXct(\"2023-06-18 09:00:00\", tz = \"UTC\"),\n",
    "  as.POSIXct(\"2023-06-18 12:00:00\", tz = \"UTC\"),\n",
    "  as.POSIXct(\"2023-06-18 15:00:00\", tz = \"UTC\"),\n",
    "  as.POSIXct(\"2023-06-18 18:00:00\", tz = \"UTC\"),\n",
    "  as.POSIXct(\"2023-06-18 21:00:00\", tz = \"UTC\")\n",
    ")\n",
    "\n",
    "print(timestamps)"
   ]
  },
  {
   "cell_type": "markdown",
   "id": "63b5d532-73d7-49aa-9120-51ba7096c5f0",
   "metadata": {},
   "source": [
    "There are specific recommendations on how time should be stored in NetCDF-CF files. I will try to explain briefly here, and there is a nice explanation here too: https://www.unidata.ucar.edu/software/netcdf/time/recs.html\n",
    "\n",
    "It is most common to have a dimension named \"time\" as well as a coordinate variable with the same name. Let's discuss the variable first.\n",
    "\n",
    "The \"time\" variable has units that count from a user defined origin, for example \"hours since 2020-01-01 00:00 UTC\" or \"days since 2014-01-01\". The units may be in years, days, seconds, nanoseconds, etc. Whilst this approach may seem strange at a glance, it allows the times to be stored in conventional numerical formats such as integers or floats, and to our desired precision. This is much more efficient than using a long timestamp string for each coordinate.\n",
    "\n",
    "Some softwares (e.g. xarray in Python, Panoply) know how to interpret this and will convert the data into timestamps in when you extract the data from a CF-NetCDF file. Unfortunately, at the time of writing, RNetCDF can not do this."
   ]
  },
  {
   "cell_type": "code",
   "execution_count": 7,
   "id": "0a427c44-788e-4ec8-9ea0-0c3ae8a2ee68",
   "metadata": {},
   "outputs": [
    {
     "name": "stdout",
     "output_type": "stream",
     "text": [
      "[1]  0  3  6  9 12 15 18 21\n"
     ]
    }
   ],
   "source": [
    "# Calculate the time differences in hours since the first timestamp\n",
    "time_diff_hours <- sapply(timestamps, function(ts) as.integer(difftime(ts, timestamps[[1]], units = \"hours\")))\n",
    "print(time_diff_hours)"
   ]
  },
  {
   "cell_type": "code",
   "execution_count": 8,
   "id": "9f3e3a78-1388-4234-a177-ef32618e0b8b",
   "metadata": {},
   "outputs": [
    {
     "name": "stdout",
     "output_type": "stream",
     "text": [
      "netcdf classic {\n",
      "dimensions:\n",
      "\ttime = 8 ;\n",
      "variables:\n",
      "\tNC_INT time(time) ;\n",
      "}\n"
     ]
    }
   ],
   "source": [
    "num_times = length(time_diff_hours)\n",
    "\n",
    "ncds <- create.nc(\"../data/exported_from_notebooks/1d.nc\")\n",
    "dim.def.nc(ncds,\"time\",num_times)\n",
    "var.def.nc(ncds,\"time\",\"NC_INT\",\"time\")\n",
    "var.put.nc(ncds,\"time\", time_diff_hours)\n",
    "print.nc(ncds)"
   ]
  },
  {
   "cell_type": "markdown",
   "id": "ea4bcb39-8b66-49ef-8701-2ab755b753e9",
   "metadata": {},
   "source": [
    "### Multiple dimensions\n",
    "\n",
    "Now let's create a NetCDF file with multiple dimensions."
   ]
  },
  {
   "cell_type": "code",
   "execution_count": 9,
   "id": "661c7a1c-bed9-4b14-a45b-918e66e5e427",
   "metadata": {},
   "outputs": [
    {
     "name": "stdout",
     "output_type": "stream",
     "text": [
      "netcdf classic {\n",
      "dimensions:\n",
      "\tdepth = 6 ;\n",
      "\tlatitude = 3 ;\n",
      "\tlongitude = 2 ;\n",
      "variables:\n",
      "\tNC_INT depth(depth) ;\n",
      "\tNC_DOUBLE latitude(latitude) ;\n",
      "\tNC_DOUBLE longitude(longitude) ;\n",
      "}\n"
     ]
    }
   ],
   "source": [
    "ncds <- create.nc(\"../data/exported_from_notebooks/3d.nc\")\n",
    "depths <- c(0,10,20,30,50,100)\n",
    "latitudes <- c(78.5271,79.2316,80.3261)\n",
    "longitudes <- c(30.1515,28.5810)\n",
    "\n",
    "dim.def.nc(ncds,\"depth\",length(depths))\n",
    "dim.def.nc(ncds,\"latitude\",length(latitudes))\n",
    "dim.def.nc(ncds,\"longitude\",length(longitudes))\n",
    "\n",
    "var.def.nc(ncds,\"depth\",\"NC_INT\",\"depth\")\n",
    "var.def.nc(ncds,\"latitude\",\"NC_DOUBLE\",\"latitude\") # Values have decimal places, so NC_DOUBLE\n",
    "var.def.nc(ncds,\"longitude\",\"NC_DOUBLE\",\"longitude\") # Values have decimal places, so NC_DOUBLE\n",
    "\n",
    "var.put.nc(ncds, \"depth\", depths)\n",
    "var.put.nc(ncds, \"latitude\", latitudes)\n",
    "var.put.nc(ncds, \"longitude\", longitudes)\n",
    "print.nc(ncds)"
   ]
  },
  {
   "cell_type": "markdown",
   "id": "15956d7d-5e6b-4d59-a631-eb7f0bd188ef",
   "metadata": {},
   "source": [
    "## Data Variables\n",
    "\n",
    "Now let's add some data variables. Starting from the NetCDF file created directly above that has multiple dimensions.\n",
    "\n",
    "You can choose what name you assign for each variable. This is not standardised, but be sensible and clear. I will show you how to make your data variables conform to the CF conventions using variable attributes in the next section.\n",
    "\n",
    "### 1D variable"
   ]
  },
  {
   "cell_type": "code",
   "execution_count": 10,
   "id": "30389ddd-071d-4e7c-aba7-27e33b373b18",
   "metadata": {},
   "outputs": [
    {
     "name": "stdout",
     "output_type": "stream",
     "text": [
      "netcdf classic {\n",
      "dimensions:\n",
      "\tdepth = 6 ;\n",
      "variables:\n",
      "\tNC_INT depth(depth) ;\n",
      "\tNC_DOUBLE chlorophyll_a(depth) ;\n",
      "}\n",
      "[1] 21.5 18.5 17.6 16.8 15.2 14.8\n"
     ]
    }
   ],
   "source": [
    "depths <- c(0,10,20,30,50,100)\n",
    "chlorophyll_a <- c(21.5, 18.5, 17.6, 16.8, 15.2, 14.8) # Must be same length as the dimension\n",
    "\n",
    "ncds <- create.nc(\"../data/exported_from_notebooks/1d_chla.nc\")\n",
    "\n",
    "# Dimension and coordinate variable\n",
    "dim.def.nc(ncds,\"depth\",length(depths))\n",
    "var.def.nc(ncds,\"depth\",\"NC_INT\",\"depth\")\n",
    "var.put.nc(ncds, \"depth\", depths)\n",
    "\n",
    "# Data variable with 1 dimension\n",
    "var.def.nc(ncds,\"chlorophyll_a\", \"NC_DOUBLE\", \"depth\")\n",
    "var.put.nc(ncds,\"chlorophyll_a\", chlorophyll_a)\n",
    "print.nc(ncds)\n",
    "print(var.get.nc(ncds,\"chlorophyll_a\"))"
   ]
  },
  {
   "cell_type": "markdown",
   "id": "be2e77fa-03b8-4fda-81dc-6a78392a4c79",
   "metadata": {},
   "source": [
    "### 2D variable\n",
    "\n",
    "Now a 2D variable, e.g. a grid of longitude and latitudes"
   ]
  },
  {
   "cell_type": "code",
   "execution_count": 11,
   "id": "3f117dd8-bc3b-4ea7-9c1a-7d2efd50bd5f",
   "metadata": {},
   "outputs": [
    {
     "name": "stdout",
     "output_type": "stream",
     "text": [
      "         [,1]     [,2]\n",
      "[1,] 2.443122 5.401321\n",
      "[2,] 7.003335 1.615551\n",
      "[3,] 3.681309 1.860537\n"
     ]
    }
   ],
   "source": [
    "latitudes <- c(78.5271,79.2316,80.3261)\n",
    "longitudes <- c(30.1515,28.5810)\n",
    "\n",
    "# Create random wind speed values\n",
    "wind_speed <- runif(length(latitudes) * length(longitudes), min = 0, max = 10)\n",
    "# Reshape the wind speed values to match the latitude and longitude dimensions\n",
    "wind_speed <- array(wind_speed, dim = c(length(latitudes), length(longitudes)))\n",
    "print(wind_speed)"
   ]
  },
  {
   "cell_type": "code",
   "execution_count": 12,
   "id": "46f848ce-d435-4ec6-9b86-6fabbb2a5687",
   "metadata": {},
   "outputs": [
    {
     "name": "stdout",
     "output_type": "stream",
     "text": [
      "netcdf classic {\n",
      "dimensions:\n",
      "\tlatitude = 3 ;\n",
      "\tlongitude = 2 ;\n",
      "variables:\n",
      "\tNC_DOUBLE latitude(latitude) ;\n",
      "\tNC_DOUBLE longitude(longitude) ;\n",
      "\tNC_DOUBLE wind_speed(latitude, longitude) ;\n",
      "}\n",
      "         [,1]     [,2]\n",
      "[1,] 2.443122 5.401321\n",
      "[2,] 7.003335 1.615551\n",
      "[3,] 3.681309 1.860537\n"
     ]
    }
   ],
   "source": [
    "ncds <- create.nc(\"../data/exported_from_notebooks/2d_wind_speed.nc\")\n",
    "\n",
    "# Dimensions and coordinate variables\n",
    "dim.def.nc(ncds,\"latitude\",length(latitudes))\n",
    "dim.def.nc(ncds,\"longitude\",length(longitudes))\n",
    "var.def.nc(ncds,\"latitude\",\"NC_DOUBLE\",\"latitude\")\n",
    "var.def.nc(ncds,\"longitude\",\"NC_DOUBLE\",\"longitude\")\n",
    "var.put.nc(ncds, \"latitude\", latitudes)\n",
    "var.put.nc(ncds, \"longitude\", longitudes)\n",
    "\n",
    "# Data variable with 2 dimensions\n",
    "var.def.nc(ncds, \"wind_speed\", \"NC_DOUBLE\", c(\"latitude\", \"longitude\"))\n",
    "var.put.nc(ncds, \"wind_speed\", wind_speed)\n",
    "print.nc(ncds)\n",
    "print(var.get.nc(ncds, \"wind_speed\"))"
   ]
  },
  {
   "cell_type": "markdown",
   "id": "d73f61f3-fa61-4b2b-85aa-708c6575925b",
   "metadata": {},
   "source": [
    "Now you can see that the wind_speed variable has two dimensions; latitude and longitude. This is another major advantage of NetCDF files over tabular data formats like CSV or XLSX, which are limited in their ability to store multi-dimensional data. This multidimensional array can be used by code and software as it is without having to do any pre-processing.\n",
    "\n",
    "### 3D variable"
   ]
  },
  {
   "cell_type": "code",
   "execution_count": 13,
   "id": "213df4f9-38e5-40a1-b9b1-8f3b20a709c4",
   "metadata": {},
   "outputs": [
    {
     "name": "stdout",
     "output_type": "stream",
     "text": [
      ", , 1\n",
      "\n",
      "          [,1]       [,2]      [,3]\n",
      "[1,] 0.1361346 0.90073351 0.2326469\n",
      "[2,] 0.6488413 1.94908005 1.4959449\n",
      "[3,] 1.8746425 1.09541937 1.6515163\n",
      "[4,] 1.7595872 0.09336163 0.6527889\n",
      "[5,] 1.5716950 1.78952061 0.8887761\n",
      "[6,] 1.1981615 0.02078348 0.2521414\n",
      "\n",
      ", , 2\n",
      "\n",
      "          [,1]      [,2]       [,3]\n",
      "[1,] 0.3115008 0.6797210 0.02735714\n",
      "[2,] 0.5166283 0.7912134 0.91256528\n",
      "[3,] 0.7515863 1.6685054 0.45925617\n",
      "[4,] 0.3895704 1.2247608 0.62394745\n",
      "[5,] 0.8885752 1.5443498 1.68341676\n",
      "[6,] 1.5692949 1.3393109 0.03876070\n",
      "\n",
      "netcdf classic {\n",
      "dimensions:\n",
      "\tdepth = 6 ;\n",
      "\tlatitude = 3 ;\n",
      "\tlongitude = 2 ;\n",
      "variables:\n",
      "\tNC_INT depth(depth) ;\n",
      "\tNC_DOUBLE latitude(latitude) ;\n",
      "\tNC_DOUBLE longitude(longitude) ;\n",
      "\tNC_DOUBLE sea_water_temperature(depth, latitude, longitude) ;\n",
      "}\n"
     ]
    }
   ],
   "source": [
    "depths <- c(0,10,20,30,50,100)\n",
    "latitudes <- c(78.5271,79.2316,80.3261)\n",
    "longitudes <- c(30.1515,28.5810)\n",
    "sea_water_temperature <- runif(length(depths) * length(latitudes) * length(longitudes), min = 0, max = 2)\n",
    "\n",
    "# Reshape the sea water temperature values to match the depth, latitude, and longitude dimensions\n",
    "sea_water_temperature <- array(sea_water_temperature, dim = c(length(depths), length(latitudes), length(longitudes)))\n",
    "print(sea_water_temperature)\n",
    "\n",
    "ncds <- create.nc(\"../data/exported_from_notebooks/3d_sea_water_temperature.nc\")\n",
    "\n",
    "# Dimensions and coordinate variables\n",
    "dim.def.nc(ncds,\"depth\",length(depths))\n",
    "dim.def.nc(ncds,\"latitude\",length(latitudes))\n",
    "dim.def.nc(ncds,\"longitude\",length(longitudes))\n",
    "\n",
    "var.def.nc(ncds,\"depth\",\"NC_INT\",\"depth\")\n",
    "var.def.nc(ncds,\"latitude\",\"NC_DOUBLE\",\"latitude\")\n",
    "var.def.nc(ncds,\"longitude\",\"NC_DOUBLE\",\"longitude\")\n",
    "\n",
    "var.put.nc(ncds, \"depth\", depths)\n",
    "var.put.nc(ncds, \"latitude\", latitudes)\n",
    "var.put.nc(ncds, \"longitude\", longitudes)\n",
    "\n",
    "# Data variable with 3 dimensions\n",
    "var.def.nc(ncds, \"sea_water_temperature\", \"NC_DOUBLE\", c(\"depth\", \"latitude\", \"longitude\"))\n",
    "var.put.nc(ncds, \"sea_water_temperature\", sea_water_temperature)\n",
    "\n",
    "print.nc(ncds)"
   ]
  },
  {
   "cell_type": "markdown",
   "id": "1ad6dd50-23f3-4eec-b734-2bcfac33eae7",
   "metadata": {},
   "source": [
    "### 3D data from data frame\n",
    "\n",
    "What if you have your data in Excel or a CSV file or some other tabular format? We can load in the data to a dataframe (above) and then convert the data to a 3D array.\n",
    "\n",
    "I'll create a dummy dataframe here."
   ]
  },
  {
   "cell_type": "code",
   "execution_count": 14,
   "id": "210bdea4-dd5a-40b6-935a-c4f98dfbdf4f",
   "metadata": {},
   "outputs": [
    {
     "data": {
      "text/html": [
       "<table class=\"dataframe\">\n",
       "<caption>A data.frame: 6 × 4</caption>\n",
       "<thead>\n",
       "\t<tr><th></th><th scope=col>Depth</th><th scope=col>Latitude</th><th scope=col>Longitude</th><th scope=col>Salinity</th></tr>\n",
       "\t<tr><th></th><th scope=col>&lt;dbl&gt;</th><th scope=col>&lt;dbl&gt;</th><th scope=col>&lt;dbl&gt;</th><th scope=col>&lt;dbl&gt;</th></tr>\n",
       "</thead>\n",
       "<tbody>\n",
       "\t<tr><th scope=row>1</th><td>0</td><td>78.5271</td><td>30.1515</td><td>31.06453</td></tr>\n",
       "\t<tr><th scope=row>2</th><td>0</td><td>78.5271</td><td>28.5810</td><td>30.61487</td></tr>\n",
       "\t<tr><th scope=row>3</th><td>0</td><td>79.2316</td><td>30.1515</td><td>31.64653</td></tr>\n",
       "\t<tr><th scope=row>4</th><td>0</td><td>79.2316</td><td>28.5810</td><td>31.33057</td></tr>\n",
       "\t<tr><th scope=row>5</th><td>0</td><td>80.3261</td><td>30.1515</td><td>34.89922</td></tr>\n",
       "\t<tr><th scope=row>6</th><td>0</td><td>80.3261</td><td>28.5810</td><td>33.21335</td></tr>\n",
       "</tbody>\n",
       "</table>\n"
      ],
      "text/latex": [
       "A data.frame: 6 × 4\n",
       "\\begin{tabular}{r|llll}\n",
       "  & Depth & Latitude & Longitude & Salinity\\\\\n",
       "  & <dbl> & <dbl> & <dbl> & <dbl>\\\\\n",
       "\\hline\n",
       "\t1 & 0 & 78.5271 & 30.1515 & 31.06453\\\\\n",
       "\t2 & 0 & 78.5271 & 28.5810 & 30.61487\\\\\n",
       "\t3 & 0 & 79.2316 & 30.1515 & 31.64653\\\\\n",
       "\t4 & 0 & 79.2316 & 28.5810 & 31.33057\\\\\n",
       "\t5 & 0 & 80.3261 & 30.1515 & 34.89922\\\\\n",
       "\t6 & 0 & 80.3261 & 28.5810 & 33.21335\\\\\n",
       "\\end{tabular}\n"
      ],
      "text/markdown": [
       "\n",
       "A data.frame: 6 × 4\n",
       "\n",
       "| <!--/--> | Depth &lt;dbl&gt; | Latitude &lt;dbl&gt; | Longitude &lt;dbl&gt; | Salinity &lt;dbl&gt; |\n",
       "|---|---|---|---|---|\n",
       "| 1 | 0 | 78.5271 | 30.1515 | 31.06453 |\n",
       "| 2 | 0 | 78.5271 | 28.5810 | 30.61487 |\n",
       "| 3 | 0 | 79.2316 | 30.1515 | 31.64653 |\n",
       "| 4 | 0 | 79.2316 | 28.5810 | 31.33057 |\n",
       "| 5 | 0 | 80.3261 | 30.1515 | 34.89922 |\n",
       "| 6 | 0 | 80.3261 | 28.5810 | 33.21335 |\n",
       "\n"
      ],
      "text/plain": [
       "  Depth Latitude Longitude Salinity\n",
       "1 0     78.5271  30.1515   31.06453\n",
       "2 0     78.5271  28.5810   30.61487\n",
       "3 0     79.2316  30.1515   31.64653\n",
       "4 0     79.2316  28.5810   31.33057\n",
       "5 0     80.3261  30.1515   34.89922\n",
       "6 0     80.3261  28.5810   33.21335"
      ]
     },
     "metadata": {},
     "output_type": "display_data"
    }
   ],
   "source": [
    "depths <- c(0,10,20,30,50,100)\n",
    "latitudes <- c(78.5271,79.2316,80.3261)\n",
    "longitudes <- c(30.1515,28.5810)\n",
    "\n",
    "# Create lists to store the coordinates and salinity values\n",
    "depth_coordinates <- c()\n",
    "latitude_coordinates <- c()\n",
    "longitude_coordinates <- c()\n",
    "salinity_values <- c()\n",
    "\n",
    "# Generate the coordinates and salinity values for the grid\n",
    "for (d in depths) {\n",
    "  for (lat in latitudes) {\n",
    "    for (lon in longitudes) {\n",
    "      depth_coordinates <- c(depth_coordinates, rep(d, 1))\n",
    "      latitude_coordinates <- c(latitude_coordinates, rep(lat, 1))\n",
    "      longitude_coordinates <- c(longitude_coordinates, rep(lon, 1))\n",
    "      salinity <- runif(1, min = 30, max = 35)  # Random salinity value between 30 and 35\n",
    "      salinity_values <- c(salinity_values, salinity)\n",
    "    }\n",
    "  }\n",
    "}\n",
    "\n",
    "# Create a DataFrame\n",
    "data <- data.frame(\n",
    "  Depth = depth_coordinates,\n",
    "  Latitude = latitude_coordinates,\n",
    "  Longitude = longitude_coordinates,\n",
    "  Salinity = salinity_values\n",
    ")\n",
    "\n",
    "head(data)"
   ]
  },
  {
   "cell_type": "markdown",
   "id": "b0ee52d8-0461-4fb5-a654-c7b6c3d5fc4f",
   "metadata": {},
   "source": [
    "Now, let's create a multidimensional grid for our salinity variable. We need to be a bit careful with the order here. The dataframe is sorted first by depth (6 depths), then by latitude (3 latitudes), then by longitude (2 longitudes). We should mirror that order."
   ]
  },
  {
   "cell_type": "code",
   "execution_count": 15,
   "id": "a4a518a5-9b21-423c-b83d-21f2864b4c8b",
   "metadata": {},
   "outputs": [
    {
     "name": "stdout",
     "output_type": "stream",
     "text": [
      ", , 1\n",
      "\n",
      "         [,1]     [,2]     [,3]\n",
      "[1,] 31.06453 32.97830 32.37812\n",
      "[2,] 30.61487 33.52608 31.33744\n",
      "[3,] 31.64653 30.92848 32.11028\n",
      "[4,] 31.33057 33.87089 30.97260\n",
      "[5,] 34.89922 33.46095 34.26373\n",
      "[6,] 33.21335 34.62125 31.95200\n",
      "\n",
      ", , 2\n",
      "\n",
      "         [,1]     [,2]     [,3]\n",
      "[1,] 30.27344 31.74084 34.07819\n",
      "[2,] 30.65454 30.30101 34.33948\n",
      "[3,] 30.99002 32.05883 33.80248\n",
      "[4,] 33.28909 34.89324 30.53508\n",
      "[5,] 32.13091 31.33350 34.35797\n",
      "[6,] 33.89462 32.14635 32.05265\n",
      "\n"
     ]
    }
   ],
   "source": [
    "salinity_3d_array <- array(data$Salinity, dim = c(length(depths), length(latitudes),  length(longitudes)))\n",
    "print(salinity_3d_array)"
   ]
  },
  {
   "cell_type": "code",
   "execution_count": 16,
   "id": "dd83a310-6651-4e70-b96d-6c884d1f3157",
   "metadata": {},
   "outputs": [
    {
     "name": "stdout",
     "output_type": "stream",
     "text": [
      "netcdf classic {\n",
      "dimensions:\n",
      "\tdepth = 6 ;\n",
      "\tlatitude = 3 ;\n",
      "\tlongitude = 2 ;\n",
      "variables:\n",
      "\tNC_INT depth(depth) ;\n",
      "\tNC_DOUBLE latitude(latitude) ;\n",
      "\tNC_DOUBLE longitude(longitude) ;\n",
      "\tNC_DOUBLE salinity(depth, latitude, longitude) ;\n",
      "}\n"
     ]
    }
   ],
   "source": [
    "ncds <- create.nc(\"../data/exported_from_notebooks/3d_sea_water_salinity.nc\")\n",
    "\n",
    "# Dimensions and coordinate variables\n",
    "dim.def.nc(ncds,\"depth\",length(depths))\n",
    "dim.def.nc(ncds,\"latitude\",length(latitudes))\n",
    "dim.def.nc(ncds,\"longitude\",length(longitudes))\n",
    "\n",
    "var.def.nc(ncds,\"depth\",\"NC_INT\",\"depth\")\n",
    "var.def.nc(ncds,\"latitude\",\"NC_DOUBLE\",\"latitude\")\n",
    "var.def.nc(ncds,\"longitude\",\"NC_DOUBLE\",\"longitude\")\n",
    "\n",
    "var.put.nc(ncds, \"depth\", depths)\n",
    "var.put.nc(ncds, \"latitude\", latitudes)\n",
    "var.put.nc(ncds, \"longitude\", longitudes)\n",
    "\n",
    "# Data variable with 3 dimensions\n",
    "var.def.nc(ncds, \"salinity\", \"NC_DOUBLE\", c(\"depth\", \"latitude\", \"longitude\"))\n",
    "var.put.nc(ncds, \"salinity\", salinity_3d_array)\n",
    "\n",
    "print.nc(ncds)"
   ]
  },
  {
   "cell_type": "markdown",
   "id": "63ddb19c-fdaa-4af5-ae0f-92b611a23fb2",
   "metadata": {},
   "source": [
    "## Metadata (attributes)\n",
    "\n",
    "Hurrah! Your data are in the xarray dataset object. But are you ready to export a NetCDF file? Will that file be compliant with the FAIR principles? No! We need metadata.\n",
    "\n",
    "Variable attributes are metadata that describe the variables. Global attributes are metadata that describe the file as a whole. You can find a list of attributes here provided by the Climate & Forecast (CF) conventions:\n",
    "https://cfconventions.org/Data/cf-conventions/cf-conventions-1.11/cf-conventions.html#attribute-appendix\n",
    "\n",
    "The table in the link above specifies which attributes can be used as global attributes and which can be used as variable attributes. Some attributes can be used as either.\n",
    "\n",
    "The CF conventions are light on discovery metadata. Discovery metadata are metadata that can be used to find data. For example, when and where the data were collected and by whom, some keywords etc. So we also use the ACDD convention - The Attribute Convention for Data Discovery.\n",
    "https://wiki.esipfed.org/Attribute_Convention_for_Data_Discovery_1-3\n",
    "\n",
    "This is a list of recommendations. SIOS advises that people follow the requirements of the Arctic Data Centre, here. Requirements are a more effective way to encourage consistency than recommendations. These requirements are compliant with the ACDD conventions:\n",
    "https://adc.met.no/node/4\n",
    "\n",
    "### Variable attributes\n",
    "\n",
    "The CF conventions provide examples of which variable attributes you should be including in your CF-NetCDF file. For example for latitude:\n",
    "https://cfconventions.org/Data/cf-conventions/cf-conventions-1.10/cf-conventions.html#latitude-coordinate\n",
    "\n",
    "Let's replicate that setup.\n",
    "\n",
    "Additionally, the ACDD convention recommends that and attribute *coverage_content_type* is also added, which is used to state whether the data are *modelResult*, *physicalMeasurement* or something else, see the list here: \n",
    "https://wiki.esipfed.org/Attribute_Convention_for_Data_Discovery_1-3#Highly_Recommended_Variable_Attributes\n",
    "\n",
    "And remember we might want to select additional applicable attributes for our variables from this section of the CF conventions:\n",
    "https://cfconventions.org/Data/cf-conventions/cf-conventions-1.11/cf-conventions.html#attribute-appendix"
   ]
  },
  {
   "cell_type": "code",
   "execution_count": 17,
   "id": "d009b225-2890-45b2-bde4-ee750b6a5f60",
   "metadata": {},
   "outputs": [
    {
     "name": "stdout",
     "output_type": "stream",
     "text": [
      "netcdf classic {\n",
      "dimensions:\n",
      "\tdepth = 6 ;\n",
      "\tlatitude = 3 ;\n",
      "\tlongitude = 2 ;\n",
      "variables:\n",
      "\tNC_INT depth(depth) ;\n",
      "\t\tNC_CHAR depth:standard_name = \"depth\" ;\n",
      "\t\tNC_CHAR depth:long_name = \"depth below sea level\" ;\n",
      "\t\tNC_CHAR depth:units = \"meters\" ;\n",
      "\t\tNC_CHAR depth:coverage_content_type = \"coordinate\" ;\n",
      "\t\tNC_CHAR depth:positive = \"down\" ;\n",
      "\tNC_DOUBLE latitude(latitude) ;\n",
      "\t\tNC_CHAR latitude:standard_name = \"latitude\" ;\n",
      "\t\tNC_CHAR latitude:long_name = \"latitude\" ;\n",
      "\t\tNC_CHAR latitude:units = \"degrees_north\" ;\n",
      "\t\tNC_CHAR latitude:coverage_content_type = \"coordinate\" ;\n",
      "\tNC_DOUBLE longitude(longitude) ;\n",
      "\t\tNC_CHAR longitude:standard_name = \"longitude\" ;\n",
      "\t\tNC_CHAR longitude:long_name = \"longitude\" ;\n",
      "\t\tNC_CHAR longitude:units = \"degrees_east\" ;\n",
      "\t\tNC_CHAR longitude:coverage_content_type = \"coordinate\" ;\n",
      "\tNC_DOUBLE salinity(depth, latitude, longitude) ;\n",
      "\t\tNC_CHAR salinity:standard_name = \"sea_water_salinity\" ;\n",
      "\t\tNC_CHAR salinity:long_name = \"a description about the variable in your own words\" ;\n",
      "\t\tNC_CHAR salinity:units = \"psu\" ;\n",
      "\t\tNC_CHAR salinity:coverage_content_type = \"modelResult\" ;\n",
      "}\n"
     ]
    }
   ],
   "source": [
    "att.put.nc(ncds, \"latitude\", \"standard_name\", \"NC_CHAR\", \"latitude\")\n",
    "att.put.nc(ncds, \"latitude\", \"long_name\", \"NC_CHAR\", \"latitude\")\n",
    "att.put.nc(ncds, \"latitude\", \"units\", \"NC_CHAR\", \"degrees_north\")\n",
    "att.put.nc(ncds, \"latitude\", \"coverage_content_type\", \"NC_CHAR\", \"coordinate\")\n",
    "\n",
    "att.put.nc(ncds, \"longitude\", \"standard_name\", \"NC_CHAR\", \"longitude\")\n",
    "att.put.nc(ncds, \"longitude\", \"long_name\", \"NC_CHAR\", \"longitude\")\n",
    "att.put.nc(ncds, \"longitude\", \"units\", \"NC_CHAR\", \"degrees_east\")\n",
    "att.put.nc(ncds, \"longitude\", \"coverage_content_type\", \"NC_CHAR\", \"coordinate\")\n",
    "\n",
    "att.put.nc(ncds, \"depth\", \"standard_name\", \"NC_CHAR\", \"depth\")\n",
    "att.put.nc(ncds, \"depth\", \"long_name\", \"NC_CHAR\", \"depth below sea level\")\n",
    "att.put.nc(ncds, \"depth\", \"units\", \"NC_CHAR\", \"meters\")\n",
    "att.put.nc(ncds, \"depth\", \"coverage_content_type\", \"NC_CHAR\", \"coordinate\")\n",
    "att.put.nc(ncds, \"depth\", \"positive\", \"NC_CHAR\", \"down\")\n",
    "\n",
    "att.put.nc(ncds, \"salinity\", \"standard_name\", \"NC_CHAR\", \"sea_water_salinity\")\n",
    "att.put.nc(ncds, \"salinity\", \"long_name\", \"NC_CHAR\", \"a description about the variable in your own words\")\n",
    "att.put.nc(ncds, \"salinity\", \"units\", \"NC_CHAR\", \"psu\")\n",
    "att.put.nc(ncds, \"salinity\", \"coverage_content_type\", \"NC_CHAR\", \"modelResult\")\n",
    "\n",
    "print.nc(ncds)"
   ]
  },
  {
   "cell_type": "markdown",
   "id": "9ad2f8c3-ba1e-4ea8-be56-84d9387079e0",
   "metadata": {},
   "source": [
    "### Global attributes\n",
    "\n",
    "As mentioned above, the requirements of the Arctic Data Centre for global attributes (based on the ACDD convention) can serve as a guide for which global attributes you should be including. https://adc.met.no/node/4\n",
    "\n",
    "And remember we might want to select additional applicable global attributes from this section of the CF conventions:\n",
    "https://cfconventions.org/Data/cf-conventions/cf-conventions-1.11/cf-conventions.html#attribute-appendix\n",
    "\n",
    "Go through and add each required attribute and any others you wish to. You are also welcome to add any custom attributes on top of these requirements.\n",
    "\n",
    "In RNetCDF, the syntax for adding a global attribute is the same as for adding a variable attribute, but we use a special variable name *NC_GLOBAL*."
   ]
  },
  {
   "cell_type": "code",
   "execution_count": 18,
   "id": "1b97a469-99ed-430d-b751-2b126eec7221",
   "metadata": {},
   "outputs": [
    {
     "name": "stdout",
     "output_type": "stream",
     "text": [
      "netcdf classic {\n",
      "dimensions:\n",
      "\tdepth = 6 ;\n",
      "\tlatitude = 3 ;\n",
      "\tlongitude = 2 ;\n",
      "variables:\n",
      "\tNC_INT depth(depth) ;\n",
      "\t\tNC_CHAR depth:standard_name = \"depth\" ;\n",
      "\t\tNC_CHAR depth:long_name = \"depth below sea level\" ;\n",
      "\t\tNC_CHAR depth:units = \"meters\" ;\n",
      "\t\tNC_CHAR depth:coverage_content_type = \"coordinate\" ;\n",
      "\t\tNC_CHAR depth:positive = \"down\" ;\n",
      "\tNC_DOUBLE latitude(latitude) ;\n",
      "\t\tNC_CHAR latitude:standard_name = \"latitude\" ;\n",
      "\t\tNC_CHAR latitude:long_name = \"latitude\" ;\n",
      "\t\tNC_CHAR latitude:units = \"degrees_north\" ;\n",
      "\t\tNC_CHAR latitude:coverage_content_type = \"coordinate\" ;\n",
      "\tNC_DOUBLE longitude(longitude) ;\n",
      "\t\tNC_CHAR longitude:standard_name = \"longitude\" ;\n",
      "\t\tNC_CHAR longitude:long_name = \"longitude\" ;\n",
      "\t\tNC_CHAR longitude:units = \"degrees_east\" ;\n",
      "\t\tNC_CHAR longitude:coverage_content_type = \"coordinate\" ;\n",
      "\tNC_DOUBLE salinity(depth, latitude, longitude) ;\n",
      "\t\tNC_CHAR salinity:standard_name = \"sea_water_salinity\" ;\n",
      "\t\tNC_CHAR salinity:long_name = \"a description about the variable in your own words\" ;\n",
      "\t\tNC_CHAR salinity:units = \"psu\" ;\n",
      "\t\tNC_CHAR salinity:coverage_content_type = \"modelResult\" ;\n",
      "\n",
      "// global attributes:\n",
      "\t\tNC_CHAR :id = \"your_unique_id_here\" ;\n",
      "\t\tNC_CHAR :naming_authority = \"institution that provides the id\" ;\n",
      "\t\tNC_CHAR :title = \"my title\" ;\n",
      "\t\tNC_CHAR :summary = \"analagous to an abstract in the paper, describing the data and how they were collected and processed\" ;\n",
      "\t\tNC_CHAR :creator_type = \"person\" ;\n",
      "\t\tNC_CHAR :creator_name = \"John Smith; Luke Marsden\" ;\n",
      "\t\tNC_CHAR :creator_email = \"johns@unis.no; lukem@met.no\" ;\n",
      "\t\tNC_CHAR :creator_institution = \"The University Centre in Svalbard (UNIS); Norwegian Meteorological Institute (MET)\" ;\n",
      "\t\tNC_CHAR :creator_url = \"; https://orcid.org/0000-0002-9746-544X\" ;\n",
      "\t\tNC_CHAR :time_coverage_start = \"2020-05-10T08:14:58Z\" ;\n",
      "\t\tNC_CHAR :time_coverage_end = \"2020-05-10T11:51:12Z\" ;\n",
      "\t\tNC_CHAR :keywords = \"sea_water_salinity\" ;\n",
      "\t\tNC_CHAR :keywords_vocabulary = \"CF:NetCDF COARDS Climate and Forecast Standard Names\" ;\n",
      "\t\tNC_CHAR :institution = \"Your Institution\" ;\n",
      "\t\tNC_CHAR :publisher_name = \"Publisher Name\" ;\n",
      "\t\tNC_CHAR :publisher_email = \"publisher@email.com\" ;\n",
      "\t\tNC_CHAR :publisher_url = \"publisher_url_here\" ;\n",
      "\t\tNC_CHAR :license = \"https://creativecommons.org/licenses/by/4.0/\" ;\n",
      "\t\tNC_CHAR :Conventions = \"ACDD-1.3, CF-1.8\" ;\n",
      "\t\tNC_CHAR :project = \"Your project name\" ;\n",
      "}\n"
     ]
    }
   ],
   "source": [
    "# Define the global attributes as an R list\n",
    "attributes <- list(\n",
    "  id = \"your_unique_id_here\",\n",
    "  naming_authority = \"institution that provides the id\",\n",
    "  title = \"my title\",\n",
    "  summary = \"analagous to an abstract in the paper, describing the data and how they were collected and processed\",\n",
    "  creator_type = \"person\",\n",
    "  creator_name = \"John Smith; Luke Marsden\", # Who collected and processed the data up to this point\n",
    "  creator_email = \"johns@unis.no; lukem@met.no\",\n",
    "  creator_institution = \"The University Centre in Svalbard (UNIS); Norwegian Meteorological Institute (MET)\",\n",
    "  creator_url = \"; https://orcid.org/0000-0002-9746-544X\", # OrcID is best practice if possible. Other URLs okay, or leave blank for authors that don't have one.\n",
    "  time_coverage_start = \"2020-05-10T08:14:58Z\",\n",
    "  time_coverage_end = \"2020-05-10T11:51:12Z\",\n",
    "  keywords = \"sea_water_salinity\",\n",
    "  keywords_vocabulary = \"CF:NetCDF COARDS Climate and Forecast Standard Names\",\n",
    "  institution = \"Your Institution\",\n",
    "  publisher_name = \"Publisher Name\", # Data centre where your data will be published\n",
    "  publisher_email = \"publisher@email.com\",\n",
    "  publisher_url = \"publisher_url_here\",\n",
    "  license = \"https://creativecommons.org/licenses/by/4.0/\",\n",
    "  Conventions = \"ACDD-1.3, CF-1.8\", # Choose which ever version you will check your file against using a compliance checker\n",
    "  project = \"Your project name\"\n",
    ")\n",
    "\n",
    "# Loop through the attributes and add them to the NetCDF file. \n",
    "for (key in names(attributes)) {\n",
    "  att.put.nc(ncds, \"NC_GLOBAL\", key, \"NC_CHAR\", attributes[[key]])\n",
    "}\n",
    "\n",
    "# These attributes are all \"NC_CHAR\" format. You will need to adjust the code if writing other formats.\n",
    "\n",
    "print.nc(ncds)"
   ]
  },
  {
   "cell_type": "markdown",
   "id": "35cf194e-af3c-45d8-a936-4cede510a7a8",
   "metadata": {},
   "source": [
    "In this case, it makes sense to add some attributes based on information we have already provided."
   ]
  },
  {
   "cell_type": "code",
   "execution_count": 19,
   "id": "6cf6861c-18b1-46f9-9a21-e82e7cd02ac1",
   "metadata": {},
   "outputs": [],
   "source": [
    "att.put.nc(ncds, \"NC_GLOBAL\", \"geospatial_lat_min\", \"NC_FLOAT\", min(lat))\n",
    "att.put.nc(ncds, \"NC_GLOBAL\", \"geospatial_lat_max\", \"NC_FLOAT\", max(lat))\n",
    "att.put.nc(ncds, \"NC_GLOBAL\", \"geospatial_lon_min\", \"NC_FLOAT\", min(lon))\n",
    "att.put.nc(ncds, \"NC_GLOBAL\", \"geospatial_lon_max\", \"NC_FLOAT\", max(lon))"
   ]
  },
  {
   "cell_type": "markdown",
   "id": "0bfde72e-71dd-4d25-99ac-c5315fffe7f4",
   "metadata": {},
   "source": [
    "We can include the current time in the *date_created* and *history* attributes."
   ]
  },
  {
   "cell_type": "code",
   "execution_count": 20,
   "id": "d6bbcf2e-cdce-4675-ac16-889cb323e528",
   "metadata": {},
   "outputs": [
    {
     "name": "stdout",
     "output_type": "stream",
     "text": [
      "netcdf classic {\n",
      "dimensions:\n",
      "\tdepth = 6 ;\n",
      "\tlatitude = 3 ;\n",
      "\tlongitude = 2 ;\n",
      "variables:\n",
      "\tNC_INT depth(depth) ;\n",
      "\t\tNC_CHAR depth:standard_name = \"depth\" ;\n",
      "\t\tNC_CHAR depth:long_name = \"depth below sea level\" ;\n",
      "\t\tNC_CHAR depth:units = \"meters\" ;\n",
      "\t\tNC_CHAR depth:coverage_content_type = \"coordinate\" ;\n",
      "\t\tNC_CHAR depth:positive = \"down\" ;\n",
      "\tNC_DOUBLE latitude(latitude) ;\n",
      "\t\tNC_CHAR latitude:standard_name = \"latitude\" ;\n",
      "\t\tNC_CHAR latitude:long_name = \"latitude\" ;\n",
      "\t\tNC_CHAR latitude:units = \"degrees_north\" ;\n",
      "\t\tNC_CHAR latitude:coverage_content_type = \"coordinate\" ;\n",
      "\tNC_DOUBLE longitude(longitude) ;\n",
      "\t\tNC_CHAR longitude:standard_name = \"longitude\" ;\n",
      "\t\tNC_CHAR longitude:long_name = \"longitude\" ;\n",
      "\t\tNC_CHAR longitude:units = \"degrees_east\" ;\n",
      "\t\tNC_CHAR longitude:coverage_content_type = \"coordinate\" ;\n",
      "\tNC_DOUBLE salinity(depth, latitude, longitude) ;\n",
      "\t\tNC_CHAR salinity:standard_name = \"sea_water_salinity\" ;\n",
      "\t\tNC_CHAR salinity:long_name = \"a description about the variable in your own words\" ;\n",
      "\t\tNC_CHAR salinity:units = \"psu\" ;\n",
      "\t\tNC_CHAR salinity:coverage_content_type = \"modelResult\" ;\n",
      "\n",
      "// global attributes:\n",
      "\t\tNC_CHAR :id = \"your_unique_id_here\" ;\n",
      "\t\tNC_CHAR :naming_authority = \"institution that provides the id\" ;\n",
      "\t\tNC_CHAR :title = \"my title\" ;\n",
      "\t\tNC_CHAR :summary = \"analagous to an abstract in the paper, describing the data and how they were collected and processed\" ;\n",
      "\t\tNC_CHAR :creator_type = \"person\" ;\n",
      "\t\tNC_CHAR :creator_name = \"John Smith; Luke Marsden\" ;\n",
      "\t\tNC_CHAR :creator_email = \"johns@unis.no; lukem@met.no\" ;\n",
      "\t\tNC_CHAR :creator_institution = \"The University Centre in Svalbard (UNIS); Norwegian Meteorological Institute (MET)\" ;\n",
      "\t\tNC_CHAR :creator_url = \"; https://orcid.org/0000-0002-9746-544X\" ;\n",
      "\t\tNC_CHAR :time_coverage_start = \"2020-05-10T08:14:58Z\" ;\n",
      "\t\tNC_CHAR :time_coverage_end = \"2020-05-10T11:51:12Z\" ;\n",
      "\t\tNC_CHAR :keywords = \"sea_water_salinity\" ;\n",
      "\t\tNC_CHAR :keywords_vocabulary = \"CF:NetCDF COARDS Climate and Forecast Standard Names\" ;\n",
      "\t\tNC_CHAR :institution = \"Your Institution\" ;\n",
      "\t\tNC_CHAR :publisher_name = \"Publisher Name\" ;\n",
      "\t\tNC_CHAR :publisher_email = \"publisher@email.com\" ;\n",
      "\t\tNC_CHAR :publisher_url = \"publisher_url_here\" ;\n",
      "\t\tNC_CHAR :license = \"https://creativecommons.org/licenses/by/4.0/\" ;\n",
      "\t\tNC_CHAR :Conventions = \"ACDD-1.3, CF-1.8\" ;\n",
      "\t\tNC_CHAR :project = \"Your project name\" ;\n",
      "\t\tNC_FLOAT :geospatial_lat_min = 80.3261032104492 ;\n",
      "\t\tNC_FLOAT :geospatial_lat_max = 80.3261032104492 ;\n",
      "\t\tNC_FLOAT :geospatial_lon_min = 28.5809993743896 ;\n",
      "\t\tNC_FLOAT :geospatial_lon_max = 28.5809993743896 ;\n",
      "\t\tNC_CHAR :date_created = \"2024-05-31T09:15:13Z\" ;\n",
      "\t\tNC_CHAR :history = \"File created at 2024-05-31 09:15:13.318594 using RNetCDF by Luke Marsden\" ;\n",
      "}\n"
     ]
    }
   ],
   "source": [
    "dtnow <- Sys.time()\n",
    "attr(dtnow, \"tzone\") <- \"UTC\"\n",
    "dt8601 <- format(dtnow, \"%Y-%m-%dT%H:%M:%SZ\") # date and time in ISO 8601 format\n",
    "att.put.nc(ncds, \"NC_GLOBAL\", \"date_created\", \"NC_CHAR\", dt8601)\n",
    "history <- paste(\"File created at\", dtnow, \"using RNetCDF by Luke Marsden\")\n",
    "att.put.nc(ncds, \"NC_GLOBAL\", \"history\", \"NC_CHAR\", history)\n",
    "print.nc(ncds)"
   ]
  },
  {
   "cell_type": "markdown",
   "id": "d6db5707-5eb2-4bcf-b9a2-4e4698b77cb6",
   "metadata": {},
   "source": [
    "Finally, we close the file."
   ]
  },
  {
   "cell_type": "code",
   "execution_count": 21,
   "id": "77305bd0-66e2-4e6c-a05e-6c215cedfa28",
   "metadata": {},
   "outputs": [],
   "source": [
    "close.nc(ncds)"
   ]
  },
  {
   "cell_type": "markdown",
   "id": "3f7fb048-120a-4d10-97b0-335ee5cdd0d2",
   "metadata": {},
   "source": [
    "## Checking your data\n",
    "\n",
    "Make sure you thoroughly check your file and it ideally should be run past all co-authors, just like when publishing a paper.\n",
    "\n",
    "There are also validators you can run your files by to make sure that you file is compliant with the ACDD and CF conventions before you publish it. For example: https://compliance.ioos.us/index.html"
   ]
  },
  {
   "cell_type": "markdown",
   "id": "36f6a8d6",
   "metadata": {},
   "source": [
    "## How to cite this course\n",
    "\n",
    "If you think this course contributed to the work you are doing, consider citing it in your list of references. Here is a recommended citation:\n",
    "\n",
    "Marsden, L. (2024, May 31). NetCDF in R - from beginner to pro. Zenodo. https://doi.org/10.5281/zenodo.11400754\n",
    "\n",
    "And you can navigate to the publication and export the citation in different styles and formats by clicking the icon below.\n",
    "\n",
    "You can view the Jupyter book at https://lhmarsden.github.io/NetCDF_in_R_from_beginner_to_pro\n",
    "\n",
    "[![DOI](https://zenodo.org/badge/DOI/10.5281/zenodo.11400754.svg)](https://doi.org/10.5281/zenodo.11400754)"
   ]
  }
 ],
 "metadata": {
  "kernelspec": {
   "display_name": "R",
   "language": "R",
   "name": "ir"
  },
  "language_info": {
   "codemirror_mode": "r",
   "file_extension": ".r",
   "mimetype": "text/x-r-source",
   "name": "R",
   "pygments_lexer": "r",
   "version": "4.3.3"
  }
 },
 "nbformat": 4,
 "nbformat_minor": 5
}
